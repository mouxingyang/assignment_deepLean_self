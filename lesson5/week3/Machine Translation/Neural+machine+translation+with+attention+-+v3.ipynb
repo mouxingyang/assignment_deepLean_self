{
 "cells": [
  {
   "cell_type": "markdown",
   "metadata": {},
   "source": [
    "# Neural Machine Translation\n",
    "\n",
    "Welcome to your first programming assignment for this week! \n",
    "\n",
    "You will build a Neural Machine Translation (NMT) model to translate human readable dates (\"25th of June, 2009\") into machine readable dates (\"2009-06-25\"). You will do this using an attention model, one of the most sophisticated sequence to sequence models. \n",
    "\n",
    "This notebook was produced together with NVIDIA's Deep Learning Institute. \n",
    "\n",
    "Let's load all the packages you will need for this assignment."
   ]
  },
  {
   "cell_type": "code",
   "execution_count": 43,
   "metadata": {},
   "outputs": [],
   "source": [
    "from keras.layers import Bidirectional, Concatenate, Permute, Dot, Input, LSTM, Multiply\n",
    "from keras.layers import RepeatVector, Dense, Activation, Lambda\n",
    "from keras.optimizers import Adam\n",
    "from keras.utils import to_categorical\n",
    "from keras.models import load_model, Model\n",
    "import keras.backend as K\n",
    "import numpy as np\n",
    "\n",
    "from faker import Faker\n",
    "import random\n",
    "from tqdm import tqdm\n",
    "from babel.dates import format_date\n",
    "from nmt_utils import *\n",
    "import matplotlib.pyplot as plt\n",
    "%matplotlib inline"
   ]
  },
  {
   "cell_type": "markdown",
   "metadata": {},
   "source": [
    "## 1 - Translating human readable dates into machine readable dates\n",
    "\n",
    "The model you will build here could be used to translate from one language to another, such as translating from English to Hindi. However, language translation requires massive datasets and usually takes days of training on GPUs. To give you a place to experiment with these models even without using massive datasets, we will instead use a simpler \"date translation\" task. \n",
    "\n",
    "The network will input a date written in a variety of possible formats (*e.g. \"the 29th of August 1958\", \"03/30/1968\", \"24 JUNE 1987\"*) and translate them into standardized, machine readable dates (*e.g. \"1958-08-29\", \"1968-03-30\", \"1987-06-24\"*). We will have the network learn to output dates in the common machine-readable format YYYY-MM-DD. \n",
    "\n",
    "\n",
    "\n",
    "<!-- \n",
    "Take a look at [nmt_utils.py](./nmt_utils.py) to see all the formatting. Count and figure out how the formats work, you will need this knowledge later. !--> "
   ]
  },
  {
   "cell_type": "markdown",
   "metadata": {},
   "source": [
    "### 1.1 - Dataset\n",
    "\n",
    "We will train the model on a dataset of 10000 human readable dates and their equivalent, standardized, machine readable dates. Let's run the following cells to load the dataset and print some examples. "
   ]
  },
  {
   "cell_type": "code",
   "execution_count": 44,
   "metadata": {},
   "outputs": [
    {
     "name": "stderr",
     "output_type": "stream",
     "text": [
      "100%|██████████████████████████████████| 10000/10000 [00:01<00:00, 8664.12it/s]\n"
     ]
    }
   ],
   "source": [
    "m = 10000\n",
    "dataset, human_vocab, machine_vocab, inv_machine_vocab = load_dataset(m)"
   ]
  },
  {
   "cell_type": "code",
   "execution_count": 47,
   "metadata": {},
   "outputs": [
    {
     "data": {
      "text/plain": [
       "[('20 april 1973', '1973-04-20'),\n",
       " ('wednesday november 11 1970', '1970-11-11'),\n",
       " ('tuesday november 19 1985', '1985-11-19'),\n",
       " ('1/16/18', '2018-01-16'),\n",
       " ('monday october 11 1999', '1999-10-11'),\n",
       " ('friday january 11 2002', '2002-01-11'),\n",
       " ('23 apr 1979', '1979-04-23'),\n",
       " ('18 02 71', '1971-02-18'),\n",
       " ('friday october 10 2008', '2008-10-10'),\n",
       " ('friday june 17 1994', '1994-06-17')]"
      ]
     },
     "execution_count": 47,
     "metadata": {},
     "output_type": "execute_result"
    }
   ],
   "source": [
    "dataset[:10]"
   ]
  },
  {
   "cell_type": "markdown",
   "metadata": {},
   "source": [
    "You've loaded:\n",
    "- `dataset`: a list of tuples of (human readable date, machine readable date)\n",
    "- `human_vocab`: a python dictionary mapping all characters used in the human readable dates to an integer-valued index \n",
    "- `machine_vocab`: a python dictionary mapping all characters used in machine readable dates to an integer-valued index. These indices are not necessarily consistent with `human_vocab`. \n",
    "- `inv_machine_vocab`: the inverse dictionary of `machine_vocab`, mapping from indices back to characters. \n",
    "\n",
    "Let's preprocess the data and map the raw text data into the index values. We will also use Tx=30 (which we assume is the maximum length of the human readable date; if we get a longer input, we would have to truncate it) and Ty=10 (since \"YYYY-MM-DD\" is 10 characters long). "
   ]
  },
  {
   "cell_type": "code",
   "execution_count": 48,
   "metadata": {},
   "outputs": [
    {
     "name": "stdout",
     "output_type": "stream",
     "text": [
      "X.shape: (10000, 30)\n",
      "Y.shape: (10000, 10)\n",
      "Xoh.shape: (10000, 30, 37)\n",
      "Yoh.shape: (10000, 10, 11)\n"
     ]
    }
   ],
   "source": [
    "Tx = 30\n",
    "Ty = 10\n",
    "X, Y, Xoh, Yoh = preprocess_data(dataset, human_vocab, machine_vocab, Tx, Ty)\n",
    "\n",
    "print(\"X.shape:\", X.shape)\n",
    "print(\"Y.shape:\", Y.shape)\n",
    "print(\"Xoh.shape:\", Xoh.shape)\n",
    "print(\"Yoh.shape:\", Yoh.shape)"
   ]
  },
  {
   "cell_type": "markdown",
   "metadata": {},
   "source": [
    "You now have:\n",
    "- `X`: a processed version of the human readable dates in the training set, where each character is replaced by an index mapped to the character via `human_vocab`. Each date is further padded to $T_x$ values with a special character (< pad >). `X.shape = (m, Tx)`\n",
    "- `Y`: a processed version of the machine readable dates in the training set, where each character is replaced by the index it is mapped to in `machine_vocab`. You should have `Y.shape = (m, Ty)`. \n",
    "- `Xoh`: one-hot version of `X`, the \"1\" entry's index is mapped to the character thanks to `human_vocab`. `Xoh.shape = (m, Tx, len(human_vocab))`\n",
    "- `Yoh`: one-hot version of `Y`, the \"1\" entry's index is mapped to the character thanks to `machine_vocab`. `Yoh.shape = (m, Tx, len(machine_vocab))`. Here, `len(machine_vocab) = 11` since there are 11 characters ('-' as well as 0-9). \n"
   ]
  },
  {
   "cell_type": "markdown",
   "metadata": {},
   "source": [
    "Lets also look at some examples of preprocessed training examples. Feel free to play with `index` in the cell below to navigate the dataset and see how source/target dates are preprocessed. "
   ]
  },
  {
   "cell_type": "code",
   "execution_count": 49,
   "metadata": {},
   "outputs": [
    {
     "name": "stdout",
     "output_type": "stream",
     "text": [
      "Source date: 20 april 1973\n",
      "Target date: 1973-04-20\n",
      "\n",
      "Source after preprocessing (indices): [ 5  3  0 13 27 28 21 23  0  4 12 10  6 36 36 36 36 36 36 36 36 36 36 36\n",
      " 36 36 36 36 36 36]\n",
      "Target after preprocessing (indices): [ 2 10  8  4  0  1  5  0  3  1]\n",
      "\n",
      "Source after preprocessing (one-hot): [[0. 0. 0. ... 0. 0. 0.]\n",
      " [0. 0. 0. ... 0. 0. 0.]\n",
      " [1. 0. 0. ... 0. 0. 0.]\n",
      " ...\n",
      " [0. 0. 0. ... 0. 0. 1.]\n",
      " [0. 0. 0. ... 0. 0. 1.]\n",
      " [0. 0. 0. ... 0. 0. 1.]]\n",
      "Target after preprocessing (one-hot): [[0. 0. 1. 0. 0. 0. 0. 0. 0. 0. 0.]\n",
      " [0. 0. 0. 0. 0. 0. 0. 0. 0. 0. 1.]\n",
      " [0. 0. 0. 0. 0. 0. 0. 0. 1. 0. 0.]\n",
      " [0. 0. 0. 0. 1. 0. 0. 0. 0. 0. 0.]\n",
      " [1. 0. 0. 0. 0. 0. 0. 0. 0. 0. 0.]\n",
      " [0. 1. 0. 0. 0. 0. 0. 0. 0. 0. 0.]\n",
      " [0. 0. 0. 0. 0. 1. 0. 0. 0. 0. 0.]\n",
      " [1. 0. 0. 0. 0. 0. 0. 0. 0. 0. 0.]\n",
      " [0. 0. 0. 1. 0. 0. 0. 0. 0. 0. 0.]\n",
      " [0. 1. 0. 0. 0. 0. 0. 0. 0. 0. 0.]]\n"
     ]
    }
   ],
   "source": [
    "index = 0\n",
    "print(\"Source date:\", dataset[index][0])\n",
    "print(\"Target date:\", dataset[index][1])\n",
    "print()\n",
    "print(\"Source after preprocessing (indices):\", X[index])\n",
    "print(\"Target after preprocessing (indices):\", Y[index])\n",
    "print()\n",
    "print(\"Source after preprocessing (one-hot):\", Xoh[index])\n",
    "print(\"Target after preprocessing (one-hot):\", Yoh[index])"
   ]
  },
  {
   "cell_type": "markdown",
   "metadata": {},
   "source": [
    "## 2 - Neural machine translation with attention\n",
    "\n",
    "If you had to translate a book's paragraph from French to English, you would not read the whole paragraph, then close the book and translate. Even during the translation process, you would read/re-read and focus on the parts of the French paragraph corresponding to the parts of the English you are writing down. \n",
    "\n",
    "The attention mechanism tells a Neural Machine Translation model where it should pay attention to at any step. \n",
    "\n",
    "\n",
    "### 2.1 - Attention mechanism\n",
    "\n",
    "In this part, you will implement the attention mechanism presented in the lecture videos. Here is a figure to remind you how the model works. The diagram on the left shows the attention model. The diagram on the right shows what one \"Attention\" step does to calculate the attention variables $\\alpha^{\\langle t, t' \\rangle}$, which are used to compute the context variable $context^{\\langle t \\rangle}$ for each timestep in the output ($t=1, \\ldots, T_y$). \n",
    "\n",
    "<table>\n",
    "<td> \n",
    "<img src=\"images/attn_model.png\" style=\"width:500;height:500px;\"> <br>\n",
    "</td> \n",
    "<td> \n",
    "<img src=\"images/attn_mechanism.png\" style=\"width:500;height:500px;\"> <br>\n",
    "</td> \n",
    "</table>\n",
    "<caption><center> **Figure 1**: Neural machine translation with attention</center></caption>\n"
   ]
  },
  {
   "cell_type": "markdown",
   "metadata": {},
   "source": [
    "\n",
    "Here are some properties of the model that you may notice: \n",
    "\n",
    "- There are two separate LSTMs in this model (see diagram on the left). Because the one at the bottom of the picture is a Bi-directional LSTM and comes *before* the attention mechanism, we will call it *pre-attention* Bi-LSTM. The LSTM at the top of the diagram comes *after* the attention mechanism, so we will call it the *post-attention* LSTM. The pre-attention Bi-LSTM goes through $T_x$ time steps; the post-attention LSTM goes through $T_y$ time steps. \n",
    "\n",
    "- The post-attention LSTM passes $s^{\\langle t \\rangle}, c^{\\langle t \\rangle}$ from one time step to the next. In the lecture videos, we were using only a basic RNN for the post-activation sequence model, so the state captured by the RNN output activations $s^{\\langle t\\rangle}$. But since we are using an LSTM here, the LSTM has both the output activation $s^{\\langle t\\rangle}$ and the hidden cell state $c^{\\langle t\\rangle}$. However, unlike previous text generation examples (such as Dinosaurus in week 1), in this model the post-activation LSTM at time $t$ does will not take the specific generated $y^{\\langle t-1 \\rangle}$ as input; it only takes $s^{\\langle t\\rangle}$ and $c^{\\langle t\\rangle}$ as input. We have designed the model this way, because (unlike language generation where adjacent characters are highly correlated) there isn't as strong a dependency between the previous character and the next character in a YYYY-MM-DD date. \n",
    "\n",
    "- We use $a^{\\langle t \\rangle} = [\\overrightarrow{a}^{\\langle t \\rangle}; \\overleftarrow{a}^{\\langle t \\rangle}]$ to represent the concatenation of the activations of both the forward-direction and backward-directions of the pre-attention Bi-LSTM. \n",
    "\n",
    "- The diagram on the right uses a `RepeatVector` node to copy $s^{\\langle t-1 \\rangle}$'s value $T_x$ times, and then `Concatenation` to concatenate $s^{\\langle t-1 \\rangle}$ and $a^{\\langle t \\rangle}$ to compute $e^{\\langle t, t'}$, which is then passed through a softmax to compute $\\alpha^{\\langle t, t' \\rangle}$. We'll explain how to use `RepeatVector` and `Concatenation` in Keras below. \n",
    "\n",
    "Lets implement this model. You will start by implementing two functions: `one_step_attention()` and `model()`.\n",
    "\n",
    "**1) `one_step_attention()`**: At step $t$, given all the hidden states of the Bi-LSTM ($[a^{<1>},a^{<2>}, ..., a^{<T_x>}]$) and the previous hidden state of the second LSTM ($s^{<t-1>}$), `one_step_attention()` will compute the attention weights ($[\\alpha^{<t,1>},\\alpha^{<t,2>}, ..., \\alpha^{<t,T_x>}]$) and output the context vector (see Figure  1 (right) for details):\n",
    "$$context^{<t>} = \\sum_{t' = 0}^{T_x} \\alpha^{<t,t'>}a^{<t'>}\\tag{1}$$ \n",
    "\n",
    "Note that we are denoting the attention in this notebook $context^{\\langle t \\rangle}$. In the lecture videos, the context was denoted $c^{\\langle t \\rangle}$, but here we are calling it $context^{\\langle t \\rangle}$ to avoid confusion with the (post-attention) LSTM's internal memory cell variable, which is sometimes also denoted $c^{\\langle t \\rangle}$. \n",
    "  \n",
    "**2) `model()`**: Implements the entire model. It first runs the input through a Bi-LSTM to get back $[a^{<1>},a^{<2>}, ..., a^{<T_x>}]$. Then, it calls `one_step_attention()` $T_y$ times (`for` loop). At each iteration of this loop, it gives the computed context vector $c^{<t>}$ to the second LSTM, and runs the output of the LSTM through a dense layer with softmax activation to generate a prediction $\\hat{y}^{<t>}$. \n",
    "\n",
    "\n",
    "\n",
    "**Exercise**: Implement `one_step_attention()`. The function `model()` will call the layers in `one_step_attention()` $T_y$ using a for-loop, and it is important that all $T_y$ copies have the same weights. I.e., it should not re-initiaiize the weights every time. In other words, all $T_y$ steps should have shared weights. Here's how you can implement layers with shareable weights in Keras:\n",
    "1. Define the layer objects (as global variables for examples).\n",
    "2. Call these objects when propagating the input.\n",
    "\n",
    "We have defined the layers you need as global variables. Please run the following cells to create them. Please check the Keras documentation to make sure you understand what these layers are: [RepeatVector()](https://keras.io/layers/core/#repeatvector), [Concatenate()](https://keras.io/layers/merge/#concatenate), [Dense()](https://keras.io/layers/core/#dense), [Activation()](https://keras.io/layers/core/#activation), [Dot()](https://keras.io/layers/merge/#dot)."
   ]
  },
  {
   "cell_type": "code",
   "execution_count": 50,
   "metadata": {},
   "outputs": [],
   "source": [
    "# Defined shared layers as global variables\n",
    "repeator = RepeatVector(Tx)\n",
    "concatenator = Concatenate(axis=-1)\n",
    "densor1 = Dense(10, activation = \"tanh\")\n",
    "densor2 = Dense(1, activation = \"relu\")\n",
    "activator = Activation(softmax, name='attention_weights') # We are using a custom softmax(axis = 1) loaded in this notebook\n",
    "dotor = Dot(axes = 1)"
   ]
  },
  {
   "cell_type": "markdown",
   "metadata": {},
   "source": [
    "Now you can use these layers to implement `one_step_attention()`. In order to propagate a Keras tensor object X through one of these layers, use `layer(X)` (or `layer([X,Y])` if it requires multiple inputs.), e.g. `densor(X)` will propagate X through the `Dense(1)` layer defined above."
   ]
  },
  {
   "cell_type": "code",
   "execution_count": 51,
   "metadata": {},
   "outputs": [],
   "source": [
    "# GRADED FUNCTION: one_step_attention\n",
    "\n",
    "def one_step_attention(a, s_prev):\n",
    "    \"\"\"\n",
    "    Performs one step of attention: Outputs a context vector computed as a dot product of the attention weights\n",
    "    \"alphas\" and the hidden states \"a\" of the Bi-LSTM.\n",
    "    \n",
    "    Arguments:\n",
    "    a -- hidden state output of the Bi-LSTM, numpy-array of shape (m, Tx, 2*n_a)\n",
    "    s_prev -- previous hidden state of the (post-attention) LSTM, numpy-array of shape (m, n_s)\n",
    "    \n",
    "    Returns:\n",
    "    context -- context vector, input of the next (post-attetion) LSTM cell\n",
    "    \"\"\"\n",
    "    \n",
    "    ### START CODE HERE ###\n",
    "    # Use repeator to repeat s_prev to be of shape (m, Tx, n_s) so that you can concatenate it with all hidden states \"a\" (≈ 1 line)\n",
    "    s_prev = repeator(s_prev)\n",
    "    # Use concatenator to concatenate a and s_prev on the last axis (≈ 1 line)\n",
    "    concat = concatenator([a,s_prev])\n",
    "    # Use densor1 to propagate concat through a small fully-connected neural network to compute the \"intermediate energies\" variable e. (≈1 lines)\n",
    "    e = densor1(concat)\n",
    "    # Use densor2 to propagate e through a small fully-connected neural network to compute the \"energies\" variable energies. (≈1 lines)\n",
    "    energies = densor2(e)\n",
    "    # Use \"activator\" on \"energies\" to compute the attention weights \"alphas\" (≈ 1 line)\n",
    "    alphas = activator(energies)\n",
    "    # Use dotor together with \"alphas\" and \"a\" to compute the context vector to be given to the next (post-attention) LSTM-cell (≈ 1 line)\n",
    "    context = dotor([alphas, a])\n",
    "    ### END CODE HERE ###\n",
    "    \n",
    "    return context"
   ]
  },
  {
   "cell_type": "markdown",
   "metadata": {},
   "source": [
    "You will be able to check the expected output of `one_step_attention()` after you've coded the `model()` function."
   ]
  },
  {
   "cell_type": "markdown",
   "metadata": {},
   "source": [
    "**Exercise**: Implement `model()` as explained in figure 2 and the text above. Again, we have defined global layers that will share weights to be used in `model()`."
   ]
  },
  {
   "cell_type": "code",
   "execution_count": 52,
   "metadata": {},
   "outputs": [],
   "source": [
    "n_a = 32\n",
    "n_s = 64\n",
    "post_activation_LSTM_cell = LSTM(n_s, return_state = True)\n",
    "output_layer = Dense(len(machine_vocab), activation=softmax)"
   ]
  },
  {
   "cell_type": "markdown",
   "metadata": {},
   "source": [
    "Now you can use these layers $T_y$ times in a `for` loop to generate the outputs, and their parameters will not be reinitialized. You will have to carry out the following steps: \n",
    "\n",
    "1. Propagate the input into a [Bidirectional](https://keras.io/layers/wrappers/#bidirectional) [LSTM](https://keras.io/layers/recurrent/#lstm)\n",
    "2. Iterate for $t = 0, \\dots, T_y-1$: \n",
    "    1. Call `one_step_attention()` on $[\\alpha^{<t,1>},\\alpha^{<t,2>}, ..., \\alpha^{<t,T_x>}]$ and $s^{<t-1>}$ to get the context vector $context^{<t>}$.\n",
    "    2. Give $context^{<t>}$ to the post-attention LSTM cell. Remember pass in the previous hidden-state $s^{\\langle t-1\\rangle}$ and cell-states $c^{\\langle t-1\\rangle}$ of this LSTM using `initial_state= [previous hidden state, previous cell state]`. Get back the new hidden state $s^{<t>}$ and the new cell state $c^{<t>}$.\n",
    "    3. Apply a softmax layer to $s^{<t>}$, get the output. \n",
    "    4. Save the output by adding it to the list of outputs.\n",
    "\n",
    "3. Create your Keras model instance, it should have three inputs (\"inputs\", $s^{<0>}$ and $c^{<0>}$) and output the list of \"outputs\"."
   ]
  },
  {
   "cell_type": "code",
   "execution_count": 53,
   "metadata": {},
   "outputs": [],
   "source": [
    "# GRADED FUNCTION: model\n",
    "\n",
    "def model(Tx, Ty, n_a, n_s, human_vocab_size, machine_vocab_size):\n",
    "    \"\"\"\n",
    "    Arguments:\n",
    "    Tx -- length of the input sequence\n",
    "    Ty -- length of the output sequence\n",
    "    n_a -- hidden state size of the Bi-LSTM\n",
    "    n_s -- hidden state size of the post-attention LSTM\n",
    "    human_vocab_size -- size of the python dictionary \"human_vocab\"\n",
    "    machine_vocab_size -- size of the python dictionary \"machine_vocab\"\n",
    "\n",
    "    Returns:\n",
    "    model -- Keras model instance\n",
    "    \"\"\"\n",
    "    \n",
    "    # Define the inputs of your model with a shape (Tx,)\n",
    "    # Define s0 and c0, initial hidden state for the decoder LSTM of shape (n_s,)\n",
    "    X = Input(shape=(Tx, human_vocab_size))\n",
    "    s0 = Input(shape=(n_s,), name='s0')\n",
    "    c0 = Input(shape=(n_s,), name='c0')\n",
    "    s = s0\n",
    "    c = c0\n",
    "    \n",
    "    # Initialize empty list of outputs\n",
    "    outputs = []\n",
    "    \n",
    "    ### START CODE HERE ###\n",
    "    \n",
    "    # Step 1: Define your pre-attention Bi-LSTM. Remember to use return_sequences=True. (≈ 1 line)\n",
    "    a = Bidirectional(LSTM(n_a, return_sequences=True))(X)\n",
    "    \n",
    "    # Step 2: Iterate for Ty steps\n",
    "    for t in range(Ty):\n",
    "    \n",
    "        # Step 2.A: Perform one step of the attention mechanism to get back the context vector at step t (≈ 1 line)\n",
    "        context = one_step_attention(a, s)\n",
    "        \n",
    "        # Step 2.B: Apply the post-attention LSTM cell to the \"context\" vector.\n",
    "        # Don't forget to pass: initial_state = [hidden state, cell state] (≈ 1 line)\n",
    "        s, _, c = post_activation_LSTM_cell(context, initial_state=[s, c])\n",
    "        \n",
    "        # Step 2.C: Apply Dense layer to the hidden state output of the post-attention LSTM (≈ 1 line)\n",
    "        out = output_layer(s)\n",
    "        \n",
    "        # Step 2.D: Append \"out\" to the \"outputs\" list (≈ 1 line)\n",
    "        outputs.append(out)\n",
    "    \n",
    "    # Step 3: Create model instance taking three inputs and returning the list of outputs. (≈ 1 line)\n",
    "    model = Model([X, s0, c0], outputs)\n",
    "    \n",
    "    ### END CODE HERE ###\n",
    "    \n",
    "    return model"
   ]
  },
  {
   "cell_type": "markdown",
   "metadata": {},
   "source": [
    "Run the following cell to create your model."
   ]
  },
  {
   "cell_type": "code",
   "execution_count": 54,
   "metadata": {},
   "outputs": [],
   "source": [
    "model = model(Tx, Ty, n_a, n_s, len(human_vocab), len(machine_vocab))"
   ]
  },
  {
   "cell_type": "markdown",
   "metadata": {},
   "source": [
    "Let's get a summary of the model to check if it matches the expected output."
   ]
  },
  {
   "cell_type": "code",
   "execution_count": 56,
   "metadata": {
    "scrolled": true
   },
   "outputs": [
    {
     "name": "stdout",
     "output_type": "stream",
     "text": [
      "__________________________________________________________________________________________________\n",
      "Layer (type)                    Output Shape         Param #     Connected to                     \n",
      "==================================================================================================\n",
      "input_5 (InputLayer)            (None, 30, 37)       0                                            \n",
      "__________________________________________________________________________________________________\n",
      "s0 (InputLayer)                 (None, 64)           0                                            \n",
      "__________________________________________________________________________________________________\n",
      "bidirectional_5 (Bidirectional) (None, 30, 64)       17920       input_5[0][0]                    \n",
      "__________________________________________________________________________________________________\n",
      "repeat_vector_3 (RepeatVector)  (None, 30, 64)       0           s0[0][0]                         \n",
      "                                                                 lstm_9[0][0]                     \n",
      "                                                                 lstm_9[1][0]                     \n",
      "                                                                 lstm_9[2][0]                     \n",
      "                                                                 lstm_9[3][0]                     \n",
      "                                                                 lstm_9[4][0]                     \n",
      "                                                                 lstm_9[5][0]                     \n",
      "                                                                 lstm_9[6][0]                     \n",
      "                                                                 lstm_9[7][0]                     \n",
      "                                                                 lstm_9[8][0]                     \n",
      "__________________________________________________________________________________________________\n",
      "concatenate_3 (Concatenate)     (None, 30, 128)      0           bidirectional_5[0][0]            \n",
      "                                                                 repeat_vector_3[0][0]            \n",
      "                                                                 bidirectional_5[0][0]            \n",
      "                                                                 repeat_vector_3[1][0]            \n",
      "                                                                 bidirectional_5[0][0]            \n",
      "                                                                 repeat_vector_3[2][0]            \n",
      "                                                                 bidirectional_5[0][0]            \n",
      "                                                                 repeat_vector_3[3][0]            \n",
      "                                                                 bidirectional_5[0][0]            \n",
      "                                                                 repeat_vector_3[4][0]            \n",
      "                                                                 bidirectional_5[0][0]            \n",
      "                                                                 repeat_vector_3[5][0]            \n",
      "                                                                 bidirectional_5[0][0]            \n",
      "                                                                 repeat_vector_3[6][0]            \n",
      "                                                                 bidirectional_5[0][0]            \n",
      "                                                                 repeat_vector_3[7][0]            \n",
      "                                                                 bidirectional_5[0][0]            \n",
      "                                                                 repeat_vector_3[8][0]            \n",
      "                                                                 bidirectional_5[0][0]            \n",
      "                                                                 repeat_vector_3[9][0]            \n",
      "__________________________________________________________________________________________________\n",
      "dense_9 (Dense)                 (None, 30, 10)       1290        concatenate_3[0][0]              \n",
      "                                                                 concatenate_3[1][0]              \n",
      "                                                                 concatenate_3[2][0]              \n",
      "                                                                 concatenate_3[3][0]              \n",
      "                                                                 concatenate_3[4][0]              \n",
      "                                                                 concatenate_3[5][0]              \n",
      "                                                                 concatenate_3[6][0]              \n",
      "                                                                 concatenate_3[7][0]              \n",
      "                                                                 concatenate_3[8][0]              \n",
      "                                                                 concatenate_3[9][0]              \n",
      "__________________________________________________________________________________________________\n",
      "dense_10 (Dense)                (None, 30, 1)        11          dense_9[0][0]                    \n",
      "                                                                 dense_9[1][0]                    \n",
      "                                                                 dense_9[2][0]                    \n",
      "                                                                 dense_9[3][0]                    \n",
      "                                                                 dense_9[4][0]                    \n",
      "                                                                 dense_9[5][0]                    \n",
      "                                                                 dense_9[6][0]                    \n",
      "                                                                 dense_9[7][0]                    \n",
      "                                                                 dense_9[8][0]                    \n",
      "                                                                 dense_9[9][0]                    \n",
      "__________________________________________________________________________________________________\n",
      "attention_weights (Activation)  (None, 30, 1)        0           dense_10[0][0]                   \n",
      "                                                                 dense_10[1][0]                   \n",
      "                                                                 dense_10[2][0]                   \n",
      "                                                                 dense_10[3][0]                   \n",
      "                                                                 dense_10[4][0]                   \n",
      "                                                                 dense_10[5][0]                   \n",
      "                                                                 dense_10[6][0]                   \n",
      "                                                                 dense_10[7][0]                   \n",
      "                                                                 dense_10[8][0]                   \n",
      "                                                                 dense_10[9][0]                   \n",
      "__________________________________________________________________________________________________\n",
      "dot_3 (Dot)                     (None, 1, 64)        0           attention_weights[0][0]          \n",
      "                                                                 bidirectional_5[0][0]            \n",
      "                                                                 attention_weights[1][0]          \n",
      "                                                                 bidirectional_5[0][0]            \n",
      "                                                                 attention_weights[2][0]          \n",
      "                                                                 bidirectional_5[0][0]            \n",
      "                                                                 attention_weights[3][0]          \n",
      "                                                                 bidirectional_5[0][0]            \n"
     ]
    },
    {
     "name": "stdout",
     "output_type": "stream",
     "text": [
      "                                                                 attention_weights[4][0]          \n",
      "                                                                 bidirectional_5[0][0]            \n",
      "                                                                 attention_weights[5][0]          \n",
      "                                                                 bidirectional_5[0][0]            \n",
      "                                                                 attention_weights[6][0]          \n",
      "                                                                 bidirectional_5[0][0]            \n",
      "                                                                 attention_weights[7][0]          \n",
      "                                                                 bidirectional_5[0][0]            \n",
      "                                                                 attention_weights[8][0]          \n",
      "                                                                 bidirectional_5[0][0]            \n",
      "                                                                 attention_weights[9][0]          \n",
      "                                                                 bidirectional_5[0][0]            \n",
      "__________________________________________________________________________________________________\n",
      "c0 (InputLayer)                 (None, 64)           0                                            \n",
      "__________________________________________________________________________________________________\n",
      "lstm_9 (LSTM)                   [(None, 64), (None,  33024       dot_3[0][0]                      \n",
      "                                                                 s0[0][0]                         \n",
      "                                                                 c0[0][0]                         \n",
      "                                                                 dot_3[1][0]                      \n",
      "                                                                 lstm_9[0][0]                     \n",
      "                                                                 lstm_9[0][2]                     \n",
      "                                                                 dot_3[2][0]                      \n",
      "                                                                 lstm_9[1][0]                     \n",
      "                                                                 lstm_9[1][2]                     \n",
      "                                                                 dot_3[3][0]                      \n",
      "                                                                 lstm_9[2][0]                     \n",
      "                                                                 lstm_9[2][2]                     \n",
      "                                                                 dot_3[4][0]                      \n",
      "                                                                 lstm_9[3][0]                     \n",
      "                                                                 lstm_9[3][2]                     \n",
      "                                                                 dot_3[5][0]                      \n",
      "                                                                 lstm_9[4][0]                     \n",
      "                                                                 lstm_9[4][2]                     \n",
      "                                                                 dot_3[6][0]                      \n",
      "                                                                 lstm_9[5][0]                     \n",
      "                                                                 lstm_9[5][2]                     \n",
      "                                                                 dot_3[7][0]                      \n",
      "                                                                 lstm_9[6][0]                     \n",
      "                                                                 lstm_9[6][2]                     \n",
      "                                                                 dot_3[8][0]                      \n",
      "                                                                 lstm_9[7][0]                     \n",
      "                                                                 lstm_9[7][2]                     \n",
      "                                                                 dot_3[9][0]                      \n",
      "                                                                 lstm_9[8][0]                     \n",
      "                                                                 lstm_9[8][2]                     \n",
      "__________________________________________________________________________________________________\n",
      "dense_11 (Dense)                (None, 11)           715         lstm_9[0][0]                     \n",
      "                                                                 lstm_9[1][0]                     \n",
      "                                                                 lstm_9[2][0]                     \n",
      "                                                                 lstm_9[3][0]                     \n",
      "                                                                 lstm_9[4][0]                     \n",
      "                                                                 lstm_9[5][0]                     \n",
      "                                                                 lstm_9[6][0]                     \n",
      "                                                                 lstm_9[7][0]                     \n",
      "                                                                 lstm_9[8][0]                     \n",
      "                                                                 lstm_9[9][0]                     \n",
      "==================================================================================================\n",
      "Total params: 52,960\n",
      "Trainable params: 52,960\n",
      "Non-trainable params: 0\n",
      "__________________________________________________________________________________________________\n"
     ]
    }
   ],
   "source": [
    "model.summary()"
   ]
  },
  {
   "cell_type": "markdown",
   "metadata": {},
   "source": [
    "**Expected Output**:\n",
    "\n",
    "Here is the summary you should see\n",
    "<table>\n",
    "    <tr>\n",
    "        <td>\n",
    "            **Total params:**\n",
    "        </td>\n",
    "        <td>\n",
    "         185,484\n",
    "        </td>\n",
    "    </tr>\n",
    "        <tr>\n",
    "        <td>\n",
    "            **Trainable params:**\n",
    "        </td>\n",
    "        <td>\n",
    "         185,484\n",
    "        </td>\n",
    "    </tr>\n",
    "            <tr>\n",
    "        <td>\n",
    "            **Non-trainable params:**\n",
    "        </td>\n",
    "        <td>\n",
    "         0\n",
    "        </td>\n",
    "    </tr>\n",
    "                    <tr>\n",
    "        <td>\n",
    "            **bidirectional_1's output shape **\n",
    "        </td>\n",
    "        <td>\n",
    "         (None, 30, 128)  \n",
    "        </td>\n",
    "    </tr>\n",
    "    <tr>\n",
    "        <td>\n",
    "            **repeat_vector_1's output shape **\n",
    "        </td>\n",
    "        <td>\n",
    "         (None, 30, 128)  \n",
    "        </td>\n",
    "    </tr>\n",
    "                <tr>\n",
    "        <td>\n",
    "            **concatenate_1's output shape **\n",
    "        </td>\n",
    "        <td>\n",
    "         (None, 30, 256) \n",
    "        </td>\n",
    "    </tr>\n",
    "            <tr>\n",
    "        <td>\n",
    "            **attention_weights's output shape **\n",
    "        </td>\n",
    "        <td>\n",
    "         (None, 30, 1)  \n",
    "        </td>\n",
    "    </tr>\n",
    "        <tr>\n",
    "        <td>\n",
    "            **dot_1's output shape **\n",
    "        </td>\n",
    "        <td>\n",
    "         (None, 1, 128) \n",
    "        </td>\n",
    "    </tr>\n",
    "           <tr>\n",
    "        <td>\n",
    "            **dense_2's output shape **\n",
    "        </td>\n",
    "        <td>\n",
    "         (None, 11) \n",
    "        </td>\n",
    "    </tr>\n",
    "</table>\n"
   ]
  },
  {
   "cell_type": "markdown",
   "metadata": {},
   "source": [
    "As usual, after creating your model in Keras, you need to compile it and define what loss, optimizer and metrics your are want to use. Compile your model using `categorical_crossentropy` loss, a custom [Adam](https://keras.io/optimizers/#adam) [optimizer](https://keras.io/optimizers/#usage-of-optimizers) (`learning rate = 0.005`, $\\beta_1 = 0.9$, $\\beta_2 = 0.999$, `decay = 0.01`)  and `['accuracy']` metrics:"
   ]
  },
  {
   "cell_type": "code",
   "execution_count": 57,
   "metadata": {},
   "outputs": [],
   "source": [
    "### START CODE HERE ### (≈2 lines)\n",
    "opt = Adam(lr = 0.005, beta_1=0.9, beta_2=0.999, decay = 0.01)\n",
    "model.compile(loss='categorical_crossentropy', optimizer=opt, metrics=['accuracy'])\n",
    "### END CODE HERE ###"
   ]
  },
  {
   "cell_type": "markdown",
   "metadata": {},
   "source": [
    "The last step is to define all your inputs and outputs to fit the model:\n",
    "- You already have X of shape $(m = 10000, T_x = 30)$ containing the training examples.\n",
    "- You need to create `s0` and `c0` to initialize your `post_activation_LSTM_cell` with 0s.\n",
    "- Given the `model()` you coded, you need the \"outputs\" to be a list of 11 elements of shape (m, T_y). So that: `outputs[i][0], ..., outputs[i][Ty]` represent the true labels (characters) corresponding to the $i^{th}$ training example (`X[i]`). More generally, `outputs[i][j]` is the true label of the $j^{th}$ character in the $i^{th}$ training example."
   ]
  },
  {
   "cell_type": "code",
   "execution_count": 58,
   "metadata": {},
   "outputs": [],
   "source": [
    "s0 = np.zeros((m, n_s))\n",
    "c0 = np.zeros((m, n_s))\n",
    "outputs = list(Yoh.swapaxes(0,1))"
   ]
  },
  {
   "cell_type": "markdown",
   "metadata": {},
   "source": [
    "Let's now fit the model and run it for one epoch."
   ]
  },
  {
   "cell_type": "code",
   "execution_count": 61,
   "metadata": {
    "scrolled": false
   },
   "outputs": [
    {
     "name": "stdout",
     "output_type": "stream",
     "text": [
      "Epoch 1/1\n"
     ]
    },
    {
     "name": "stdout",
     "output_type": "stream",
     "text": [
      " 2800/10000 [=======>......................] - ETA: 14:04 - loss: 0.0043 - dense_11_loss: 4.0677e-04 - dense_11_acc: 1.0000 - dense_11_acc_1: 1.0000 - dense_11_acc_2: 1.0000 - dense_11_acc_3: 1.0000 - dense_11_acc_4: 1.0000 - dense_11_acc_5: 1.0000 - dense_11_acc_6: 1.0000 - dense_11_acc_7: 1.0000 - dense_11_acc_8: 1.0000 - dense_11_acc_9: 1.00 - ETA: 7:08 - loss: 13.1870 - dense_11_loss: 4.0619 - dense_11_acc: 0.9900 - dense_11_acc_1: 0.9900 - dense_11_acc_2: 0.7150 - dense_11_acc_3: 0.6300 - dense_11_acc_4: 1.0000 - dense_11_acc_5: 0.6700 - dense_11_acc_6: 0.6950 - dense_11_acc_7: 0.9900 - dense_11_acc_8: 0.7150 - dense_11_acc_9: 0.5600   - ETA: 4:48 - loss: 24.8774 - dense_11_loss: 4.1655 - dense_11_acc: 0.9933 - dense_11_acc_1: 0.9933 - dense_11_acc_2: 0.7600 - dense_11_acc_3: 0.4233 - dense_11_acc_4: 0.7967 - dense_11_acc_5: 0.5100 - dense_11_acc_6: 0.5167 - dense_11_acc_7: 0.6833 - dense_11_acc_8: 0.5467 - dense_11_acc_9: 0.49 - ETA: 3:39 - loss: 23.1025 - dense_11_loss: 3.4140 - dense_11_acc: 0.9950 - dense_11_acc_1: 0.9950 - dense_11_acc_2: 0.7925 - dense_11_acc_3: 0.4400 - dense_11_acc_4: 0.8300 - dense_11_acc_5: 0.4825 - dense_11_acc_6: 0.5125 - dense_11_acc_7: 0.6900 - dense_11_acc_8: 0.5300 - dense_11_acc_9: 0.56 - ETA: 2:59 - loss: 19.9520 - dense_11_loss: 2.9662 - dense_11_acc: 0.9960 - dense_11_acc_1: 0.9960 - dense_11_acc_2: 0.8260 - dense_11_acc_3: 0.5460 - dense_11_acc_4: 0.8600 - dense_11_acc_5: 0.5280 - dense_11_acc_6: 0.5620 - dense_11_acc_7: 0.7320 - dense_11_acc_8: 0.5660 - dense_11_acc_9: 0.61 - ETA: 2:31 - loss: 18.2516 - dense_11_loss: 2.9240 - dense_11_acc: 0.9967 - dense_11_acc_1: 0.9967 - dense_11_acc_2: 0.8417 - dense_11_acc_3: 0.6033 - dense_11_acc_4: 0.8817 - dense_11_acc_5: 0.5900 - dense_11_acc_6: 0.5700 - dense_11_acc_7: 0.7683 - dense_11_acc_8: 0.5500 - dense_11_acc_9: 0.59 - ETA: 2:10 - loss: 16.2939 - dense_11_loss: 2.6611 - dense_11_acc: 0.9971 - dense_11_acc_1: 0.9971 - dense_11_acc_2: 0.8400 - dense_11_acc_3: 0.6471 - dense_11_acc_4: 0.8986 - dense_11_acc_5: 0.6300 - dense_11_acc_6: 0.6014 - dense_11_acc_7: 0.8014 - dense_11_acc_8: 0.5757 - dense_11_acc_9: 0.61 - ETA: 1:55 - loss: 14.7946 - dense_11_loss: 2.4056 - dense_11_acc: 0.9963 - dense_11_acc_1: 0.9963 - dense_11_acc_2: 0.8350 - dense_11_acc_3: 0.6713 - dense_11_acc_4: 0.9100 - dense_11_acc_5: 0.6637 - dense_11_acc_6: 0.6288 - dense_11_acc_7: 0.8262 - dense_11_acc_8: 0.5975 - dense_11_acc_9: 0.64 - ETA: 1:44 - loss: 13.5579 - dense_11_loss: 2.1792 - dense_11_acc: 0.9967 - dense_11_acc_1: 0.9967 - dense_11_acc_2: 0.8333 - dense_11_acc_3: 0.6856 - dense_11_acc_4: 0.9200 - dense_11_acc_5: 0.6956 - dense_11_acc_6: 0.6600 - dense_11_acc_7: 0.8456 - dense_11_acc_8: 0.6078 - dense_11_acc_9: 0.66 - ETA: 1:35 - loss: 12.4760 - dense_11_loss: 1.9795 - dense_11_acc: 0.9970 - dense_11_acc_1: 0.9970 - dense_11_acc_2: 0.8460 - dense_11_acc_3: 0.6890 - dense_11_acc_4: 0.9280 - dense_11_acc_5: 0.7200 - dense_11_acc_6: 0.6870 - dense_11_acc_7: 0.8610 - dense_11_acc_8: 0.6250 - dense_11_acc_9: 0.69 - ETA: 1:27 - loss: 11.4593 - dense_11_loss: 1.8178 - dense_11_acc: 0.9964 - dense_11_acc_1: 0.9973 - dense_11_acc_2: 0.8564 - dense_11_acc_3: 0.7036 - dense_11_acc_4: 0.9345 - dense_11_acc_5: 0.7445 - dense_11_acc_6: 0.7118 - dense_11_acc_7: 0.8736 - dense_11_acc_8: 0.6518 - dense_11_acc_9: 0.71 - ETA: 1:20 - loss: 10.7011 - dense_11_loss: 1.6858 - dense_11_acc: 0.9958 - dense_11_acc_1: 0.9975 - dense_11_acc_2: 0.8583 - dense_11_acc_3: 0.7092 - dense_11_acc_4: 0.9400 - dense_11_acc_5: 0.7650 - dense_11_acc_6: 0.7242 - dense_11_acc_7: 0.8842 - dense_11_acc_8: 0.6783 - dense_11_acc_9: 0.73 - ETA: 1:14 - loss: 10.0130 - dense_11_loss: 1.5734 - dense_11_acc: 0.9946 - dense_11_acc_1: 0.9969 - dense_11_acc_2: 0.8646 - dense_11_acc_3: 0.7223 - dense_11_acc_4: 0.9446 - dense_11_acc_5: 0.7831 - dense_11_acc_6: 0.7292 - dense_11_acc_7: 0.8931 - dense_11_acc_8: 0.7000 - dense_11_acc_9: 0.74 - ETA: 1:10 - loss: 9.4428 - dense_11_loss: 1.4729 - dense_11_acc: 0.9936 - dense_11_acc_1: 0.9957 - dense_11_acc_2: 0.8707 - dense_11_acc_3: 0.7314 - dense_11_acc_4: 0.9486 - dense_11_acc_5: 0.7979 - dense_11_acc_6: 0.7307 - dense_11_acc_7: 0.9007 - dense_11_acc_8: 0.7150 - dense_11_acc_9: 0.7621 - ETA: 1:06 - loss: 8.9401 - dense_11_loss: 1.3868 - dense_11_acc: 0.9933 - dense_11_acc_1: 0.9960 - dense_11_acc_2: 0.8780 - dense_11_acc_3: 0.7473 - dense_11_acc_4: 0.9520 - dense_11_acc_5: 0.8087 - dense_11_acc_6: 0.7280 - dense_11_acc_7: 0.9073 - dense_11_acc_8: 0.7233 - dense_11_acc_9: 0.773 - ETA: 1:02 - loss: 8.5036 - dense_11_loss: 1.3373 - dense_11_acc: 0.9938 - dense_11_acc_1: 0.9963 - dense_11_acc_2: 0.8844 - dense_11_acc_3: 0.7619 - dense_11_acc_4: 0.9550 - dense_11_acc_5: 0.8206 - dense_11_acc_6: 0.7313 - dense_11_acc_7: 0.9131 - dense_11_acc_8: 0.7287 - dense_11_acc_9: 0.778 - ETA: 58s - loss: 8.0770 - dense_11_loss: 1.2793 - dense_11_acc: 0.9935 - dense_11_acc_1: 0.9965 - dense_11_acc_2: 0.8900 - dense_11_acc_3: 0.7735 - dense_11_acc_4: 0.9576 - dense_11_acc_5: 0.8306 - dense_11_acc_6: 0.7406 - dense_11_acc_7: 0.9182 - dense_11_acc_8: 0.7412 - dense_11_acc_9: 0.785 - ETA: 55s - loss: 7.6885 - dense_11_loss: 1.2228 - dense_11_acc: 0.9933 - dense_11_acc_1: 0.9961 - dense_11_acc_2: 0.8944 - dense_11_acc_3: 0.7856 - dense_11_acc_4: 0.9600 - dense_11_acc_5: 0.8400 - dense_11_acc_6: 0.7522 - dense_11_acc_7: 0.9228 - dense_11_acc_8: 0.7489 - dense_11_acc_9: 0.79 - ETA: 53s - loss: 7.3164 - dense_11_loss: 1.1632 - dense_11_acc: 0.9937 - dense_11_acc_1: 0.9963 - dense_11_acc_2: 0.8963 - dense_11_acc_3: 0.7963 - dense_11_acc_4: 0.9621 - dense_11_acc_5: 0.8474 - dense_11_acc_6: 0.7642 - dense_11_acc_7: 0.9268 - dense_11_acc_8: 0.7600 - dense_11_acc_9: 0.80 - ETA: 50s - loss: 6.9987 - dense_11_loss: 1.1134 - dense_11_acc: 0.9935 - dense_11_acc_1: 0.9960 - dense_11_acc_2: 0.9015 - dense_11_acc_3: 0.8065 - dense_11_acc_4: 0.9640 - dense_11_acc_5: 0.8530 - dense_11_acc_6: 0.7730 - dense_11_acc_7: 0.9305 - dense_11_acc_8: 0.7690 - dense_11_acc_9: 0.81 - ETA: 48s - loss: 6.6950 - dense_11_loss: 1.0692 - dense_11_acc: 0.9938 - dense_11_acc_1: 0.9962 - dense_11_acc_2: 0.9062 - dense_11_acc_3: 0.8152 - dense_11_acc_4: 0.9657 - dense_11_acc_5: 0.8590 - dense_11_acc_6: 0.7819 - dense_11_acc_7: 0.9338 - dense_11_acc_8: 0.7771 - dense_11_acc_9: 0.81 - ETA: 46s - loss: 6.4300 - dense_11_loss: 1.0278 - dense_11_acc: 0.9932 - dense_11_acc_1: 0.9964 - dense_11_acc_2: 0.9086 - dense_11_acc_3: 0.8236 - dense_11_acc_4: 0.9673 - dense_11_acc_5: 0.8636 - dense_11_acc_6: 0.7895 - dense_11_acc_7: 0.9368 - dense_11_acc_8: 0.7845 - dense_11_acc_9: 0.82 - ETA: 44s - loss: 6.1878 - dense_11_loss: 0.9887 - dense_11_acc: 0.9935 - dense_11_acc_1: 0.9965 - dense_11_acc_2: 0.9122 - dense_11_acc_3: 0.8309 - dense_11_acc_4: 0.9687 - dense_11_acc_5: 0.8674 - dense_11_acc_6: 0.7957 - dense_11_acc_7: 0.9396 - dense_11_acc_8: 0.7917 - dense_11_acc_9: 0.82 - ETA: 42s - loss: 5.9574 - dense_11_loss: 0.9514 - dense_11_acc: 0.9938 - dense_11_acc_1: 0.9967 - dense_11_acc_2: 0.9154 - dense_11_acc_3: 0.8379 - dense_11_acc_4: 0.9700 - dense_11_acc_5: 0.8721 - dense_11_acc_6: 0.8025 - dense_11_acc_7: 0.9421 - dense_11_acc_8: 0.7971 - dense_11_acc_9: 0.83 - ETA: 40s - loss: 5.7381 - dense_11_loss: 0.9143 - dense_11_acc: 0.9940 - dense_11_acc_1: 0.9968 - dense_11_acc_2: 0.9180 - dense_11_acc_3: 0.8444 - dense_11_acc_4: 0.9712 - dense_11_acc_5: 0.8764 - dense_11_acc_6: 0.8096 - dense_11_acc_7: 0.9444 - dense_11_acc_8: 0.8040 - dense_11_acc_9: 0.84 - ETA: 39s - loss: 5.5402 - dense_11_loss: 0.8817 - dense_11_acc: 0.9942 - dense_11_acc_1: 0.9969 - dense_11_acc_2: 0.9212 - dense_11_acc_3: 0.8500 - dense_11_acc_4: 0.9723 - dense_11_acc_5: 0.8796 - dense_11_acc_6: 0.8154 - dense_11_acc_7: 0.9465 - dense_11_acc_8: 0.8100 - dense_11_acc_9: 0.84 - ETA: 37s - loss: 5.3550 - dense_11_loss: 0.8524 - dense_11_acc: 0.9944 - dense_11_acc_1: 0.9970 - dense_11_acc_2: 0.9226 - dense_11_acc_3: 0.8556 - dense_11_acc_4: 0.9733 - dense_11_acc_5: 0.8837 - dense_11_acc_6: 0.8219 - dense_11_acc_7: 0.9485 - dense_11_acc_8: 0.8159 - dense_11_acc_9: 0.85 - ETA: 36s - loss: 5.1789 - dense_11_loss: 0.8230 - dense_11_acc: 0.9939 - dense_11_acc_1: 0.9971 - dense_11_acc_2: 0.9236 - dense_11_acc_3: 0.8607 - dense_11_acc_4: 0.9743 - dense_11_acc_5: 0.8879 - dense_11_acc_6: 0.8282 - dense_11_acc_7: 0.9504 - dense_11_acc_8: 0.8214 - dense_11_acc_9: 0.8568\b\b\b\b\b\b\b\b\b\b\b\b\b\b\b\b\b\b\b\b\b\b\b\b\b\b\b\b\b\b\b\b\b\b\b\b\b\b\b\b\b\b\b\b\b\b\b\b\b\b\b\b\b\b\b\b\b\b\b\b\b\b\b\b\b\b\b\b\b\b\b\b\b\b\b\b\b\b\b\b\b\b\b\b\b\b\b\b\b\b\b\b\b\b\b\b\b\b\b\b\b\b\b\b\b\b\b\b\b\b\b\b\b\b\b\b\b\b\b\b\b\b\b\b\b\b\b\b\b\b\b\b\b\b\b\b\b\b\b\b\b\b\b\b\b\b\b\b\b\b\b\b\b\b\b\b\b\b\b\b\b\b\b\b\b\b\b\b\b\b\b\b\b\b\b\b\b\b\b\b\b\b\b\b\b\b\b\b\b\b\b\b\b\b\b\b\b\b\b\b\b\b\b\b\b\b\b\b\b\b\b\b\b\b\b\b\b\b\b\b\b\b\b\b\b\b\b\b\b\b\b\b\b\b\b\b\b\b\b\b\b\b\b\b\b\b\b\b\b\b\b\b\b\b\b\b\b\b\b\b\b\b\b\b\b\b\b\b\b\b\b\b\b\b\b\b\b\b\b\b\b\b\b\b\b\b\b\b\b\b\b\b\b\b\b\b\b\b\b\b\b\b\b\b\b\b\b\b\b\b\b\b\b\b\b\b\b\b\b\b\b\b\b\b\b\b\b\b\b\b\b\b\b\b\b\b\b\b\b\b\b\b"
     ]
    },
    {
     "name": "stdout",
     "output_type": "stream",
     "text": [
      " 5600/10000 [===============>..............] - ETA: 35s - loss: 5.0179 - dense_11_loss: 0.7967 - dense_11_acc: 0.9941 - dense_11_acc_1: 0.9972 - dense_11_acc_2: 0.9255 - dense_11_acc_3: 0.8655 - dense_11_acc_4: 0.9752 - dense_11_acc_5: 0.8910 - dense_11_acc_6: 0.8334 - dense_11_acc_7: 0.9521 - dense_11_acc_8: 0.8252 - dense_11_acc_9: 0.86 - ETA: 34s - loss: 4.8651 - dense_11_loss: 0.7713 - dense_11_acc: 0.9940 - dense_11_acc_1: 0.9973 - dense_11_acc_2: 0.9280 - dense_11_acc_3: 0.8700 - dense_11_acc_4: 0.9760 - dense_11_acc_5: 0.8947 - dense_11_acc_6: 0.8383 - dense_11_acc_7: 0.9537 - dense_11_acc_8: 0.8287 - dense_11_acc_9: 0.86 - ETA: 32s - loss: 4.7184 - dense_11_loss: 0.7471 - dense_11_acc: 0.9935 - dense_11_acc_1: 0.9974 - dense_11_acc_2: 0.9300 - dense_11_acc_3: 0.8742 - dense_11_acc_4: 0.9768 - dense_11_acc_5: 0.8981 - dense_11_acc_6: 0.8429 - dense_11_acc_7: 0.9552 - dense_11_acc_8: 0.8339 - dense_11_acc_9: 0.86 - ETA: 31s - loss: 4.5834 - dense_11_loss: 0.7261 - dense_11_acc: 0.9938 - dense_11_acc_1: 0.9975 - dense_11_acc_2: 0.9322 - dense_11_acc_3: 0.8781 - dense_11_acc_4: 0.9775 - dense_11_acc_5: 0.9012 - dense_11_acc_6: 0.8469 - dense_11_acc_7: 0.9566 - dense_11_acc_8: 0.8378 - dense_11_acc_9: 0.87 - ETA: 30s - loss: 4.4528 - dense_11_loss: 0.7055 - dense_11_acc: 0.9939 - dense_11_acc_1: 0.9976 - dense_11_acc_2: 0.9342 - dense_11_acc_3: 0.8818 - dense_11_acc_4: 0.9782 - dense_11_acc_5: 0.9042 - dense_11_acc_6: 0.8515 - dense_11_acc_7: 0.9579 - dense_11_acc_8: 0.8424 - dense_11_acc_9: 0.87 - ETA: 29s - loss: 4.3326 - dense_11_loss: 0.6873 - dense_11_acc: 0.9941 - dense_11_acc_1: 0.9976 - dense_11_acc_2: 0.9362 - dense_11_acc_3: 0.8853 - dense_11_acc_4: 0.9788 - dense_11_acc_5: 0.9071 - dense_11_acc_6: 0.8553 - dense_11_acc_7: 0.9591 - dense_11_acc_8: 0.8462 - dense_11_acc_9: 0.87 - ETA: 29s - loss: 4.2172 - dense_11_loss: 0.6686 - dense_11_acc: 0.9943 - dense_11_acc_1: 0.9977 - dense_11_acc_2: 0.9380 - dense_11_acc_3: 0.8886 - dense_11_acc_4: 0.9794 - dense_11_acc_5: 0.9094 - dense_11_acc_6: 0.8594 - dense_11_acc_7: 0.9603 - dense_11_acc_8: 0.8494 - dense_11_acc_9: 0.88 - ETA: 28s - loss: 4.1065 - dense_11_loss: 0.6511 - dense_11_acc: 0.9944 - dense_11_acc_1: 0.9978 - dense_11_acc_2: 0.9397 - dense_11_acc_3: 0.8917 - dense_11_acc_4: 0.9800 - dense_11_acc_5: 0.9117 - dense_11_acc_6: 0.8633 - dense_11_acc_7: 0.9614 - dense_11_acc_8: 0.8536 - dense_11_acc_9: 0.88 - ETA: 27s - loss: 4.0036 - dense_11_loss: 0.6341 - dense_11_acc: 0.9943 - dense_11_acc_1: 0.9978 - dense_11_acc_2: 0.9414 - dense_11_acc_3: 0.8946 - dense_11_acc_4: 0.9805 - dense_11_acc_5: 0.9132 - dense_11_acc_6: 0.8665 - dense_11_acc_7: 0.9624 - dense_11_acc_8: 0.8573 - dense_11_acc_9: 0.88 - ETA: 26s - loss: 3.9048 - dense_11_loss: 0.6179 - dense_11_acc: 0.9939 - dense_11_acc_1: 0.9979 - dense_11_acc_2: 0.9429 - dense_11_acc_3: 0.8974 - dense_11_acc_4: 0.9811 - dense_11_acc_5: 0.9155 - dense_11_acc_6: 0.8695 - dense_11_acc_7: 0.9634 - dense_11_acc_8: 0.8603 - dense_11_acc_9: 0.89 - ETA: 25s - loss: 3.8090 - dense_11_loss: 0.6025 - dense_11_acc: 0.9941 - dense_11_acc_1: 0.9979 - dense_11_acc_2: 0.9444 - dense_11_acc_3: 0.9000 - dense_11_acc_4: 0.9815 - dense_11_acc_5: 0.9174 - dense_11_acc_6: 0.8728 - dense_11_acc_7: 0.9644 - dense_11_acc_8: 0.8633 - dense_11_acc_9: 0.89 - ETA: 24s - loss: 3.7180 - dense_11_loss: 0.5876 - dense_11_acc: 0.9943 - dense_11_acc_1: 0.9980 - dense_11_acc_2: 0.9458 - dense_11_acc_3: 0.9025 - dense_11_acc_4: 0.9820 - dense_11_acc_5: 0.9195 - dense_11_acc_6: 0.8758 - dense_11_acc_7: 0.9652 - dense_11_acc_8: 0.8665 - dense_11_acc_9: 0.89 - ETA: 24s - loss: 3.6323 - dense_11_loss: 0.5742 - dense_11_acc: 0.9944 - dense_11_acc_1: 0.9980 - dense_11_acc_2: 0.9471 - dense_11_acc_3: 0.9046 - dense_11_acc_4: 0.9824 - dense_11_acc_5: 0.9215 - dense_11_acc_6: 0.8788 - dense_11_acc_7: 0.9661 - dense_11_acc_8: 0.8693 - dense_11_acc_9: 0.89 - ETA: 23s - loss: 3.5492 - dense_11_loss: 0.5608 - dense_11_acc: 0.9945 - dense_11_acc_1: 0.9981 - dense_11_acc_2: 0.9483 - dense_11_acc_3: 0.9069 - dense_11_acc_4: 0.9829 - dense_11_acc_5: 0.9233 - dense_11_acc_6: 0.8817 - dense_11_acc_7: 0.9669 - dense_11_acc_8: 0.8717 - dense_11_acc_9: 0.90 - ETA: 22s - loss: 3.4702 - dense_11_loss: 0.5479 - dense_11_acc: 0.9944 - dense_11_acc_1: 0.9981 - dense_11_acc_2: 0.9495 - dense_11_acc_3: 0.9091 - dense_11_acc_4: 0.9833 - dense_11_acc_5: 0.9251 - dense_11_acc_6: 0.8844 - dense_11_acc_7: 0.9677 - dense_11_acc_8: 0.8740 - dense_11_acc_9: 0.90 - ETA: 22s - loss: 3.3956 - dense_11_loss: 0.5356 - dense_11_acc: 0.9943 - dense_11_acc_1: 0.9982 - dense_11_acc_2: 0.9507 - dense_11_acc_3: 0.9111 - dense_11_acc_4: 0.9836 - dense_11_acc_5: 0.9266 - dense_11_acc_6: 0.8866 - dense_11_acc_7: 0.9684 - dense_11_acc_8: 0.8768 - dense_11_acc_9: 0.90 - ETA: 21s - loss: 3.3261 - dense_11_loss: 0.5255 - dense_11_acc: 0.9944 - dense_11_acc_1: 0.9982 - dense_11_acc_2: 0.9518 - dense_11_acc_3: 0.9131 - dense_11_acc_4: 0.9840 - dense_11_acc_5: 0.9280 - dense_11_acc_6: 0.8891 - dense_11_acc_7: 0.9691 - dense_11_acc_8: 0.8793 - dense_11_acc_9: 0.90 - ETA: 20s - loss: 3.2565 - dense_11_loss: 0.5142 - dense_11_acc: 0.9946 - dense_11_acc_1: 0.9983 - dense_11_acc_2: 0.9528 - dense_11_acc_3: 0.9150 - dense_11_acc_4: 0.9843 - dense_11_acc_5: 0.9296 - dense_11_acc_6: 0.8915 - dense_11_acc_7: 0.9698 - dense_11_acc_8: 0.8817 - dense_11_acc_9: 0.90 - ETA: 20s - loss: 3.1899 - dense_11_loss: 0.5036 - dense_11_acc: 0.9947 - dense_11_acc_1: 0.9983 - dense_11_acc_2: 0.9538 - dense_11_acc_3: 0.9168 - dense_11_acc_4: 0.9847 - dense_11_acc_5: 0.9311 - dense_11_acc_6: 0.8938 - dense_11_acc_7: 0.9704 - dense_11_acc_8: 0.8843 - dense_11_acc_9: 0.91 - ETA: 19s - loss: 3.1260 - dense_11_loss: 0.4932 - dense_11_acc: 0.9948 - dense_11_acc_1: 0.9983 - dense_11_acc_2: 0.9548 - dense_11_acc_3: 0.9185 - dense_11_acc_4: 0.9850 - dense_11_acc_5: 0.9323 - dense_11_acc_6: 0.8960 - dense_11_acc_7: 0.9710 - dense_11_acc_8: 0.8865 - dense_11_acc_9: 0.91 - ETA: 19s - loss: 3.0650 - dense_11_loss: 0.4833 - dense_11_acc: 0.9949 - dense_11_acc_1: 0.9984 - dense_11_acc_2: 0.9557 - dense_11_acc_3: 0.9202 - dense_11_acc_4: 0.9853 - dense_11_acc_5: 0.9337 - dense_11_acc_6: 0.8980 - dense_11_acc_7: 0.9716 - dense_11_acc_8: 0.8888 - dense_11_acc_9: 0.91 - ETA: 18s - loss: 3.0070 - dense_11_loss: 0.4737 - dense_11_acc: 0.9948 - dense_11_acc_1: 0.9984 - dense_11_acc_2: 0.9566 - dense_11_acc_3: 0.9218 - dense_11_acc_4: 0.9856 - dense_11_acc_5: 0.9348 - dense_11_acc_6: 0.9000 - dense_11_acc_7: 0.9722 - dense_11_acc_8: 0.8910 - dense_11_acc_9: 0.91 - ETA: 18s - loss: 2.9505 - dense_11_loss: 0.4646 - dense_11_acc: 0.9949 - dense_11_acc_1: 0.9984 - dense_11_acc_2: 0.9575 - dense_11_acc_3: 0.9233 - dense_11_acc_4: 0.9859 - dense_11_acc_5: 0.9359 - dense_11_acc_6: 0.9020 - dense_11_acc_7: 0.9727 - dense_11_acc_8: 0.8929 - dense_11_acc_9: 0.91 - ETA: 17s - loss: 2.8966 - dense_11_loss: 0.4559 - dense_11_acc: 0.9950 - dense_11_acc_1: 0.9985 - dense_11_acc_2: 0.9583 - dense_11_acc_3: 0.9248 - dense_11_acc_4: 0.9862 - dense_11_acc_5: 0.9371 - dense_11_acc_6: 0.9038 - dense_11_acc_7: 0.9733 - dense_11_acc_8: 0.8946 - dense_11_acc_9: 0.91 - ETA: 17s - loss: 2.8446 - dense_11_loss: 0.4479 - dense_11_acc: 0.9951 - dense_11_acc_1: 0.9985 - dense_11_acc_2: 0.9591 - dense_11_acc_3: 0.9262 - dense_11_acc_4: 0.9864 - dense_11_acc_5: 0.9381 - dense_11_acc_6: 0.9057 - dense_11_acc_7: 0.9738 - dense_11_acc_8: 0.8966 - dense_11_acc_9: 0.92 - ETA: 16s - loss: 2.7938 - dense_11_loss: 0.4399 - dense_11_acc: 0.9950 - dense_11_acc_1: 0.9985 - dense_11_acc_2: 0.9598 - dense_11_acc_3: 0.9276 - dense_11_acc_4: 0.9867 - dense_11_acc_5: 0.9393 - dense_11_acc_6: 0.9072 - dense_11_acc_7: 0.9743 - dense_11_acc_8: 0.8985 - dense_11_acc_9: 0.92 - ETA: 16s - loss: 2.7455 - dense_11_loss: 0.4321 - dense_11_acc: 0.9949 - dense_11_acc_1: 0.9985 - dense_11_acc_2: 0.9605 - dense_11_acc_3: 0.9289 - dense_11_acc_4: 0.9869 - dense_11_acc_5: 0.9402 - dense_11_acc_6: 0.9089 - dense_11_acc_7: 0.9747 - dense_11_acc_8: 0.9002 - dense_11_acc_9: 0.92 - ETA: 15s - loss: 2.6988 - dense_11_loss: 0.4246 - dense_11_acc: 0.9950 - dense_11_acc_1: 0.9986 - dense_11_acc_2: 0.9613 - dense_11_acc_3: 0.9302 - dense_11_acc_4: 0.9871 - dense_11_acc_5: 0.9413 - dense_11_acc_6: 0.9104 - dense_11_acc_7: 0.9752 - dense_11_acc_8: 0.9018 - dense_11_acc_9: 0.9248"
     ]
    },
    {
     "name": "stdout",
     "output_type": "stream",
     "text": [
      " 8400/10000 [========================>.....] - ETA: 15s - loss: 2.6532 - dense_11_loss: 0.4172 - dense_11_acc: 0.9951 - dense_11_acc_1: 0.9986 - dense_11_acc_2: 0.9619 - dense_11_acc_3: 0.9314 - dense_11_acc_4: 0.9874 - dense_11_acc_5: 0.9421 - dense_11_acc_6: 0.9119 - dense_11_acc_7: 0.9756 - dense_11_acc_8: 0.9033 - dense_11_acc_9: 0.92 - ETA: 14s - loss: 2.6093 - dense_11_loss: 0.4101 - dense_11_acc: 0.9952 - dense_11_acc_1: 0.9986 - dense_11_acc_2: 0.9626 - dense_11_acc_3: 0.9326 - dense_11_acc_4: 0.9876 - dense_11_acc_5: 0.9429 - dense_11_acc_6: 0.9134 - dense_11_acc_7: 0.9760 - dense_11_acc_8: 0.9050 - dense_11_acc_9: 0.92 - ETA: 14s - loss: 2.5662 - dense_11_loss: 0.4033 - dense_11_acc: 0.9953 - dense_11_acc_1: 0.9986 - dense_11_acc_2: 0.9632 - dense_11_acc_3: 0.9337 - dense_11_acc_4: 0.9878 - dense_11_acc_5: 0.9439 - dense_11_acc_6: 0.9149 - dense_11_acc_7: 0.9764 - dense_11_acc_8: 0.9064 - dense_11_acc_9: 0.92 - ETA: 13s - loss: 2.5246 - dense_11_loss: 0.3968 - dense_11_acc: 0.9953 - dense_11_acc_1: 0.9987 - dense_11_acc_2: 0.9638 - dense_11_acc_3: 0.9348 - dense_11_acc_4: 0.9880 - dense_11_acc_5: 0.9448 - dense_11_acc_6: 0.9163 - dense_11_acc_7: 0.9768 - dense_11_acc_8: 0.9080 - dense_11_acc_9: 0.92 - ETA: 13s - loss: 2.4850 - dense_11_loss: 0.3907 - dense_11_acc: 0.9954 - dense_11_acc_1: 0.9987 - dense_11_acc_2: 0.9644 - dense_11_acc_3: 0.9359 - dense_11_acc_4: 0.9882 - dense_11_acc_5: 0.9456 - dense_11_acc_6: 0.9177 - dense_11_acc_7: 0.9772 - dense_11_acc_8: 0.9095 - dense_11_acc_9: 0.93 - ETA: 12s - loss: 2.4464 - dense_11_loss: 0.3845 - dense_11_acc: 0.9955 - dense_11_acc_1: 0.9987 - dense_11_acc_2: 0.9650 - dense_11_acc_3: 0.9369 - dense_11_acc_4: 0.9884 - dense_11_acc_5: 0.9465 - dense_11_acc_6: 0.9190 - dense_11_acc_7: 0.9776 - dense_11_acc_8: 0.9106 - dense_11_acc_9: 0.93 - ETA: 12s - loss: 2.4104 - dense_11_loss: 0.3785 - dense_11_acc: 0.9954 - dense_11_acc_1: 0.9987 - dense_11_acc_2: 0.9656 - dense_11_acc_3: 0.9379 - dense_11_acc_4: 0.9886 - dense_11_acc_5: 0.9470 - dense_11_acc_6: 0.9202 - dense_11_acc_7: 0.9779 - dense_11_acc_8: 0.9116 - dense_11_acc_9: 0.93 - ETA: 12s - loss: 2.3740 - dense_11_loss: 0.3727 - dense_11_acc: 0.9955 - dense_11_acc_1: 0.9988 - dense_11_acc_2: 0.9661 - dense_11_acc_3: 0.9389 - dense_11_acc_4: 0.9888 - dense_11_acc_5: 0.9475 - dense_11_acc_6: 0.9213 - dense_11_acc_7: 0.9783 - dense_11_acc_8: 0.9130 - dense_11_acc_9: 0.93 - ETA: 11s - loss: 2.3387 - dense_11_loss: 0.3671 - dense_11_acc: 0.9955 - dense_11_acc_1: 0.9988 - dense_11_acc_2: 0.9666 - dense_11_acc_3: 0.9398 - dense_11_acc_4: 0.9889 - dense_11_acc_5: 0.9482 - dense_11_acc_6: 0.9225 - dense_11_acc_7: 0.9786 - dense_11_acc_8: 0.9142 - dense_11_acc_9: 0.93 - ETA: 11s - loss: 2.3047 - dense_11_loss: 0.3616 - dense_11_acc: 0.9956 - dense_11_acc_1: 0.9988 - dense_11_acc_2: 0.9671 - dense_11_acc_3: 0.9408 - dense_11_acc_4: 0.9891 - dense_11_acc_5: 0.9488 - dense_11_acc_6: 0.9236 - dense_11_acc_7: 0.9789 - dense_11_acc_8: 0.9152 - dense_11_acc_9: 0.93 - ETA: 10s - loss: 2.2727 - dense_11_loss: 0.3568 - dense_11_acc: 0.9957 - dense_11_acc_1: 0.9988 - dense_11_acc_2: 0.9676 - dense_11_acc_3: 0.9416 - dense_11_acc_4: 0.9893 - dense_11_acc_5: 0.9496 - dense_11_acc_6: 0.9245 - dense_11_acc_7: 0.9793 - dense_11_acc_8: 0.9164 - dense_11_acc_9: 0.93 - ETA: 10s - loss: 2.2403 - dense_11_loss: 0.3516 - dense_11_acc: 0.9957 - dense_11_acc_1: 0.9988 - dense_11_acc_2: 0.9681 - dense_11_acc_3: 0.9425 - dense_11_acc_4: 0.9894 - dense_11_acc_5: 0.9503 - dense_11_acc_6: 0.9256 - dense_11_acc_7: 0.9796 - dense_11_acc_8: 0.9175 - dense_11_acc_9: 0.93 - ETA: 10s - loss: 2.2092 - dense_11_loss: 0.3466 - dense_11_acc: 0.9958 - dense_11_acc_1: 0.9988 - dense_11_acc_2: 0.9686 - dense_11_acc_3: 0.9433 - dense_11_acc_4: 0.9896 - dense_11_acc_5: 0.9509 - dense_11_acc_6: 0.9267 - dense_11_acc_7: 0.9799 - dense_11_acc_8: 0.9186 - dense_11_acc_9: 0.93 - ETA: 9s - loss: 2.1785 - dense_11_loss: 0.3417 - dense_11_acc: 0.9959 - dense_11_acc_1: 0.9989 - dense_11_acc_2: 0.9690 - dense_11_acc_3: 0.9441 - dense_11_acc_4: 0.9897 - dense_11_acc_5: 0.9516 - dense_11_acc_6: 0.9277 - dense_11_acc_7: 0.9801 - dense_11_acc_8: 0.9196 - dense_11_acc_9: 0.9394 - ETA: 9s - loss: 2.1490 - dense_11_loss: 0.3369 - dense_11_acc: 0.9959 - dense_11_acc_1: 0.9989 - dense_11_acc_2: 0.9694 - dense_11_acc_3: 0.9449 - dense_11_acc_4: 0.9899 - dense_11_acc_5: 0.9523 - dense_11_acc_6: 0.9287 - dense_11_acc_7: 0.9804 - dense_11_acc_8: 0.9206 - dense_11_acc_9: 0.940 - ETA: 8s - loss: 2.1199 - dense_11_loss: 0.3323 - dense_11_acc: 0.9960 - dense_11_acc_1: 0.9989 - dense_11_acc_2: 0.9699 - dense_11_acc_3: 0.9457 - dense_11_acc_4: 0.9900 - dense_11_acc_5: 0.9529 - dense_11_acc_6: 0.9297 - dense_11_acc_7: 0.9807 - dense_11_acc_8: 0.9217 - dense_11_acc_9: 0.941 - ETA: 8s - loss: 2.0921 - dense_11_loss: 0.3278 - dense_11_acc: 0.9960 - dense_11_acc_1: 0.9989 - dense_11_acc_2: 0.9703 - dense_11_acc_3: 0.9464 - dense_11_acc_4: 0.9901 - dense_11_acc_5: 0.9534 - dense_11_acc_6: 0.9307 - dense_11_acc_7: 0.9810 - dense_11_acc_8: 0.9227 - dense_11_acc_9: 0.941 - ETA: 8s - loss: 2.0646 - dense_11_loss: 0.3234 - dense_11_acc: 0.9961 - dense_11_acc_1: 0.9989 - dense_11_acc_2: 0.9707 - dense_11_acc_3: 0.9472 - dense_11_acc_4: 0.9903 - dense_11_acc_5: 0.9541 - dense_11_acc_6: 0.9316 - dense_11_acc_7: 0.9812 - dense_11_acc_8: 0.9238 - dense_11_acc_9: 0.942 - ETA: 7s - loss: 2.0381 - dense_11_loss: 0.3193 - dense_11_acc: 0.9961 - dense_11_acc_1: 0.9989 - dense_11_acc_2: 0.9711 - dense_11_acc_3: 0.9479 - dense_11_acc_4: 0.9904 - dense_11_acc_5: 0.9547 - dense_11_acc_6: 0.9325 - dense_11_acc_7: 0.9815 - dense_11_acc_8: 0.9247 - dense_11_acc_9: 0.943 - ETA: 7s - loss: 2.0120 - dense_11_loss: 0.3151 - dense_11_acc: 0.9962 - dense_11_acc_1: 0.9989 - dense_11_acc_2: 0.9714 - dense_11_acc_3: 0.9486 - dense_11_acc_4: 0.9905 - dense_11_acc_5: 0.9553 - dense_11_acc_6: 0.9334 - dense_11_acc_7: 0.9817 - dense_11_acc_8: 0.9257 - dense_11_acc_9: 0.944 - ETA: 7s - loss: 1.9868 - dense_11_loss: 0.3111 - dense_11_acc: 0.9962 - dense_11_acc_1: 0.9990 - dense_11_acc_2: 0.9718 - dense_11_acc_3: 0.9492 - dense_11_acc_4: 0.9906 - dense_11_acc_5: 0.9558 - dense_11_acc_6: 0.9343 - dense_11_acc_7: 0.9819 - dense_11_acc_8: 0.9265 - dense_11_acc_9: 0.944 - ETA: 6s - loss: 1.9621 - dense_11_loss: 0.3072 - dense_11_acc: 0.9963 - dense_11_acc_1: 0.9990 - dense_11_acc_2: 0.9722 - dense_11_acc_3: 0.9499 - dense_11_acc_4: 0.9908 - dense_11_acc_5: 0.9564 - dense_11_acc_6: 0.9351 - dense_11_acc_7: 0.9822 - dense_11_acc_8: 0.9274 - dense_11_acc_9: 0.945 - ETA: 6s - loss: 1.9389 - dense_11_loss: 0.3034 - dense_11_acc: 0.9963 - dense_11_acc_1: 0.9990 - dense_11_acc_2: 0.9725 - dense_11_acc_3: 0.9505 - dense_11_acc_4: 0.9909 - dense_11_acc_5: 0.9570 - dense_11_acc_6: 0.9359 - dense_11_acc_7: 0.9824 - dense_11_acc_8: 0.9281 - dense_11_acc_9: 0.946 - ETA: 6s - loss: 1.9153 - dense_11_loss: 0.2996 - dense_11_acc: 0.9964 - dense_11_acc_1: 0.9990 - dense_11_acc_2: 0.9729 - dense_11_acc_3: 0.9511 - dense_11_acc_4: 0.9910 - dense_11_acc_5: 0.9575 - dense_11_acc_6: 0.9368 - dense_11_acc_7: 0.9826 - dense_11_acc_8: 0.9290 - dense_11_acc_9: 0.947 - ETA: 5s - loss: 1.8928 - dense_11_loss: 0.2960 - dense_11_acc: 0.9964 - dense_11_acc_1: 0.9990 - dense_11_acc_2: 0.9732 - dense_11_acc_3: 0.9517 - dense_11_acc_4: 0.9911 - dense_11_acc_5: 0.9578 - dense_11_acc_6: 0.9374 - dense_11_acc_7: 0.9828 - dense_11_acc_8: 0.9299 - dense_11_acc_9: 0.947 - ETA: 5s - loss: 1.8703 - dense_11_loss: 0.2924 - dense_11_acc: 0.9965 - dense_11_acc_1: 0.9990 - dense_11_acc_2: 0.9735 - dense_11_acc_3: 0.9523 - dense_11_acc_4: 0.9912 - dense_11_acc_5: 0.9583 - dense_11_acc_6: 0.9382 - dense_11_acc_7: 0.9830 - dense_11_acc_8: 0.9307 - dense_11_acc_9: 0.948 - ETA: 5s - loss: 1.8488 - dense_11_loss: 0.2889 - dense_11_acc: 0.9965 - dense_11_acc_1: 0.9990 - dense_11_acc_2: 0.9739 - dense_11_acc_3: 0.9529 - dense_11_acc_4: 0.9913 - dense_11_acc_5: 0.9586 - dense_11_acc_6: 0.9389 - dense_11_acc_7: 0.9833 - dense_11_acc_8: 0.9316 - dense_11_acc_9: 0.948 - ETA: 4s - loss: 1.8277 - dense_11_loss: 0.2855 - dense_11_acc: 0.9965 - dense_11_acc_1: 0.9990 - dense_11_acc_2: 0.9742 - dense_11_acc_3: 0.9535 - dense_11_acc_4: 0.9914 - dense_11_acc_5: 0.9589 - dense_11_acc_6: 0.9396 - dense_11_acc_7: 0.9835 - dense_11_acc_8: 0.9324 - dense_11_acc_9: 0.9495"
     ]
    },
    {
     "name": "stdout",
     "output_type": "stream",
     "text": [
      "10000/10000 [==============================] - ETA: 4s - loss: 1.8071 - dense_11_loss: 0.2822 - dense_11_acc: 0.9966 - dense_11_acc_1: 0.9991 - dense_11_acc_2: 0.9745 - dense_11_acc_3: 0.9540 - dense_11_acc_4: 0.9915 - dense_11_acc_5: 0.9593 - dense_11_acc_6: 0.9404 - dense_11_acc_7: 0.9836 - dense_11_acc_8: 0.9332 - dense_11_acc_9: 0.950 - ETA: 4s - loss: 1.7871 - dense_11_loss: 0.2790 - dense_11_acc: 0.9966 - dense_11_acc_1: 0.9991 - dense_11_acc_2: 0.9748 - dense_11_acc_3: 0.9545 - dense_11_acc_4: 0.9916 - dense_11_acc_5: 0.9597 - dense_11_acc_6: 0.9410 - dense_11_acc_7: 0.9838 - dense_11_acc_8: 0.9338 - dense_11_acc_9: 0.950 - ETA: 3s - loss: 1.7671 - dense_11_loss: 0.2759 - dense_11_acc: 0.9967 - dense_11_acc_1: 0.9991 - dense_11_acc_2: 0.9751 - dense_11_acc_3: 0.9551 - dense_11_acc_4: 0.9917 - dense_11_acc_5: 0.9601 - dense_11_acc_6: 0.9417 - dense_11_acc_7: 0.9840 - dense_11_acc_8: 0.9346 - dense_11_acc_9: 0.951 - ETA: 3s - loss: 1.7475 - dense_11_loss: 0.2728 - dense_11_acc: 0.9967 - dense_11_acc_1: 0.9991 - dense_11_acc_2: 0.9753 - dense_11_acc_3: 0.9556 - dense_11_acc_4: 0.9918 - dense_11_acc_5: 0.9606 - dense_11_acc_6: 0.9424 - dense_11_acc_7: 0.9842 - dense_11_acc_8: 0.9353 - dense_11_acc_9: 0.951 - ETA: 3s - loss: 1.7285 - dense_11_loss: 0.2698 - dense_11_acc: 0.9967 - dense_11_acc_1: 0.9991 - dense_11_acc_2: 0.9756 - dense_11_acc_3: 0.9561 - dense_11_acc_4: 0.9919 - dense_11_acc_5: 0.9610 - dense_11_acc_6: 0.9430 - dense_11_acc_7: 0.9844 - dense_11_acc_8: 0.9361 - dense_11_acc_9: 0.952 - ETA: 3s - loss: 1.7100 - dense_11_loss: 0.2668 - dense_11_acc: 0.9968 - dense_11_acc_1: 0.9991 - dense_11_acc_2: 0.9758 - dense_11_acc_3: 0.9566 - dense_11_acc_4: 0.9920 - dense_11_acc_5: 0.9614 - dense_11_acc_6: 0.9437 - dense_11_acc_7: 0.9846 - dense_11_acc_8: 0.9367 - dense_11_acc_9: 0.952 - ETA: 2s - loss: 1.6918 - dense_11_loss: 0.2639 - dense_11_acc: 0.9968 - dense_11_acc_1: 0.9991 - dense_11_acc_2: 0.9760 - dense_11_acc_3: 0.9570 - dense_11_acc_4: 0.9921 - dense_11_acc_5: 0.9619 - dense_11_acc_6: 0.9443 - dense_11_acc_7: 0.9847 - dense_11_acc_8: 0.9373 - dense_11_acc_9: 0.953 - ETA: 2s - loss: 1.6743 - dense_11_loss: 0.2611 - dense_11_acc: 0.9968 - dense_11_acc_1: 0.9991 - dense_11_acc_2: 0.9763 - dense_11_acc_3: 0.9575 - dense_11_acc_4: 0.9922 - dense_11_acc_5: 0.9623 - dense_11_acc_6: 0.9449 - dense_11_acc_7: 0.9849 - dense_11_acc_8: 0.9378 - dense_11_acc_9: 0.953 - ETA: 2s - loss: 1.6570 - dense_11_loss: 0.2583 - dense_11_acc: 0.9968 - dense_11_acc_1: 0.9991 - dense_11_acc_2: 0.9766 - dense_11_acc_3: 0.9580 - dense_11_acc_4: 0.9923 - dense_11_acc_5: 0.9626 - dense_11_acc_6: 0.9455 - dense_11_acc_7: 0.9851 - dense_11_acc_8: 0.9385 - dense_11_acc_9: 0.954 - ETA: 1s - loss: 1.6399 - dense_11_loss: 0.2556 - dense_11_acc: 0.9968 - dense_11_acc_1: 0.9991 - dense_11_acc_2: 0.9768 - dense_11_acc_3: 0.9584 - dense_11_acc_4: 0.9923 - dense_11_acc_5: 0.9630 - dense_11_acc_6: 0.9461 - dense_11_acc_7: 0.9852 - dense_11_acc_8: 0.9391 - dense_11_acc_9: 0.954 - ETA: 1s - loss: 1.6231 - dense_11_loss: 0.2529 - dense_11_acc: 0.9968 - dense_11_acc_1: 0.9992 - dense_11_acc_2: 0.9771 - dense_11_acc_3: 0.9588 - dense_11_acc_4: 0.9924 - dense_11_acc_5: 0.9634 - dense_11_acc_6: 0.9466 - dense_11_acc_7: 0.9854 - dense_11_acc_8: 0.9398 - dense_11_acc_9: 0.955 - ETA: 1s - loss: 1.6068 - dense_11_loss: 0.2503 - dense_11_acc: 0.9969 - dense_11_acc_1: 0.9992 - dense_11_acc_2: 0.9773 - dense_11_acc_3: 0.9593 - dense_11_acc_4: 0.9925 - dense_11_acc_5: 0.9638 - dense_11_acc_6: 0.9471 - dense_11_acc_7: 0.9855 - dense_11_acc_8: 0.9404 - dense_11_acc_9: 0.955 - ETA: 0s - loss: 1.5919 - dense_11_loss: 0.2480 - dense_11_acc: 0.9969 - dense_11_acc_1: 0.9992 - dense_11_acc_2: 0.9775 - dense_11_acc_3: 0.9597 - dense_11_acc_4: 0.9926 - dense_11_acc_5: 0.9639 - dense_11_acc_6: 0.9476 - dense_11_acc_7: 0.9857 - dense_11_acc_8: 0.9407 - dense_11_acc_9: 0.956 - ETA: 0s - loss: 1.5765 - dense_11_loss: 0.2455 - dense_11_acc: 0.9969 - dense_11_acc_1: 0.9992 - dense_11_acc_2: 0.9778 - dense_11_acc_3: 0.9601 - dense_11_acc_4: 0.9927 - dense_11_acc_5: 0.9642 - dense_11_acc_6: 0.9482 - dense_11_acc_7: 0.9858 - dense_11_acc_8: 0.9413 - dense_11_acc_9: 0.956 - ETA: 0s - loss: 1.5610 - dense_11_loss: 0.2431 - dense_11_acc: 0.9970 - dense_11_acc_1: 0.9992 - dense_11_acc_2: 0.9780 - dense_11_acc_3: 0.9605 - dense_11_acc_4: 0.9927 - dense_11_acc_5: 0.9645 - dense_11_acc_6: 0.9487 - dense_11_acc_7: 0.9860 - dense_11_acc_8: 0.9419 - dense_11_acc_9: 0.957 - 29s 3ms/step - loss: 1.5459 - dense_11_loss: 0.2407 - dense_11_acc: 0.9970 - dense_11_acc_1: 0.9992 - dense_11_acc_2: 0.9782 - dense_11_acc_3: 0.9609 - dense_11_acc_4: 0.9928 - dense_11_acc_5: 0.9648 - dense_11_acc_6: 0.9492 - dense_11_acc_7: 0.9861 - dense_11_acc_8: 0.9425 - dense_11_acc_9: 0.9575\n"
     ]
    },
    {
     "data": {
      "text/plain": [
       "<keras.callbacks.History at 0x2920e52f908>"
      ]
     },
     "execution_count": 61,
     "metadata": {},
     "output_type": "execute_result"
    }
   ],
   "source": [
    "model.fit([Xoh, s0, c0], outputs, epochs=1, batch_size=100)"
   ]
  },
  {
   "cell_type": "markdown",
   "metadata": {},
   "source": [
    "While training you can see the loss as well as the accuracy on each of the 10 positions of the output. The table below gives you an example of what the accuracies could be if the batch had 2 examples: \n",
    "\n",
    "<img src=\"images/table.png\" style=\"width:700;height:200px;\"> <br>\n",
    "<caption><center>Thus, `dense_2_acc_8: 0.89` means that you are predicting the 7th character of the output correctly 89% of the time in the current batch of data. </center></caption>\n",
    "\n",
    "\n",
    "We have run this model for longer, and saved the weights. Run the next cell to load our weights. (By training a model for several minutes, you should be able to obtain a model of similar accuracy, but loading our model will save you time.) "
   ]
  },
  {
   "cell_type": "code",
   "execution_count": 62,
   "metadata": {},
   "outputs": [],
   "source": [
    "model.load_weights('models/model.h5')"
   ]
  },
  {
   "cell_type": "markdown",
   "metadata": {},
   "source": [
    "You can now see the results on new examples."
   ]
  },
  {
   "cell_type": "code",
   "execution_count": 63,
   "metadata": {},
   "outputs": [
    {
     "ename": "ValueError",
     "evalue": "Error when checking : expected input_5 to have 3 dimensions, but got array with shape (37, 30)",
     "output_type": "error",
     "traceback": [
      "\u001b[0;31m---------------------------------------------------------------------------\u001b[0m",
      "\u001b[0;31mValueError\u001b[0m                                Traceback (most recent call last)",
      "\u001b[0;32m<ipython-input-63-14743fc632e2>\u001b[0m in \u001b[0;36m<module>\u001b[0;34m()\u001b[0m\n\u001b[1;32m      4\u001b[0m     \u001b[0msource\u001b[0m \u001b[1;33m=\u001b[0m \u001b[0mstring_to_int\u001b[0m\u001b[1;33m(\u001b[0m\u001b[0mexample\u001b[0m\u001b[1;33m,\u001b[0m \u001b[0mTx\u001b[0m\u001b[1;33m,\u001b[0m \u001b[0mhuman_vocab\u001b[0m\u001b[1;33m)\u001b[0m\u001b[1;33m\u001b[0m\u001b[0m\n\u001b[1;32m      5\u001b[0m     \u001b[0msource\u001b[0m \u001b[1;33m=\u001b[0m \u001b[0mnp\u001b[0m\u001b[1;33m.\u001b[0m\u001b[0marray\u001b[0m\u001b[1;33m(\u001b[0m\u001b[0mlist\u001b[0m\u001b[1;33m(\u001b[0m\u001b[0mmap\u001b[0m\u001b[1;33m(\u001b[0m\u001b[1;32mlambda\u001b[0m \u001b[0mx\u001b[0m\u001b[1;33m:\u001b[0m \u001b[0mto_categorical\u001b[0m\u001b[1;33m(\u001b[0m\u001b[0mx\u001b[0m\u001b[1;33m,\u001b[0m \u001b[0mnum_classes\u001b[0m\u001b[1;33m=\u001b[0m\u001b[0mlen\u001b[0m\u001b[1;33m(\u001b[0m\u001b[0mhuman_vocab\u001b[0m\u001b[1;33m)\u001b[0m\u001b[1;33m)\u001b[0m\u001b[1;33m,\u001b[0m \u001b[0msource\u001b[0m\u001b[1;33m)\u001b[0m\u001b[1;33m)\u001b[0m\u001b[1;33m)\u001b[0m\u001b[1;33m.\u001b[0m\u001b[0mswapaxes\u001b[0m\u001b[1;33m(\u001b[0m\u001b[1;36m0\u001b[0m\u001b[1;33m,\u001b[0m\u001b[1;36m1\u001b[0m\u001b[1;33m)\u001b[0m\u001b[1;33m\u001b[0m\u001b[0m\n\u001b[0;32m----> 6\u001b[0;31m     \u001b[0mprediction\u001b[0m \u001b[1;33m=\u001b[0m \u001b[0mmodel\u001b[0m\u001b[1;33m.\u001b[0m\u001b[0mpredict\u001b[0m\u001b[1;33m(\u001b[0m\u001b[1;33m[\u001b[0m\u001b[0msource\u001b[0m\u001b[1;33m,\u001b[0m \u001b[0ms0\u001b[0m\u001b[1;33m,\u001b[0m \u001b[0mc0\u001b[0m\u001b[1;33m]\u001b[0m\u001b[1;33m)\u001b[0m\u001b[1;33m\u001b[0m\u001b[0m\n\u001b[0m\u001b[1;32m      7\u001b[0m     \u001b[0mprediction\u001b[0m \u001b[1;33m=\u001b[0m \u001b[0mnp\u001b[0m\u001b[1;33m.\u001b[0m\u001b[0margmax\u001b[0m\u001b[1;33m(\u001b[0m\u001b[0mprediction\u001b[0m\u001b[1;33m,\u001b[0m \u001b[0maxis\u001b[0m \u001b[1;33m=\u001b[0m \u001b[1;33m-\u001b[0m\u001b[1;36m1\u001b[0m\u001b[1;33m)\u001b[0m\u001b[1;33m\u001b[0m\u001b[0m\n\u001b[1;32m      8\u001b[0m     \u001b[0moutput\u001b[0m \u001b[1;33m=\u001b[0m \u001b[1;33m[\u001b[0m\u001b[0minv_machine_vocab\u001b[0m\u001b[1;33m[\u001b[0m\u001b[0mint\u001b[0m\u001b[1;33m(\u001b[0m\u001b[0mi\u001b[0m\u001b[1;33m)\u001b[0m\u001b[1;33m]\u001b[0m \u001b[1;32mfor\u001b[0m \u001b[0mi\u001b[0m \u001b[1;32min\u001b[0m \u001b[0mprediction\u001b[0m\u001b[1;33m]\u001b[0m\u001b[1;33m\u001b[0m\u001b[0m\n",
      "\u001b[0;32mc:\\users\\weige\\appdata\\local\\programs\\python\\python35\\lib\\site-packages\\keras\\engine\\training.py\u001b[0m in \u001b[0;36mpredict\u001b[0;34m(self, x, batch_size, verbose, steps)\u001b[0m\n\u001b[1;32m   1815\u001b[0m         x = _standardize_input_data(x, self._feed_input_names,\n\u001b[1;32m   1816\u001b[0m                                     \u001b[0mself\u001b[0m\u001b[1;33m.\u001b[0m\u001b[0m_feed_input_shapes\u001b[0m\u001b[1;33m,\u001b[0m\u001b[1;33m\u001b[0m\u001b[0m\n\u001b[0;32m-> 1817\u001b[0;31m                                     check_batch_axis=False)\n\u001b[0m\u001b[1;32m   1818\u001b[0m         \u001b[1;32mif\u001b[0m \u001b[0mself\u001b[0m\u001b[1;33m.\u001b[0m\u001b[0mstateful\u001b[0m\u001b[1;33m:\u001b[0m\u001b[1;33m\u001b[0m\u001b[0m\n\u001b[1;32m   1819\u001b[0m             \u001b[1;32mif\u001b[0m \u001b[0mx\u001b[0m\u001b[1;33m[\u001b[0m\u001b[1;36m0\u001b[0m\u001b[1;33m]\u001b[0m\u001b[1;33m.\u001b[0m\u001b[0mshape\u001b[0m\u001b[1;33m[\u001b[0m\u001b[1;36m0\u001b[0m\u001b[1;33m]\u001b[0m \u001b[1;33m>\u001b[0m \u001b[0mbatch_size\u001b[0m \u001b[1;32mand\u001b[0m \u001b[0mx\u001b[0m\u001b[1;33m[\u001b[0m\u001b[1;36m0\u001b[0m\u001b[1;33m]\u001b[0m\u001b[1;33m.\u001b[0m\u001b[0mshape\u001b[0m\u001b[1;33m[\u001b[0m\u001b[1;36m0\u001b[0m\u001b[1;33m]\u001b[0m \u001b[1;33m%\u001b[0m \u001b[0mbatch_size\u001b[0m \u001b[1;33m!=\u001b[0m \u001b[1;36m0\u001b[0m\u001b[1;33m:\u001b[0m\u001b[1;33m\u001b[0m\u001b[0m\n",
      "\u001b[0;32mc:\\users\\weige\\appdata\\local\\programs\\python\\python35\\lib\\site-packages\\keras\\engine\\training.py\u001b[0m in \u001b[0;36m_standardize_input_data\u001b[0;34m(data, names, shapes, check_batch_axis, exception_prefix)\u001b[0m\n\u001b[1;32m    111\u001b[0m                         \u001b[1;34m': expected '\u001b[0m \u001b[1;33m+\u001b[0m \u001b[0mnames\u001b[0m\u001b[1;33m[\u001b[0m\u001b[0mi\u001b[0m\u001b[1;33m]\u001b[0m \u001b[1;33m+\u001b[0m \u001b[1;34m' to have '\u001b[0m \u001b[1;33m+\u001b[0m\u001b[1;33m\u001b[0m\u001b[0m\n\u001b[1;32m    112\u001b[0m                         \u001b[0mstr\u001b[0m\u001b[1;33m(\u001b[0m\u001b[0mlen\u001b[0m\u001b[1;33m(\u001b[0m\u001b[0mshape\u001b[0m\u001b[1;33m)\u001b[0m\u001b[1;33m)\u001b[0m \u001b[1;33m+\u001b[0m \u001b[1;34m' dimensions, but got array '\u001b[0m\u001b[1;33m\u001b[0m\u001b[0m\n\u001b[0;32m--> 113\u001b[0;31m                         'with shape ' + str(data_shape))\n\u001b[0m\u001b[1;32m    114\u001b[0m                 \u001b[1;32mif\u001b[0m \u001b[1;32mnot\u001b[0m \u001b[0mcheck_batch_axis\u001b[0m\u001b[1;33m:\u001b[0m\u001b[1;33m\u001b[0m\u001b[0m\n\u001b[1;32m    115\u001b[0m                     \u001b[0mdata_shape\u001b[0m \u001b[1;33m=\u001b[0m \u001b[0mdata_shape\u001b[0m\u001b[1;33m[\u001b[0m\u001b[1;36m1\u001b[0m\u001b[1;33m:\u001b[0m\u001b[1;33m]\u001b[0m\u001b[1;33m\u001b[0m\u001b[0m\n",
      "\u001b[0;31mValueError\u001b[0m: Error when checking : expected input_5 to have 3 dimensions, but got array with shape (37, 30)"
     ]
    }
   ],
   "source": [
    "EXAMPLES = ['3 May 1979', '5 April 09', '21th of August 2016', 'Tue 10 Jul 2007', 'Saturday May 9 2018', 'March 3 2001', 'March 3rd 2001', '1 March 2001']\n",
    "for example in EXAMPLES:\n",
    "    \n",
    "    source = string_to_int(example, Tx, human_vocab)\n",
    "    source = np.array(list(map(lambda x: to_categorical(x, num_classes=len(human_vocab)), source))).swapaxes(0,1)\n",
    "    prediction = model.predict([source, s0, c0])\n",
    "    prediction = np.argmax(prediction, axis = -1)\n",
    "    output = [inv_machine_vocab[int(i)] for i in prediction]\n",
    "    \n",
    "    print(\"source:\", example)\n",
    "    print(\"output:\", ''.join(output))"
   ]
  },
  {
   "cell_type": "markdown",
   "metadata": {},
   "source": [
    "You can also change these examples to test with your own examples. The next part will give you a better sense on what the attention mechanism is doing--i.e., what part of the input the network is paying attention to when generating a particular output character. "
   ]
  },
  {
   "cell_type": "markdown",
   "metadata": {},
   "source": [
    "## 3 - Visualizing Attention (Optional / Ungraded)\n",
    "\n",
    "Since the problem has a fixed output length of 10, it is also possible to carry out this task using 10 different softmax units to generate the 10 characters of the output. But one advantage of the attention model is that each part of the output (say the month) knows it needs to depend only on a small part of the input (the characters in the input giving the month). We can  visualize what part of the output is looking at what part of the input.\n",
    "\n",
    "Consider the task of translating \"Saturday 9 May 2018\" to \"2018-05-09\". If we visualize the computed $\\alpha^{\\langle t, t' \\rangle}$ we get this: \n",
    "\n",
    "<img src=\"images/date_attention.png\" style=\"width:600;height:300px;\"> <br>\n",
    "<caption><center> **Figure 8**: Full Attention Map</center></caption>\n",
    "\n",
    "Notice how the output ignores the \"Saturday\" portion of the input. None of the output timesteps are paying much attention to that portion of the input. We see also that 9 has been translated as 09 and May has been correctly translated into 05, with the output paying attention to the parts of the input it needs to to make the translation. The year mostly requires it to pay attention to the input's \"18\" in order to generate \"2018.\" \n",
    "\n"
   ]
  },
  {
   "cell_type": "markdown",
   "metadata": {},
   "source": [
    "### 3.1 - Getting the activations from the network\n",
    "\n",
    "Lets now visualize the attention values in your network. We'll propagate an example through the network, then visualize the values of $\\alpha^{\\langle t, t' \\rangle}$. \n",
    "\n",
    "To figure out where the attention values are located, let's start by printing a summary of the model ."
   ]
  },
  {
   "cell_type": "code",
   "execution_count": 64,
   "metadata": {},
   "outputs": [
    {
     "name": "stdout",
     "output_type": "stream",
     "text": [
      "__________________________________________________________________________________________________\n",
      "Layer (type)                    Output Shape         Param #     Connected to                     \n",
      "==================================================================================================\n",
      "input_5 (InputLayer)            (None, 30, 37)       0                                            \n",
      "__________________________________________________________________________________________________\n",
      "s0 (InputLayer)                 (None, 64)           0                                            \n",
      "__________________________________________________________________________________________________\n",
      "bidirectional_5 (Bidirectional) (None, 30, 64)       17920       input_5[0][0]                    \n",
      "__________________________________________________________________________________________________\n",
      "repeat_vector_3 (RepeatVector)  (None, 30, 64)       0           s0[0][0]                         \n",
      "                                                                 lstm_9[0][0]                     \n",
      "                                                                 lstm_9[1][0]                     \n",
      "                                                                 lstm_9[2][0]                     \n",
      "                                                                 lstm_9[3][0]                     \n",
      "                                                                 lstm_9[4][0]                     \n",
      "                                                                 lstm_9[5][0]                     \n",
      "                                                                 lstm_9[6][0]                     \n",
      "                                                                 lstm_9[7][0]                     \n",
      "                                                                 lstm_9[8][0]                     \n",
      "__________________________________________________________________________________________________\n",
      "concatenate_3 (Concatenate)     (None, 30, 128)      0           bidirectional_5[0][0]            \n",
      "                                                                 repeat_vector_3[0][0]            \n",
      "                                                                 bidirectional_5[0][0]            \n",
      "                                                                 repeat_vector_3[1][0]            \n",
      "                                                                 bidirectional_5[0][0]            \n",
      "                                                                 repeat_vector_3[2][0]            \n",
      "                                                                 bidirectional_5[0][0]            \n",
      "                                                                 repeat_vector_3[3][0]            \n",
      "                                                                 bidirectional_5[0][0]            \n",
      "                                                                 repeat_vector_3[4][0]            \n",
      "                                                                 bidirectional_5[0][0]            \n",
      "                                                                 repeat_vector_3[5][0]            \n",
      "                                                                 bidirectional_5[0][0]            \n",
      "                                                                 repeat_vector_3[6][0]            \n",
      "                                                                 bidirectional_5[0][0]            \n",
      "                                                                 repeat_vector_3[7][0]            \n",
      "                                                                 bidirectional_5[0][0]            \n",
      "                                                                 repeat_vector_3[8][0]            \n",
      "                                                                 bidirectional_5[0][0]            \n",
      "                                                                 repeat_vector_3[9][0]            \n",
      "__________________________________________________________________________________________________\n",
      "dense_9 (Dense)                 (None, 30, 10)       1290        concatenate_3[0][0]              \n",
      "                                                                 concatenate_3[1][0]              \n",
      "                                                                 concatenate_3[2][0]              \n",
      "                                                                 concatenate_3[3][0]              \n",
      "                                                                 concatenate_3[4][0]              \n",
      "                                                                 concatenate_3[5][0]              \n",
      "                                                                 concatenate_3[6][0]              \n",
      "                                                                 concatenate_3[7][0]              \n",
      "                                                                 concatenate_3[8][0]              \n",
      "                                                                 concatenate_3[9][0]              \n",
      "__________________________________________________________________________________________________\n",
      "dense_10 (Dense)                (None, 30, 1)        11          dense_9[0][0]                    \n",
      "                                                                 dense_9[1][0]                    \n",
      "                                                                 dense_9[2][0]                    \n",
      "                                                                 dense_9[3][0]                    \n",
      "                                                                 dense_9[4][0]                    \n",
      "                                                                 dense_9[5][0]                    \n",
      "                                                                 dense_9[6][0]                    \n",
      "                                                                 dense_9[7][0]                    \n",
      "                                                                 dense_9[8][0]                    \n",
      "                                                                 dense_9[9][0]                    \n",
      "__________________________________________________________________________________________________\n",
      "attention_weights (Activation)  (None, 30, 1)        0           dense_10[0][0]                   \n",
      "                                                                 dense_10[1][0]                   \n",
      "                                                                 dense_10[2][0]                   \n",
      "                                                                 dense_10[3][0]                   \n",
      "                                                                 dense_10[4][0]                   \n",
      "                                                                 dense_10[5][0]                   \n",
      "                                                                 dense_10[6][0]                   \n",
      "                                                                 dense_10[7][0]                   \n",
      "                                                                 dense_10[8][0]                   \n",
      "                                                                 dense_10[9][0]                   \n",
      "__________________________________________________________________________________________________\n",
      "dot_3 (Dot)                     (None, 1, 64)        0           attention_weights[0][0]          \n",
      "                                                                 bidirectional_5[0][0]            \n",
      "                                                                 attention_weights[1][0]          \n",
      "                                                                 bidirectional_5[0][0]            \n",
      "                                                                 attention_weights[2][0]          \n",
      "                                                                 bidirectional_5[0][0]            \n",
      "                                                                 attention_weights[3][0]          \n",
      "                                                                 bidirectional_5[0][0]            \n"
     ]
    },
    {
     "name": "stdout",
     "output_type": "stream",
     "text": [
      "                                                                 attention_weights[4][0]          \n",
      "                                                                 bidirectional_5[0][0]            \n",
      "                                                                 attention_weights[5][0]          \n",
      "                                                                 bidirectional_5[0][0]            \n",
      "                                                                 attention_weights[6][0]          \n",
      "                                                                 bidirectional_5[0][0]            \n",
      "                                                                 attention_weights[7][0]          \n",
      "                                                                 bidirectional_5[0][0]            \n",
      "                                                                 attention_weights[8][0]          \n",
      "                                                                 bidirectional_5[0][0]            \n",
      "                                                                 attention_weights[9][0]          \n",
      "                                                                 bidirectional_5[0][0]            \n",
      "__________________________________________________________________________________________________\n",
      "c0 (InputLayer)                 (None, 64)           0                                            \n",
      "__________________________________________________________________________________________________\n",
      "lstm_9 (LSTM)                   [(None, 64), (None,  33024       dot_3[0][0]                      \n",
      "                                                                 s0[0][0]                         \n",
      "                                                                 c0[0][0]                         \n",
      "                                                                 dot_3[1][0]                      \n",
      "                                                                 lstm_9[0][0]                     \n",
      "                                                                 lstm_9[0][2]                     \n",
      "                                                                 dot_3[2][0]                      \n",
      "                                                                 lstm_9[1][0]                     \n",
      "                                                                 lstm_9[1][2]                     \n",
      "                                                                 dot_3[3][0]                      \n",
      "                                                                 lstm_9[2][0]                     \n",
      "                                                                 lstm_9[2][2]                     \n",
      "                                                                 dot_3[4][0]                      \n",
      "                                                                 lstm_9[3][0]                     \n",
      "                                                                 lstm_9[3][2]                     \n",
      "                                                                 dot_3[5][0]                      \n",
      "                                                                 lstm_9[4][0]                     \n",
      "                                                                 lstm_9[4][2]                     \n",
      "                                                                 dot_3[6][0]                      \n",
      "                                                                 lstm_9[5][0]                     \n",
      "                                                                 lstm_9[5][2]                     \n",
      "                                                                 dot_3[7][0]                      \n",
      "                                                                 lstm_9[6][0]                     \n",
      "                                                                 lstm_9[6][2]                     \n",
      "                                                                 dot_3[8][0]                      \n",
      "                                                                 lstm_9[7][0]                     \n",
      "                                                                 lstm_9[7][2]                     \n",
      "                                                                 dot_3[9][0]                      \n",
      "                                                                 lstm_9[8][0]                     \n",
      "                                                                 lstm_9[8][2]                     \n",
      "__________________________________________________________________________________________________\n",
      "dense_11 (Dense)                (None, 11)           715         lstm_9[0][0]                     \n",
      "                                                                 lstm_9[1][0]                     \n",
      "                                                                 lstm_9[2][0]                     \n",
      "                                                                 lstm_9[3][0]                     \n",
      "                                                                 lstm_9[4][0]                     \n",
      "                                                                 lstm_9[5][0]                     \n",
      "                                                                 lstm_9[6][0]                     \n",
      "                                                                 lstm_9[7][0]                     \n",
      "                                                                 lstm_9[8][0]                     \n",
      "                                                                 lstm_9[9][0]                     \n",
      "==================================================================================================\n",
      "Total params: 52,960\n",
      "Trainable params: 52,960\n",
      "Non-trainable params: 0\n",
      "__________________________________________________________________________________________________\n"
     ]
    }
   ],
   "source": [
    "model.summary()"
   ]
  },
  {
   "cell_type": "markdown",
   "metadata": {},
   "source": [
    "Navigate through the output of `model.summary()` above. You can see that the layer named `attention_weights` outputs the `alphas` of shape (m, 30, 1) before `dot_2` computes the context vector for every time step $t = 0, \\ldots, T_y-1$. Lets get the activations from this layer.\n",
    "\n",
    "The function `attention_map()` pulls out the attention values from your model and plots them."
   ]
  },
  {
   "cell_type": "code",
   "execution_count": 65,
   "metadata": {
    "scrolled": false
   },
   "outputs": [
    {
     "data": {
      "text/plain": [
       "<matplotlib.figure.Figure at 0x2920ec07c18>"
      ]
     },
     "metadata": {},
     "output_type": "display_data"
    },
    {
     "data": {
      "image/png": "[encoded data removed]",
      "text/plain": [
       "<matplotlib.figure.Figure at 0x2921454c390>"
      ]
     },
     "metadata": {},
     "output_type": "display_data"
    }
   ],
   "source": [
    "attention_map = plot_attention_map(model, human_vocab, inv_machine_vocab, \"Tuesday 09 Oct 1993\", num = 7, n_s = 64)"
   ]
  },
  {
   "cell_type": "markdown",
   "metadata": {},
   "source": [
    "On the generated plot you can observe the values of the attention weights for each character of the predicted output. Examine this plot and check that where the network is paying attention makes sense to you.\n",
    "\n",
    "In the date translation application, you will observe that most of the time attention helps predict the year, and hasn't much impact on predicting the day/month."
   ]
  },
  {
   "cell_type": "markdown",
   "metadata": {},
   "source": [
    "### Congratulations!\n",
    "\n",
    "\n",
    "You have come to the end of this assignment \n",
    "\n",
    "<font color='blue'> **Here's what you should remember from this notebook**:\n",
    "\n",
    "- Machine translation models can be used to map from one sequence to another. They are useful not just for translating human languages (like French->English) but also for tasks like date format translation. \n",
    "- An attention mechanism allows a network to focus on the most relevant parts of the input when producing a specific part of the output. \n",
    "- A network using an attention mechanism can translate from inputs of length $T_x$ to outputs of length $T_y$, where $T_x$ and $T_y$ can be different. \n",
    "- You can visualize attention weights $\\alpha^{\\langle t,t' \\rangle}$ to see what the network is paying attention to while generating each output."
   ]
  },
  {
   "cell_type": "markdown",
   "metadata": {},
   "source": [
    "Congratulations on finishing this assignment! You are now able to implement an attention model and use it to learn complex mappings from one sequence to another. "
   ]
  }
 ],
 "metadata": {
  "coursera": {
   "course_slug": "nlp-sequence-models",
   "graded_item_id": "n16CQ",
   "launcher_item_id": "npjGi"
  },
  "kernelspec": {
   "display_name": "Python 3",
   "language": "python",
   "name": "python3"
  },
  "language_info": {
   "codemirror_mode": {
    "name": "ipython",
    "version": 3
   },
   "file_extension": ".py",
   "mimetype": "text/x-python",
   "name": "python",
   "nbconvert_exporter": "python",
   "pygments_lexer": "ipython3",
   "version": "3.5.1"
  }
 },
 "nbformat": 4,
 "nbformat_minor": 2
}
