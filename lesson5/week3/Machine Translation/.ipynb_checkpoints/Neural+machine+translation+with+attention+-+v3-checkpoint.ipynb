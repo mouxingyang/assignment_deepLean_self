{
 "cells": [
  {
   "cell_type": "markdown",
   "metadata": {},
   "source": [
    "# Neural Machine Translation\n",
    "\n",
    "Welcome to your first programming assignment for this week! \n",
    "\n",
    "You will build a Neural Machine Translation (NMT) model to translate human readable dates (\"25th of June, 2009\") into machine readable dates (\"2009-06-25\"). You will do this using an attention model, one of the most sophisticated sequence to sequence models. \n",
    "\n",
    "This notebook was produced together with NVIDIA's Deep Learning Institute. \n",
    "\n",
    "Let's load all the packages you will need for this assignment."
   ]
  },
  {
   "cell_type": "code",
   "execution_count": 42,
   "metadata": {},
   "outputs": [],
   "source": [
    "from keras.layers import Bidirectional, Concatenate, Permute, Dot, Input, LSTM, Multiply\n",
    "from keras.layers import RepeatVector, Dense, Activation, Lambda\n",
    "from keras.optimizers import Adam\n",
    "from keras.utils import to_categorical\n",
    "from keras.models import load_model, Model\n",
    "import keras.backend as K\n",
    "import numpy as np\n",
    "\n",
    "from faker import Faker\n",
    "import random\n",
    "from tqdm import tqdm\n",
    "from babel.dates import format_date\n",
    "from nmt_utils import *\n",
    "import matplotlib.pyplot as plt\n",
    "%matplotlib inline"
   ]
  },
  {
   "cell_type": "markdown",
   "metadata": {},
   "source": [
    "## 1 - Translating human readable dates into machine readable dates\n",
    "\n",
    "The model you will build here could be used to translate from one language to another, such as translating from English to Hindi. However, language translation requires massive datasets and usually takes days of training on GPUs. To give you a place to experiment with these models even without using massive datasets, we will instead use a simpler \"date translation\" task. \n",
    "\n",
    "The network will input a date written in a variety of possible formats (*e.g. \"the 29th of August 1958\", \"03/30/1968\", \"24 JUNE 1987\"*) and translate them into standardized, machine readable dates (*e.g. \"1958-08-29\", \"1968-03-30\", \"1987-06-24\"*). We will have the network learn to output dates in the common machine-readable format YYYY-MM-DD. \n",
    "\n",
    "\n",
    "\n",
    "<!-- \n",
    "Take a look at [nmt_utils.py](./nmt_utils.py) to see all the formatting. Count and figure out how the formats work, you will need this knowledge later. !--> "
   ]
  },
  {
   "cell_type": "markdown",
   "metadata": {},
   "source": [
    "### 1.1 - Dataset\n",
    "\n",
    "We will train the model on a dataset of 10000 human readable dates and their equivalent, standardized, machine readable dates. Let's run the following cells to load the dataset and print some examples. "
   ]
  },
  {
   "cell_type": "code",
   "execution_count": 3,
   "metadata": {},
   "outputs": [
    {
     "name": "stderr",
     "output_type": "stream",
     "text": [
      "100%|██████████████████████████████████| 10000/10000 [00:01<00:00, 8265.17it/s]\n"
     ]
    }
   ],
   "source": [
    "m = 10000\n",
    "dataset, human_vocab, machine_vocab, inv_machine_vocab = load_dataset(m)"
   ]
  },
  {
   "cell_type": "code",
   "execution_count": 15,
   "metadata": {},
   "outputs": [
    {
     "name": "stdout",
     "output_type": "stream",
     "text": [
      "[('9 may 1998', '1998-05-09'), ('10.09.70', '1970-09-10'), ('4/28/90', '1990-04-28'), ('thursday january 26 1995', '1995-01-26'), ('monday march 7 1983', '1983-03-07'), ('sunday may 22 1988', '1988-05-22'), ('tuesday july 8 2008', '2008-07-08'), ('08 sep 1999', '1999-09-08'), ('1 jan 1981', '1981-01-01'), ('monday may 22 1995', '1995-05-22')]\n",
      "{'o': 26, '/': 2, 'c': 15, 'j': 22, 's': 29, '6': 9, '0': 3, '2': 5, 't': 30, '5': 8, 'g': 19, ' ': 0, '<unk>': 35, 'r': 28, 'l': 23, '<pad>': 36, 'm': 24, 'i': 21, '8': 11, '1': 4, 'd': 16, 'n': 25, 'b': 14, 'w': 33, '9': 12, 'y': 34, 'u': 31, '4': 7, 'h': 20, 'e': 17, 'p': 27, 'a': 13, '7': 10, 'f': 18, 'v': 32, '3': 6, '.': 1}\n",
      "{'-': 0, '9': 10, '8': 9, '2': 3, '6': 7, '0': 1, '7': 8, '1': 2, '4': 5, '5': 6, '3': 4}\n"
     ]
    }
   ],
   "source": [
    "print(dataset[:10])\n",
    "print(human_vocab)\n",
    "print(machine_vocab)"
   ]
  },
  {
   "cell_type": "markdown",
   "metadata": {},
   "source": [
    "You've loaded:\n",
    "- `dataset`: a list of tuples of (human readable date, machine readable date)\n",
    "- `human_vocab`: a python dictionary mapping all characters used in the human readable dates to an integer-valued index \n",
    "- `machine_vocab`: a python dictionary mapping all characters used in machine readable dates to an integer-valued index. These indices are not necessarily consistent with `human_vocab`. \n",
    "- `inv_machine_vocab`: the inverse dictionary of `machine_vocab`, mapping from indices back to characters. \n",
    "\n",
    "Let's preprocess the data and map the raw text data into the index values. We will also use Tx=30 (which we assume is the maximum length of the human readable date; if we get a longer input, we would have to truncate it) and Ty=10 (since \"YYYY-MM-DD\" is 10 characters long). "
   ]
  },
  {
   "cell_type": "code",
   "execution_count": 12,
   "metadata": {},
   "outputs": [
    {
     "name": "stdout",
     "output_type": "stream",
     "text": [
      "X.shape: (10000, 30)\n",
      "Y.shape: (10000, 10)\n",
      "Xoh.shape: (10000, 30, 37)\n",
      "Yoh.shape: (10000, 10, 11)\n",
      "[ 4  3  1  3 12  1 10  3 36 36 36 36 36 36 36 36 36 36 36 36 36 36 36 36\n",
      " 36 36 36 36 36 36]\n",
      "('10.09.70', '1970-09-10')\n"
     ]
    }
   ],
   "source": [
    "Tx = 30\n",
    "Ty = 10\n",
    "X, Y, Xoh, Yoh = preprocess_data(dataset, human_vocab, machine_vocab, Tx, Ty)\n",
    "\n",
    "print(\"X.shape:\", X.shape)\n",
    "print(\"Y.shape:\", Y.shape)\n",
    "print(\"Xoh.shape:\", Xoh.shape)\n",
    "print(\"Yoh.shape:\", Yoh.shape)\n",
    "print(X[1,:])\n",
    "\n",
    "print(dataset[1])"
   ]
  },
  {
   "cell_type": "markdown",
   "metadata": {},
   "source": [
    "You now have:\n",
    "- `X`: a processed version of the human readable dates in the training set, where each character is replaced by an index mapped to the character via `human_vocab`. Each date is further padded to $T_x$ values with a special character (< pad >). `X.shape = (m, Tx)`\n",
    "- `Y`: a processed version of the machine readable dates in the training set, where each character is replaced by the index it is mapped to in `machine_vocab`. You should have `Y.shape = (m, Ty)`. \n",
    "- `Xoh`: one-hot version of `X`, the \"1\" entry's index is mapped to the character thanks to `human_vocab`. `Xoh.shape = (m, Tx, len(human_vocab))`\n",
    "- `Yoh`: one-hot version of `Y`, the \"1\" entry's index is mapped to the character thanks to `machine_vocab`. `Yoh.shape = (m, Tx, len(machine_vocab))`. Here, `len(machine_vocab) = 11` since there are 11 characters ('-' as well as 0-9). \n"
   ]
  },
  {
   "cell_type": "markdown",
   "metadata": {},
   "source": [
    "Lets also look at some examples of preprocessed training examples. Feel free to play with `index` in the cell below to navigate the dataset and see how source/target dates are preprocessed. "
   ]
  },
  {
   "cell_type": "code",
   "execution_count": 16,
   "metadata": {},
   "outputs": [
    {
     "name": "stdout",
     "output_type": "stream",
     "text": [
      "Source date: 9 may 1998\n",
      "Target date: 1998-05-09\n",
      "\n",
      "Source after preprocessing (indices): [12  0 24 13 34  0  4 12 12 11 36 36 36 36 36 36 36 36 36 36 36 36 36 36\n",
      " 36 36 36 36 36 36]\n",
      "Target after preprocessing (indices): [ 2 10 10  9  0  1  6  0  1 10]\n",
      "\n",
      "Source after preprocessing (one-hot): [[0. 0. 0. ... 0. 0. 0.]\n",
      " [1. 0. 0. ... 0. 0. 0.]\n",
      " [0. 0. 0. ... 0. 0. 0.]\n",
      " ...\n",
      " [0. 0. 0. ... 0. 0. 1.]\n",
      " [0. 0. 0. ... 0. 0. 1.]\n",
      " [0. 0. 0. ... 0. 0. 1.]]\n",
      "Target after preprocessing (one-hot): [[0. 0. 1. 0. 0. 0. 0. 0. 0. 0. 0.]\n",
      " [0. 0. 0. 0. 0. 0. 0. 0. 0. 0. 1.]\n",
      " [0. 0. 0. 0. 0. 0. 0. 0. 0. 0. 1.]\n",
      " [0. 0. 0. 0. 0. 0. 0. 0. 0. 1. 0.]\n",
      " [1. 0. 0. 0. 0. 0. 0. 0. 0. 0. 0.]\n",
      " [0. 1. 0. 0. 0. 0. 0. 0. 0. 0. 0.]\n",
      " [0. 0. 0. 0. 0. 0. 1. 0. 0. 0. 0.]\n",
      " [1. 0. 0. 0. 0. 0. 0. 0. 0. 0. 0.]\n",
      " [0. 1. 0. 0. 0. 0. 0. 0. 0. 0. 0.]\n",
      " [0. 0. 0. 0. 0. 0. 0. 0. 0. 0. 1.]]\n"
     ]
    }
   ],
   "source": [
    "index = 0\n",
    "print(\"Source date:\", dataset[index][0])\n",
    "print(\"Target date:\", dataset[index][1])\n",
    "print()\n",
    "print(\"Source after preprocessing (indices):\", X[index])\n",
    "print(\"Target after preprocessing (indices):\", Y[index])\n",
    "print()\n",
    "print(\"Source after preprocessing (one-hot):\", Xoh[index])\n",
    "print(\"Target after preprocessing (one-hot):\", Yoh[index])"
   ]
  },
  {
   "cell_type": "markdown",
   "metadata": {},
   "source": [
    "## 2 - Neural machine translation with attention\n",
    "\n",
    "If you had to translate a book's paragraph from French to English, you would not read the whole paragraph, then close the book and translate. Even during the translation process, you would read/re-read and focus on the parts of the French paragraph corresponding to the parts of the English you are writing down. \n",
    "\n",
    "The attention mechanism tells a Neural Machine Translation model where it should pay attention to at any step. \n",
    "\n",
    "\n",
    "### 2.1 - Attention mechanism\n",
    "\n",
    "In this part, you will implement the attention mechanism presented in the lecture videos. Here is a figure to remind you how the model works. The diagram on the left shows the attention model. The diagram on the right shows what one \"Attention\" step does to calculate the attention variables $\\alpha^{\\langle t, t' \\rangle}$, which are used to compute the context variable $context^{\\langle t \\rangle}$ for each timestep in the output ($t=1, \\ldots, T_y$). \n",
    "\n",
    "<table>\n",
    "<td> \n",
    "<img src=\"images/attn_model.png\" style=\"width:500;height:500px;\"> <br>\n",
    "</td> \n",
    "<td> \n",
    "<img src=\"images/attn_mechanism.png\" style=\"width:500;height:500px;\"> <br>\n",
    "</td> \n",
    "</table>\n",
    "<caption><center> **Figure 1**: Neural machine translation with attention</center></caption>\n"
   ]
  },
  {
   "cell_type": "markdown",
   "metadata": {},
   "source": [
    "\n",
    "Here are some properties of the model that you may notice: \n",
    "\n",
    "- There are two separate LSTMs in this model (see diagram on the left). Because the one at the bottom of the picture is a Bi-directional LSTM and comes *before* the attention mechanism, we will call it *pre-attention* Bi-LSTM. The LSTM at the top of the diagram comes *after* the attention mechanism, so we will call it the *post-attention* LSTM. The pre-attention Bi-LSTM goes through $T_x$ time steps; the post-attention LSTM goes through $T_y$ time steps. \n",
    "\n",
    "- The post-attention LSTM passes $s^{\\langle t \\rangle}, c^{\\langle t \\rangle}$ from one time step to the next. In the lecture videos, we were using only a basic RNN for the post-activation sequence model, so the state captured by the RNN output activations $s^{\\langle t\\rangle}$. But since we are using an LSTM here, the LSTM has both the output activation $s^{\\langle t\\rangle}$ and the hidden cell state $c^{\\langle t\\rangle}$. However, unlike previous text generation examples (such as Dinosaurus in week 1), in this model the post-activation LSTM at time $t$ does will not take the specific generated $y^{\\langle t-1 \\rangle}$ as input; it only takes $s^{\\langle t\\rangle}$ and $c^{\\langle t\\rangle}$ as input. We have designed the model this way, because (unlike language generation where adjacent characters are highly correlated) there isn't as strong a dependency between the previous character and the next character in a YYYY-MM-DD date. \n",
    "\n",
    "- We use $a^{\\langle t \\rangle} = [\\overrightarrow{a}^{\\langle t \\rangle}; \\overleftarrow{a}^{\\langle t \\rangle}]$ to represent the concatenation of the activations of both the forward-direction and backward-directions of the pre-attention Bi-LSTM. \n",
    "\n",
    "- The diagram on the right uses a `RepeatVector` node to copy $s^{\\langle t-1 \\rangle}$'s value $T_x$ times, and then `Concatenation` to concatenate $s^{\\langle t-1 \\rangle}$ and $a^{\\langle t \\rangle}$ to compute $e^{\\langle t, t'}$, which is then passed through a softmax to compute $\\alpha^{\\langle t, t' \\rangle}$. We'll explain how to use `RepeatVector` and `Concatenation` in Keras below. \n",
    "\n",
    "Lets implement this model. You will start by implementing two functions: `one_step_attention()` and `model()`.\n",
    "\n",
    "**1) `one_step_attention()`**: At step $t$, given all the hidden states of the Bi-LSTM ($[a^{<1>},a^{<2>}, ..., a^{<T_x>}]$) and the previous hidden state of the second LSTM ($s^{<t-1>}$), `one_step_attention()` will compute the attention weights ($[\\alpha^{<t,1>},\\alpha^{<t,2>}, ..., \\alpha^{<t,T_x>}]$) and output the context vector (see Figure  1 (right) for details):\n",
    "$$context^{<t>} = \\sum_{t' = 0}^{T_x} \\alpha^{<t,t'>}a^{<t'>}\\tag{1}$$ \n",
    "\n",
    "Note that we are denoting the attention in this notebook $context^{\\langle t \\rangle}$. In the lecture videos, the context was denoted $c^{\\langle t \\rangle}$, but here we are calling it $context^{\\langle t \\rangle}$ to avoid confusion with the (post-attention) LSTM's internal memory cell variable, which is sometimes also denoted $c^{\\langle t \\rangle}$. \n",
    "  \n",
    "**2) `model()`**: Implements the entire model. It first runs the input through a Bi-LSTM to get back $[a^{<1>},a^{<2>}, ..., a^{<T_x>}]$. Then, it calls `one_step_attention()` $T_y$ times (`for` loop). At each iteration of this loop, it gives the computed context vector $c^{<t>}$ to the second LSTM, and runs the output of the LSTM through a dense layer with softmax activation to generate a prediction $\\hat{y}^{<t>}$. \n",
    "\n",
    "\n",
    "\n",
    "**Exercise**: Implement `one_step_attention()`. The function `model()` will call the layers in `one_step_attention()` $T_y$ using a for-loop, and it is important that all $T_y$ copies have the same weights. I.e., it should not re-initiaiize the weights every time. In other words, all $T_y$ steps should have shared weights. Here's how you can implement layers with shareable weights in Keras:\n",
    "1. Define the layer objects (as global variables for examples).\n",
    "2. Call these objects when propagating the input.\n",
    "\n",
    "We have defined the layers you need as global variables. Please run the following cells to create them. Please check the Keras documentation to make sure you understand what these layers are: [RepeatVector()](https://keras.io/layers/core/#repeatvector), [Concatenate()](https://keras.io/layers/merge/#concatenate), [Dense()](https://keras.io/layers/core/#dense), [Activation()](https://keras.io/layers/core/#activation), [Dot()](https://keras.io/layers/merge/#dot)."
   ]
  },
  {
   "cell_type": "code",
   "execution_count": 18,
   "metadata": {},
   "outputs": [],
   "source": [
    "# Defined shared layers as global variables\n",
    "repeator = RepeatVector(Tx)\n",
    "concatenator = Concatenate(axis=-1)\n",
    "densor1 = Dense(10, activation = \"tanh\")\n",
    "densor2 = Dense(1, activation = \"relu\")\n",
    "activator = Activation(softmax, name='attention_weights') # We are using a custom softmax(axis = 1) loaded in this notebook\n",
    "dotor = Dot(axes = 1)"
   ]
  },
  {
   "cell_type": "markdown",
   "metadata": {},
   "source": [
    "Now you can use these layers to implement `one_step_attention()`. In order to propagate a Keras tensor object X through one of these layers, use `layer(X)` (or `layer([X,Y])` if it requires multiple inputs.), e.g. `densor(X)` will propagate X through the `Dense(1)` layer defined above."
   ]
  },
  {
   "cell_type": "code",
   "execution_count": 38,
   "metadata": {},
   "outputs": [],
   "source": [
    "# GRADED FUNCTION: one_step_attention\n",
    "\n",
    "def one_step_attention(a, s_prev):\n",
    "    \"\"\"\n",
    "    Performs one step of attention: Outputs a context vector computed as a dot product of the attention weights\n",
    "    \"alphas\" and the hidden states \"a\" of the Bi-LSTM.\n",
    "    \n",
    "    Arguments:\n",
    "    a -- hidden state output of the Bi-LSTM, numpy-array of shape (m, Tx, 2*n_a)\n",
    "    s_prev -- previous hidden state of the (post-attention) LSTM, numpy-array of shape (m, n_s)\n",
    "    \n",
    "    Returns:\n",
    "    context -- context vector, input of the next (post-attetion) LSTM cell\n",
    "    \"\"\"\n",
    "    \n",
    "    ### START CODE HERE ###\n",
    "    # Use repeator to repeat s_prev to be of shape (m, Tx, n_s) so that you can concatenate it with all hidden states \"a\" (≈ 1 line)\n",
    "    s_prev = repeator(s_prev)\n",
    "    # Use concatenator to concatenate a and s_prev on the last axis (≈ 1 line)\n",
    "    concat = concatenator([a,s_prev])\n",
    "    # Use densor1 to propagate concat through a small fully-connected neural network to compute the \"intermediate energies\" variable e. (≈1 lines)\n",
    "    e = densor1(concat)\n",
    "    # Use densor2 to propagate e through a small fully-connected neural network to compute the \"energies\" variable energies. (≈1 lines)\n",
    "    energies = densor2(e)\n",
    "    # Use \"activator\" on \"energies\" to compute the attention weights \"alphas\" (≈ 1 line)\n",
    "    alphas = activator(energies)\n",
    "    # Use dotor together with \"alphas\" and \"a\" to compute the context vector to be given to the next (post-attention) LSTM-cell (≈ 1 line)\n",
    "    context = dotor([alphas, a])\n",
    "    ### END CODE HERE ###\n",
    "    \n",
    "    return context"
   ]
  },
  {
   "cell_type": "markdown",
   "metadata": {},
   "source": [
    "You will be able to check the expected output of `one_step_attention()` after you've coded the `model()` function."
   ]
  },
  {
   "cell_type": "markdown",
   "metadata": {},
   "source": [
    "**Exercise**: Implement `model()` as explained in figure 2 and the text above. Again, we have defined global layers that will share weights to be used in `model()`."
   ]
  },
  {
   "cell_type": "code",
   "execution_count": 39,
   "metadata": {},
   "outputs": [],
   "source": [
    "n_a = 32\n",
    "n_s = 64\n",
    "post_activation_LSTM_cell = LSTM(n_s, return_state = True)\n",
    "output_layer = Dense(len(machine_vocab), activation=softmax)"
   ]
  },
  {
   "cell_type": "markdown",
   "metadata": {},
   "source": [
    "Now you can use these layers $T_y$ times in a `for` loop to generate the outputs, and their parameters will not be reinitialized. You will have to carry out the following steps: \n",
    "\n",
    "1. Propagate the input into a [Bidirectional](https://keras.io/layers/wrappers/#bidirectional) [LSTM](https://keras.io/layers/recurrent/#lstm)\n",
    "2. Iterate for $t = 0, \\dots, T_y-1$: \n",
    "    1. Call `one_step_attention()` on $[\\alpha^{<t,1>},\\alpha^{<t,2>}, ..., \\alpha^{<t,T_x>}]$ and $s^{<t-1>}$ to get the context vector $context^{<t>}$.\n",
    "    2. Give $context^{<t>}$ to the post-attention LSTM cell. Remember pass in the previous hidden-state $s^{\\langle t-1\\rangle}$ and cell-states $c^{\\langle t-1\\rangle}$ of this LSTM using `initial_state= [previous hidden state, previous cell state]`. Get back the new hidden state $s^{<t>}$ and the new cell state $c^{<t>}$.\n",
    "    3. Apply a softmax layer to $s^{<t>}$, get the output. \n",
    "    4. Save the output by adding it to the list of outputs.\n",
    "\n",
    "3. Create your Keras model instance, it should have three inputs (\"inputs\", $s^{<0>}$ and $c^{<0>}$) and output the list of \"outputs\"."
   ]
  },
  {
   "cell_type": "code",
   "execution_count": 40,
   "metadata": {},
   "outputs": [],
   "source": [
    "# GRADED FUNCTION: model\n",
    "\n",
    "def model(Tx, Ty, n_a, n_s, human_vocab_size, machine_vocab_size):\n",
    "    \"\"\"\n",
    "    Arguments:\n",
    "    Tx -- length of the input sequence\n",
    "    Ty -- length of the output sequence\n",
    "    n_a -- hidden state size of the Bi-LSTM\n",
    "    n_s -- hidden state size of the post-attention LSTM\n",
    "    human_vocab_size -- size of the python dictionary \"human_vocab\"\n",
    "    machine_vocab_size -- size of the python dictionary \"machine_vocab\"\n",
    "\n",
    "    Returns:\n",
    "    model -- Keras model instance\n",
    "    \"\"\"\n",
    "    \n",
    "    # Define the inputs of your model with a shape (Tx,)\n",
    "    # Define s0 and c0, initial hidden state for the decoder LSTM of shape (n_s,)\n",
    "    X = Input(shape=(Tx, human_vocab_size))\n",
    "    s0 = Input(shape=(n_s,), name='s0')\n",
    "    c0 = Input(shape=(n_s,), name='c0')\n",
    "    s = s0\n",
    "    c = c0\n",
    "    \n",
    "    # Initialize empty list of outputs\n",
    "    outputs = []\n",
    "    \n",
    "    ### START CODE HERE ###\n",
    "    \n",
    "    # Step 1: Define your pre-attention Bi-LSTM. Remember to use return_sequences=True. (≈ 1 line)\n",
    "    a = Bidirectional(LSTM(n_a, return_sequences=True))(X)\n",
    "    \n",
    "    # Step 2: Iterate for Ty steps\n",
    "    for t in range(Ty):\n",
    "    \n",
    "        # Step 2.A: Perform one step of the attention mechanism to get back the context vector at step t (≈ 1 line)\n",
    "        context = one_step_attention(a, s)\n",
    "        \n",
    "        # Step 2.B: Apply the post-attention LSTM cell to the \"context\" vector.\n",
    "        # Don't forget to pass: initial_state = [hidden state, cell state] (≈ 1 line)\n",
    "        s, _, c = post_activation_LSTM_cell(context, initial_state=[s, c])\n",
    "        \n",
    "        # Step 2.C: Apply Dense layer to the hidden state output of the post-attention LSTM (≈ 1 line)\n",
    "        out = output_layer(s)\n",
    "        \n",
    "        # Step 2.D: Append \"out\" to the \"outputs\" list (≈ 1 line)\n",
    "        outputs.append(out)\n",
    "    \n",
    "    # Step 3: Create model instance taking three inputs and returning the list of outputs. (≈ 1 line)\n",
    "    model = Model([X, s0, c0], outputs)\n",
    "    \n",
    "    ### END CODE HERE ###\n",
    "    \n",
    "    return model"
   ]
  },
  {
   "cell_type": "markdown",
   "metadata": {},
   "source": [
    "Run the following cell to create your model."
   ]
  },
  {
   "cell_type": "code",
   "execution_count": 41,
   "metadata": {},
   "outputs": [
    {
     "ename": "ValueError",
     "evalue": "Input 0 is incompatible with layer dense_4: expected axis -1 of input shape to have value 128 but got shape (None, 30, 10)",
     "output_type": "error",
     "traceback": [
      "\u001b[0;31m---------------------------------------------------------------------------\u001b[0m",
      "\u001b[0;31mValueError\u001b[0m                                Traceback (most recent call last)",
      "\u001b[0;32m<ipython-input-41-5f649440f586>\u001b[0m in \u001b[0;36m<module>\u001b[0;34m()\u001b[0m\n\u001b[0;32m----> 1\u001b[0;31m \u001b[0mmodel\u001b[0m \u001b[1;33m=\u001b[0m \u001b[0mmodel\u001b[0m\u001b[1;33m(\u001b[0m\u001b[0mTx\u001b[0m\u001b[1;33m,\u001b[0m \u001b[0mTy\u001b[0m\u001b[1;33m,\u001b[0m \u001b[0mn_a\u001b[0m\u001b[1;33m,\u001b[0m \u001b[0mn_s\u001b[0m\u001b[1;33m,\u001b[0m \u001b[0mlen\u001b[0m\u001b[1;33m(\u001b[0m\u001b[0mhuman_vocab\u001b[0m\u001b[1;33m)\u001b[0m\u001b[1;33m,\u001b[0m \u001b[0mlen\u001b[0m\u001b[1;33m(\u001b[0m\u001b[0mmachine_vocab\u001b[0m\u001b[1;33m)\u001b[0m\u001b[1;33m)\u001b[0m\u001b[1;33m\u001b[0m\u001b[0m\n\u001b[0m",
      "\u001b[0;32m<ipython-input-40-10a874971f42>\u001b[0m in \u001b[0;36mmodel\u001b[0;34m(Tx, Ty, n_a, n_s, human_vocab_size, machine_vocab_size)\u001b[0m\n\u001b[1;32m     35\u001b[0m \u001b[1;33m\u001b[0m\u001b[0m\n\u001b[1;32m     36\u001b[0m         \u001b[1;31m# Step 2.A: Perform one step of the attention mechanism to get back the context vector at step t (≈ 1 line)\u001b[0m\u001b[1;33m\u001b[0m\u001b[1;33m\u001b[0m\u001b[0m\n\u001b[0;32m---> 37\u001b[0;31m         \u001b[0mcontext\u001b[0m \u001b[1;33m=\u001b[0m \u001b[0mone_step_attention\u001b[0m\u001b[1;33m(\u001b[0m\u001b[0ma\u001b[0m\u001b[1;33m,\u001b[0m \u001b[0ms\u001b[0m\u001b[1;33m)\u001b[0m\u001b[1;33m\u001b[0m\u001b[0m\n\u001b[0m\u001b[1;32m     38\u001b[0m \u001b[1;33m\u001b[0m\u001b[0m\n\u001b[1;32m     39\u001b[0m         \u001b[1;31m# Step 2.B: Apply the post-attention LSTM cell to the \"context\" vector.\u001b[0m\u001b[1;33m\u001b[0m\u001b[1;33m\u001b[0m\u001b[0m\n",
      "\u001b[0;32m<ipython-input-38-b07047e92a59>\u001b[0m in \u001b[0;36mone_step_attention\u001b[0;34m(a, s_prev)\u001b[0m\n\u001b[1;32m     22\u001b[0m     \u001b[0me\u001b[0m \u001b[1;33m=\u001b[0m \u001b[0mdensor1\u001b[0m\u001b[1;33m(\u001b[0m\u001b[0mconcat\u001b[0m\u001b[1;33m)\u001b[0m\u001b[1;33m\u001b[0m\u001b[0m\n\u001b[1;32m     23\u001b[0m     \u001b[1;31m# Use densor2 to propagate e through a small fully-connected neural network to compute the \"energies\" variable energies. (≈1 lines)\u001b[0m\u001b[1;33m\u001b[0m\u001b[1;33m\u001b[0m\u001b[0m\n\u001b[0;32m---> 24\u001b[0;31m     \u001b[0menergies\u001b[0m \u001b[1;33m=\u001b[0m \u001b[0mdensor2\u001b[0m\u001b[1;33m(\u001b[0m\u001b[0me\u001b[0m\u001b[1;33m)\u001b[0m\u001b[1;33m\u001b[0m\u001b[0m\n\u001b[0m\u001b[1;32m     25\u001b[0m     \u001b[1;31m# Use \"activator\" on \"energies\" to compute the attention weights \"alphas\" (≈ 1 line)\u001b[0m\u001b[1;33m\u001b[0m\u001b[1;33m\u001b[0m\u001b[0m\n\u001b[1;32m     26\u001b[0m     \u001b[0malphas\u001b[0m \u001b[1;33m=\u001b[0m \u001b[0mactivator\u001b[0m\u001b[1;33m(\u001b[0m\u001b[0menergies\u001b[0m\u001b[1;33m)\u001b[0m\u001b[1;33m\u001b[0m\u001b[0m\n",
      "\u001b[0;32mc:\\users\\weige\\appdata\\local\\programs\\python\\python35\\lib\\site-packages\\keras\\engine\\topology.py\u001b[0m in \u001b[0;36m__call__\u001b[0;34m(self, inputs, **kwargs)\u001b[0m\n\u001b[1;32m    601\u001b[0m             \u001b[1;31m# Raise exceptions in case the input is not compatible\u001b[0m\u001b[1;33m\u001b[0m\u001b[1;33m\u001b[0m\u001b[0m\n\u001b[1;32m    602\u001b[0m             \u001b[1;31m# with the input_spec set at build time.\u001b[0m\u001b[1;33m\u001b[0m\u001b[1;33m\u001b[0m\u001b[0m\n\u001b[0;32m--> 603\u001b[0;31m             \u001b[0mself\u001b[0m\u001b[1;33m.\u001b[0m\u001b[0massert_input_compatibility\u001b[0m\u001b[1;33m(\u001b[0m\u001b[0minputs\u001b[0m\u001b[1;33m)\u001b[0m\u001b[1;33m\u001b[0m\u001b[0m\n\u001b[0m\u001b[1;32m    604\u001b[0m \u001b[1;33m\u001b[0m\u001b[0m\n\u001b[1;32m    605\u001b[0m             \u001b[1;31m# Handle mask propagation.\u001b[0m\u001b[1;33m\u001b[0m\u001b[1;33m\u001b[0m\u001b[0m\n",
      "\u001b[0;32mc:\\users\\weige\\appdata\\local\\programs\\python\\python35\\lib\\site-packages\\keras\\engine\\topology.py\u001b[0m in \u001b[0;36massert_input_compatibility\u001b[0;34m(self, inputs)\u001b[0m\n\u001b[1;32m    511\u001b[0m                                              \u001b[0mstr\u001b[0m\u001b[1;33m(\u001b[0m\u001b[0maxis\u001b[0m\u001b[1;33m)\u001b[0m \u001b[1;33m+\u001b[0m \u001b[1;34m' of input shape to have '\u001b[0m\u001b[1;33m\u001b[0m\u001b[0m\n\u001b[1;32m    512\u001b[0m                                              \u001b[1;34m'value '\u001b[0m \u001b[1;33m+\u001b[0m \u001b[0mstr\u001b[0m\u001b[1;33m(\u001b[0m\u001b[0mvalue\u001b[0m\u001b[1;33m)\u001b[0m \u001b[1;33m+\u001b[0m\u001b[1;33m\u001b[0m\u001b[0m\n\u001b[0;32m--> 513\u001b[0;31m                                              ' but got shape ' + str(x_shape))\n\u001b[0m\u001b[1;32m    514\u001b[0m             \u001b[1;31m# Check shape.\u001b[0m\u001b[1;33m\u001b[0m\u001b[1;33m\u001b[0m\u001b[0m\n\u001b[1;32m    515\u001b[0m             \u001b[1;32mif\u001b[0m \u001b[0mspec\u001b[0m\u001b[1;33m.\u001b[0m\u001b[0mshape\u001b[0m \u001b[1;32mis\u001b[0m \u001b[1;32mnot\u001b[0m \u001b[1;32mNone\u001b[0m\u001b[1;33m:\u001b[0m\u001b[1;33m\u001b[0m\u001b[0m\n",
      "\u001b[0;31mValueError\u001b[0m: Input 0 is incompatible with layer dense_4: expected axis -1 of input shape to have value 128 but got shape (None, 30, 10)"
     ]
    }
   ],
   "source": [
    "model = model(Tx, Ty, n_a, n_s, len(human_vocab), len(machine_vocab))"
   ]
  },
  {
   "cell_type": "markdown",
   "metadata": {},
   "source": [
    "Let's get a summary of the model to check if it matches the expected output."
   ]
  },
  {
   "cell_type": "code",
   "execution_count": 33,
   "metadata": {
    "scrolled": true
   },
   "outputs": [
    {
     "name": "stdout",
     "output_type": "stream",
     "text": [
      "__________________________________________________________________________________________________\n",
      "Layer (type)                    Output Shape         Param #     Connected to                     \n",
      "==================================================================================================\n",
      "input_3 (InputLayer)            (None, 30, 37)       0                                            \n",
      "__________________________________________________________________________________________________\n",
      "s0 (InputLayer)                 (None, 64)           0                                            \n",
      "__________________________________________________________________________________________________\n",
      "bidirectional_3 (Bidirectional) (None, 30, 64)       17920       input_3[0][0]                    \n",
      "__________________________________________________________________________________________________\n",
      "repeat_vector_2 (RepeatVector)  multiple             0           s0[0][0]                         \n",
      "                                                                 lstm_5[0][0]                     \n",
      "                                                                 lstm_5[1][0]                     \n",
      "                                                                 lstm_5[2][0]                     \n",
      "                                                                 lstm_5[3][0]                     \n",
      "                                                                 lstm_5[4][0]                     \n",
      "                                                                 lstm_5[5][0]                     \n",
      "                                                                 lstm_5[6][0]                     \n",
      "                                                                 lstm_5[7][0]                     \n",
      "                                                                 lstm_5[8][0]                     \n",
      "__________________________________________________________________________________________________\n",
      "concatenate_2 (Concatenate)     multiple             0           bidirectional_3[0][0]            \n",
      "                                                                 repeat_vector_2[11][0]           \n",
      "                                                                 bidirectional_3[0][0]            \n",
      "                                                                 repeat_vector_2[12][0]           \n",
      "                                                                 bidirectional_3[0][0]            \n",
      "                                                                 repeat_vector_2[13][0]           \n",
      "                                                                 bidirectional_3[0][0]            \n",
      "                                                                 repeat_vector_2[14][0]           \n",
      "                                                                 bidirectional_3[0][0]            \n",
      "                                                                 repeat_vector_2[15][0]           \n",
      "                                                                 bidirectional_3[0][0]            \n",
      "                                                                 repeat_vector_2[16][0]           \n",
      "                                                                 bidirectional_3[0][0]            \n",
      "                                                                 repeat_vector_2[17][0]           \n",
      "                                                                 bidirectional_3[0][0]            \n",
      "                                                                 repeat_vector_2[18][0]           \n",
      "                                                                 bidirectional_3[0][0]            \n",
      "                                                                 repeat_vector_2[19][0]           \n",
      "                                                                 bidirectional_3[0][0]            \n",
      "                                                                 repeat_vector_2[20][0]           \n",
      "__________________________________________________________________________________________________\n",
      "dense_4 (Dense)                 (None, 30, 1)        129         concatenate_2[11][0]             \n",
      "                                                                 concatenate_2[12][0]             \n",
      "                                                                 concatenate_2[13][0]             \n",
      "                                                                 concatenate_2[14][0]             \n",
      "                                                                 concatenate_2[15][0]             \n",
      "                                                                 concatenate_2[16][0]             \n",
      "                                                                 concatenate_2[17][0]             \n",
      "                                                                 concatenate_2[18][0]             \n",
      "                                                                 concatenate_2[19][0]             \n",
      "                                                                 concatenate_2[20][0]             \n",
      "__________________________________________________________________________________________________\n",
      "attention_weights (Activation)  (None, 30, 1)        0           dense_4[10][0]                   \n",
      "                                                                 dense_4[11][0]                   \n",
      "                                                                 dense_4[12][0]                   \n",
      "                                                                 dense_4[13][0]                   \n",
      "                                                                 dense_4[14][0]                   \n",
      "                                                                 dense_4[15][0]                   \n",
      "                                                                 dense_4[16][0]                   \n",
      "                                                                 dense_4[17][0]                   \n",
      "                                                                 dense_4[18][0]                   \n",
      "                                                                 dense_4[19][0]                   \n",
      "__________________________________________________________________________________________________\n",
      "dot_2 (Dot)                     (None, 1, 64)        0           attention_weights[10][0]         \n",
      "                                                                 bidirectional_3[0][0]            \n",
      "                                                                 attention_weights[11][0]         \n",
      "                                                                 bidirectional_3[0][0]            \n",
      "                                                                 attention_weights[12][0]         \n",
      "                                                                 bidirectional_3[0][0]            \n",
      "                                                                 attention_weights[13][0]         \n",
      "                                                                 bidirectional_3[0][0]            \n",
      "                                                                 attention_weights[14][0]         \n",
      "                                                                 bidirectional_3[0][0]            \n",
      "                                                                 attention_weights[15][0]         \n",
      "                                                                 bidirectional_3[0][0]            \n",
      "                                                                 attention_weights[16][0]         \n",
      "                                                                 bidirectional_3[0][0]            \n",
      "                                                                 attention_weights[17][0]         \n",
      "                                                                 bidirectional_3[0][0]            \n",
      "                                                                 attention_weights[18][0]         \n",
      "                                                                 bidirectional_3[0][0]            \n",
      "                                                                 attention_weights[19][0]         \n"
     ]
    },
    {
     "name": "stdout",
     "output_type": "stream",
     "text": [
      "                                                                 bidirectional_3[0][0]            \n",
      "__________________________________________________________________________________________________\n",
      "c0 (InputLayer)                 (None, 64)           0                                            \n",
      "__________________________________________________________________________________________________\n",
      "lstm_5 (LSTM)                   [(None, 64), (None,  33024       dot_2[10][0]                     \n",
      "                                                                 s0[0][0]                         \n",
      "                                                                 c0[0][0]                         \n",
      "                                                                 dot_2[11][0]                     \n",
      "                                                                 lstm_5[0][0]                     \n",
      "                                                                 lstm_5[0][2]                     \n",
      "                                                                 dot_2[12][0]                     \n",
      "                                                                 lstm_5[1][0]                     \n",
      "                                                                 lstm_5[1][2]                     \n",
      "                                                                 dot_2[13][0]                     \n",
      "                                                                 lstm_5[2][0]                     \n",
      "                                                                 lstm_5[2][2]                     \n",
      "                                                                 dot_2[14][0]                     \n",
      "                                                                 lstm_5[3][0]                     \n",
      "                                                                 lstm_5[3][2]                     \n",
      "                                                                 dot_2[15][0]                     \n",
      "                                                                 lstm_5[4][0]                     \n",
      "                                                                 lstm_5[4][2]                     \n",
      "                                                                 dot_2[16][0]                     \n",
      "                                                                 lstm_5[5][0]                     \n",
      "                                                                 lstm_5[5][2]                     \n",
      "                                                                 dot_2[17][0]                     \n",
      "                                                                 lstm_5[6][0]                     \n",
      "                                                                 lstm_5[6][2]                     \n",
      "                                                                 dot_2[18][0]                     \n",
      "                                                                 lstm_5[7][0]                     \n",
      "                                                                 lstm_5[7][2]                     \n",
      "                                                                 dot_2[19][0]                     \n",
      "                                                                 lstm_5[8][0]                     \n",
      "                                                                 lstm_5[8][2]                     \n",
      "__________________________________________________________________________________________________\n",
      "dense_7 (Dense)                 (None, 11)           715         lstm_5[0][0]                     \n",
      "                                                                 lstm_5[1][0]                     \n",
      "                                                                 lstm_5[2][0]                     \n",
      "                                                                 lstm_5[3][0]                     \n",
      "                                                                 lstm_5[4][0]                     \n",
      "                                                                 lstm_5[5][0]                     \n",
      "                                                                 lstm_5[6][0]                     \n",
      "                                                                 lstm_5[7][0]                     \n",
      "                                                                 lstm_5[8][0]                     \n",
      "                                                                 lstm_5[9][0]                     \n",
      "==================================================================================================\n",
      "Total params: 51,788\n",
      "Trainable params: 51,788\n",
      "Non-trainable params: 0\n",
      "__________________________________________________________________________________________________\n"
     ]
    }
   ],
   "source": [
    "model.summary()"
   ]
  },
  {
   "cell_type": "markdown",
   "metadata": {},
   "source": [
    "**Expected Output**:\n",
    "\n",
    "Here is the summary you should see\n",
    "<table>\n",
    "    <tr>\n",
    "        <td>\n",
    "            **Total params:**\n",
    "        </td>\n",
    "        <td>\n",
    "         185,484\n",
    "        </td>\n",
    "    </tr>\n",
    "        <tr>\n",
    "        <td>\n",
    "            **Trainable params:**\n",
    "        </td>\n",
    "        <td>\n",
    "         185,484\n",
    "        </td>\n",
    "    </tr>\n",
    "            <tr>\n",
    "        <td>\n",
    "            **Non-trainable params:**\n",
    "        </td>\n",
    "        <td>\n",
    "         0\n",
    "        </td>\n",
    "    </tr>\n",
    "                    <tr>\n",
    "        <td>\n",
    "            **bidirectional_1's output shape **\n",
    "        </td>\n",
    "        <td>\n",
    "         (None, 30, 128)  \n",
    "        </td>\n",
    "    </tr>\n",
    "    <tr>\n",
    "        <td>\n",
    "            **repeat_vector_1's output shape **\n",
    "        </td>\n",
    "        <td>\n",
    "         (None, 30, 128)  \n",
    "        </td>\n",
    "    </tr>\n",
    "                <tr>\n",
    "        <td>\n",
    "            **concatenate_1's output shape **\n",
    "        </td>\n",
    "        <td>\n",
    "         (None, 30, 256) \n",
    "        </td>\n",
    "    </tr>\n",
    "            <tr>\n",
    "        <td>\n",
    "            **attention_weights's output shape **\n",
    "        </td>\n",
    "        <td>\n",
    "         (None, 30, 1)  \n",
    "        </td>\n",
    "    </tr>\n",
    "        <tr>\n",
    "        <td>\n",
    "            **dot_1's output shape **\n",
    "        </td>\n",
    "        <td>\n",
    "         (None, 1, 128) \n",
    "        </td>\n",
    "    </tr>\n",
    "           <tr>\n",
    "        <td>\n",
    "            **dense_2's output shape **\n",
    "        </td>\n",
    "        <td>\n",
    "         (None, 11) \n",
    "        </td>\n",
    "    </tr>\n",
    "</table>\n"
   ]
  },
  {
   "cell_type": "markdown",
   "metadata": {},
   "source": [
    "As usual, after creating your model in Keras, you need to compile it and define what loss, optimizer and metrics your are want to use. Compile your model using `categorical_crossentropy` loss, a custom [Adam](https://keras.io/optimizers/#adam) [optimizer](https://keras.io/optimizers/#usage-of-optimizers) (`learning rate = 0.005`, $\\beta_1 = 0.9$, $\\beta_2 = 0.999$, `decay = 0.01`)  and `['accuracy']` metrics:"
   ]
  },
  {
   "cell_type": "code",
   "execution_count": 34,
   "metadata": {},
   "outputs": [],
   "source": [
    "### START CODE HERE ### (≈2 lines)\n",
    "opt = Adam(lr = 0.005, beta_1=0.9, beta_2=0.999, decay = 0.01)\n",
    "model.compile(loss='categorical_crossentropy', optimizer=opt, metrics=['accuracy'])\n",
    "### END CODE HERE ###"
   ]
  },
  {
   "cell_type": "markdown",
   "metadata": {},
   "source": [
    "The last step is to define all your inputs and outputs to fit the model:\n",
    "- You already have X of shape $(m = 10000, T_x = 30)$ containing the training examples.\n",
    "- You need to create `s0` and `c0` to initialize your `post_activation_LSTM_cell` with 0s.\n",
    "- Given the `model()` you coded, you need the \"outputs\" to be a list of 11 elements of shape (m, T_y). So that: `outputs[i][0], ..., outputs[i][Ty]` represent the true labels (characters) corresponding to the $i^{th}$ training example (`X[i]`). More generally, `outputs[i][j]` is the true label of the $j^{th}$ character in the $i^{th}$ training example."
   ]
  },
  {
   "cell_type": "code",
   "execution_count": 35,
   "metadata": {},
   "outputs": [],
   "source": [
    "s0 = np.zeros((m, n_s))\n",
    "c0 = np.zeros((m, n_s))\n",
    "outputs = list(Yoh.swapaxes(0,1))"
   ]
  },
  {
   "cell_type": "markdown",
   "metadata": {},
   "source": [
    "Let's now fit the model and run it for one epoch."
   ]
  },
  {
   "cell_type": "code",
   "execution_count": 36,
   "metadata": {
    "scrolled": true
   },
   "outputs": [
    {
     "name": "stdout",
     "output_type": "stream",
     "text": [
      "WARNING:tensorflow:Variable *= will be deprecated. Use variable.assign_mul if you want assignment to the variable value or 'x = x * y' if you want a new python Tensor object.\n",
      "Epoch 1/1\n"
     ]
    },
    {
     "name": "stdout",
     "output_type": "stream",
     "text": [
      " 2800/10000 [=======>......................] - ETA: 13:06 - loss: 23.9863 - dense_7_loss: 2.4059 - dense_7_acc: 0.0000e+00 - dense_7_acc_1: 0.0000e+00 - dense_7_acc_2: 0.0000e+00 - dense_7_acc_3: 0.1000 - dense_7_acc_4: 0.0000e+00 - dense_7_acc_5: 0.0000e+00 - dense_7_acc_6: 0.0600 - dense_7_acc_7: 0.0000e+00 - dense_7_acc_8: 0.0700 - dense_7_acc_9: 0.07 - ETA: 6:38 - loss: 23.7638 - dense_7_loss: 2.4126 - dense_7_acc: 0.1550 - dense_7_acc_1: 0.0450 - dense_7_acc_2: 0.0750 - dense_7_acc_3: 0.1000 - dense_7_acc_4: 0.0700 - dense_7_acc_5: 0.2050 - dense_7_acc_6: 0.1400 - dense_7_acc_7: 0.0750 - dense_7_acc_8: 0.1650 - dense_7_acc_9: 0.0800                         - ETA: 4:28 - loss: 23.5235 - dense_7_loss: 2.4118 - dense_7_acc: 0.1033 - dense_7_acc_1: 0.1667 - dense_7_acc_2: 0.1300 - dense_7_acc_3: 0.1267 - dense_7_acc_4: 0.0467 - dense_7_acc_5: 0.3933 - dense_7_acc_6: 0.1267 - dense_7_acc_7: 0.0533 - dense_7_acc_8: 0.1900 - dense_7_acc_9: 0.093 - ETA: 3:23 - loss: 23.2686 - dense_7_loss: 2.4335 - dense_7_acc: 0.0775 - dense_7_acc_1: 0.2050 - dense_7_acc_2: 0.1450 - dense_7_acc_3: 0.1225 - dense_7_acc_4: 0.0350 - dense_7_acc_5: 0.4800 - dense_7_acc_6: 0.1150 - dense_7_acc_7: 0.0400 - dense_7_acc_8: 0.2125 - dense_7_acc_9: 0.095 - ETA: 2:44 - loss: 23.0201 - dense_7_loss: 2.5146 - dense_7_acc: 0.0620 - dense_7_acc_1: 0.2460 - dense_7_acc_2: 0.1660 - dense_7_acc_3: 0.1240 - dense_7_acc_4: 0.0280 - dense_7_acc_5: 0.5400 - dense_7_acc_6: 0.1100 - dense_7_acc_7: 0.0320 - dense_7_acc_8: 0.2240 - dense_7_acc_9: 0.094 - ETA: 2:18 - loss: 22.8716 - dense_7_loss: 2.6614 - dense_7_acc: 0.0517 - dense_7_acc_1: 0.2650 - dense_7_acc_2: 0.1700 - dense_7_acc_3: 0.1117 - dense_7_acc_4: 0.1900 - dense_7_acc_5: 0.4500 - dense_7_acc_6: 0.0917 - dense_7_acc_7: 0.1933 - dense_7_acc_8: 0.1867 - dense_7_acc_9: 0.078 - ETA: 1:59 - loss: 22.7390 - dense_7_loss: 2.7598 - dense_7_acc: 0.0443 - dense_7_acc_1: 0.2271 - dense_7_acc_2: 0.1457 - dense_7_acc_3: 0.0957 - dense_7_acc_4: 0.3057 - dense_7_acc_5: 0.3857 - dense_7_acc_6: 0.0786 - dense_7_acc_7: 0.3086 - dense_7_acc_8: 0.1600 - dense_7_acc_9: 0.067 - ETA: 1:45 - loss: 22.6017 - dense_7_loss: 2.7922 - dense_7_acc: 0.0388 - dense_7_acc_1: 0.1988 - dense_7_acc_2: 0.1275 - dense_7_acc_3: 0.0838 - dense_7_acc_4: 0.3925 - dense_7_acc_5: 0.3375 - dense_7_acc_6: 0.0688 - dense_7_acc_7: 0.3950 - dense_7_acc_8: 0.1400 - dense_7_acc_9: 0.058 - ETA: 1:34 - loss: 22.5094 - dense_7_loss: 2.8206 - dense_7_acc: 0.0344 - dense_7_acc_1: 0.1767 - dense_7_acc_2: 0.1133 - dense_7_acc_3: 0.0744 - dense_7_acc_4: 0.4600 - dense_7_acc_5: 0.3000 - dense_7_acc_6: 0.0611 - dense_7_acc_7: 0.4622 - dense_7_acc_8: 0.1244 - dense_7_acc_9: 0.052 - ETA: 1:25 - loss: 22.4137 - dense_7_loss: 2.8394 - dense_7_acc: 0.0310 - dense_7_acc_1: 0.1590 - dense_7_acc_2: 0.1020 - dense_7_acc_3: 0.0670 - dense_7_acc_4: 0.5140 - dense_7_acc_5: 0.2700 - dense_7_acc_6: 0.0550 - dense_7_acc_7: 0.5160 - dense_7_acc_8: 0.1120 - dense_7_acc_9: 0.047 - ETA: 1:18 - loss: 22.3414 - dense_7_loss: 2.8328 - dense_7_acc: 0.0282 - dense_7_acc_1: 0.1809 - dense_7_acc_2: 0.0927 - dense_7_acc_3: 0.0609 - dense_7_acc_4: 0.5582 - dense_7_acc_5: 0.2455 - dense_7_acc_6: 0.0500 - dense_7_acc_7: 0.5600 - dense_7_acc_8: 0.1018 - dense_7_acc_9: 0.042 - ETA: 1:12 - loss: 22.2810 - dense_7_loss: 2.8236 - dense_7_acc: 0.0258 - dense_7_acc_1: 0.1967 - dense_7_acc_2: 0.1017 - dense_7_acc_3: 0.0567 - dense_7_acc_4: 0.5950 - dense_7_acc_5: 0.2250 - dense_7_acc_6: 0.0458 - dense_7_acc_7: 0.5967 - dense_7_acc_8: 0.0933 - dense_7_acc_9: 0.039 - ETA: 1:07 - loss: 22.2109 - dense_7_loss: 2.8220 - dense_7_acc: 0.0238 - dense_7_acc_1: 0.2131 - dense_7_acc_2: 0.1092 - dense_7_acc_3: 0.0600 - dense_7_acc_4: 0.5538 - dense_7_acc_5: 0.2100 - dense_7_acc_6: 0.0423 - dense_7_acc_7: 0.6277 - dense_7_acc_8: 0.0862 - dense_7_acc_9: 0.036 - ETA: 1:02 - loss: 22.1549 - dense_7_loss: 2.8163 - dense_7_acc: 0.0221 - dense_7_acc_1: 0.2307 - dense_7_acc_2: 0.1179 - dense_7_acc_3: 0.0600 - dense_7_acc_4: 0.5143 - dense_7_acc_5: 0.2543 - dense_7_acc_6: 0.0421 - dense_7_acc_7: 0.6443 - dense_7_acc_8: 0.0800 - dense_7_acc_9: 0.033 - ETA: 58s - loss: 22.1034 - dense_7_loss: 2.8204 - dense_7_acc: 0.0207 - dense_7_acc_1: 0.2433 - dense_7_acc_2: 0.1240 - dense_7_acc_3: 0.0620 - dense_7_acc_4: 0.4800 - dense_7_acc_5: 0.2873 - dense_7_acc_6: 0.0467 - dense_7_acc_7: 0.6533 - dense_7_acc_8: 0.0760 - dense_7_acc_9: 0.031 - ETA: 55s - loss: 22.0550 - dense_7_loss: 2.8206 - dense_7_acc: 0.0194 - dense_7_acc_1: 0.2481 - dense_7_acc_2: 0.1281 - dense_7_acc_3: 0.0663 - dense_7_acc_4: 0.4500 - dense_7_acc_5: 0.3137 - dense_7_acc_6: 0.0444 - dense_7_acc_7: 0.6750 - dense_7_acc_8: 0.0712 - dense_7_acc_9: 0.02 - ETA: 52s - loss: 21.9963 - dense_7_loss: 2.8182 - dense_7_acc: 0.0182 - dense_7_acc_1: 0.2535 - dense_7_acc_2: 0.1288 - dense_7_acc_3: 0.0694 - dense_7_acc_4: 0.4512 - dense_7_acc_5: 0.2953 - dense_7_acc_6: 0.0418 - dense_7_acc_7: 0.6941 - dense_7_acc_8: 0.0671 - dense_7_acc_9: 0.02 - ETA: 49s - loss: 21.9447 - dense_7_loss: 2.8181 - dense_7_acc: 0.0172 - dense_7_acc_1: 0.2617 - dense_7_acc_2: 0.1311 - dense_7_acc_3: 0.0711 - dense_7_acc_4: 0.4817 - dense_7_acc_5: 0.2789 - dense_7_acc_6: 0.0394 - dense_7_acc_7: 0.7111 - dense_7_acc_8: 0.0633 - dense_7_acc_9: 0.02 - ETA: 47s - loss: 21.8832 - dense_7_loss: 2.8257 - dense_7_acc: 0.0163 - dense_7_acc_1: 0.2726 - dense_7_acc_2: 0.1395 - dense_7_acc_3: 0.0674 - dense_7_acc_4: 0.5089 - dense_7_acc_5: 0.2642 - dense_7_acc_6: 0.0374 - dense_7_acc_7: 0.7263 - dense_7_acc_8: 0.0600 - dense_7_acc_9: 0.02 - ETA: 44s - loss: 21.8355 - dense_7_loss: 2.8304 - dense_7_acc: 0.0155 - dense_7_acc_1: 0.2765 - dense_7_acc_2: 0.1410 - dense_7_acc_3: 0.0640 - dense_7_acc_4: 0.5335 - dense_7_acc_5: 0.2510 - dense_7_acc_6: 0.0355 - dense_7_acc_7: 0.7400 - dense_7_acc_8: 0.0570 - dense_7_acc_9: 0.02 - ETA: 42s - loss: 21.7775 - dense_7_loss: 2.8254 - dense_7_acc: 0.0148 - dense_7_acc_1: 0.2824 - dense_7_acc_2: 0.1467 - dense_7_acc_3: 0.0610 - dense_7_acc_4: 0.5557 - dense_7_acc_5: 0.2390 - dense_7_acc_6: 0.0338 - dense_7_acc_7: 0.7524 - dense_7_acc_8: 0.0543 - dense_7_acc_9: 0.02 - ETA: 40s - loss: 21.7294 - dense_7_loss: 2.8273 - dense_7_acc: 0.0141 - dense_7_acc_1: 0.2873 - dense_7_acc_2: 0.1514 - dense_7_acc_3: 0.0609 - dense_7_acc_4: 0.5759 - dense_7_acc_5: 0.2282 - dense_7_acc_6: 0.0323 - dense_7_acc_7: 0.7636 - dense_7_acc_8: 0.0518 - dense_7_acc_9: 0.02 - ETA: 39s - loss: 21.6754 - dense_7_loss: 2.8305 - dense_7_acc: 0.0135 - dense_7_acc_1: 0.2948 - dense_7_acc_2: 0.1570 - dense_7_acc_3: 0.0643 - dense_7_acc_4: 0.5943 - dense_7_acc_5: 0.2183 - dense_7_acc_6: 0.0309 - dense_7_acc_7: 0.7739 - dense_7_acc_8: 0.0496 - dense_7_acc_9: 0.02 - ETA: 37s - loss: 21.6291 - dense_7_loss: 2.8369 - dense_7_acc: 0.0129 - dense_7_acc_1: 0.3125 - dense_7_acc_2: 0.1579 - dense_7_acc_3: 0.0650 - dense_7_acc_4: 0.5908 - dense_7_acc_5: 0.2092 - dense_7_acc_6: 0.0296 - dense_7_acc_7: 0.7833 - dense_7_acc_8: 0.0475 - dense_7_acc_9: 0.01 - ETA: 36s - loss: 21.5777 - dense_7_loss: 2.8371 - dense_7_acc: 0.0124 - dense_7_acc_1: 0.3268 - dense_7_acc_2: 0.1596 - dense_7_acc_3: 0.0672 - dense_7_acc_4: 0.6028 - dense_7_acc_5: 0.2008 - dense_7_acc_6: 0.0284 - dense_7_acc_7: 0.7920 - dense_7_acc_8: 0.0456 - dense_7_acc_9: 0.01 - ETA: 34s - loss: 21.5218 - dense_7_loss: 2.8370 - dense_7_acc: 0.0119 - dense_7_acc_1: 0.3396 - dense_7_acc_2: 0.1612 - dense_7_acc_3: 0.0692 - dense_7_acc_4: 0.6181 - dense_7_acc_5: 0.1931 - dense_7_acc_6: 0.0273 - dense_7_acc_7: 0.8000 - dense_7_acc_8: 0.0438 - dense_7_acc_9: 0.01 - ETA: 33s - loss: 21.4692 - dense_7_loss: 2.8336 - dense_7_acc: 0.0115 - dense_7_acc_1: 0.3500 - dense_7_acc_2: 0.1641 - dense_7_acc_3: 0.0689 - dense_7_acc_4: 0.6322 - dense_7_acc_5: 0.1859 - dense_7_acc_6: 0.0263 - dense_7_acc_7: 0.8074 - dense_7_acc_8: 0.0422 - dense_7_acc_9: 0.01 - ETA: 32s - loss: 21.4194 - dense_7_loss: 2.8331 - dense_7_acc: 0.0111 - dense_7_acc_1: 0.3554 - dense_7_acc_2: 0.1657 - dense_7_acc_3: 0.0689 - dense_7_acc_4: 0.6454 - dense_7_acc_5: 0.1793 - dense_7_acc_6: 0.0254 - dense_7_acc_7: 0.8143 - dense_7_acc_8: 0.0407 - dense_7_acc_9: 0.0168\b\b\b\b\b\b\b\b\b\b\b\b\b\b\b\b\b\b\b\b\b\b\b\b\b\b\b\b\b\b\b\b\b\b\b\b\b\b\b\b\b\b\b\b\b\b\b\b\b\b\b\b\b\b\b\b\b\b\b\b\b\b\b\b\b\b\b\b\b\b\b\b\b\b\b\b\b\b\b\b\b\b\b\b\b\b\b\b\b\b\b\b\b\b\b\b\b\b\b\b\b\b\b\b\b\b\b\b\b\b\b\b\b\b\b\b\b\b\b\b\b\b\b\b\b\b\b\b\b\b\b\b\b\b\b\b\b\b\b\b\b\b\b\b\b\b\b\b\b\b\b\b\b\b\b\b\b\b\b\b\b\b\b\b\b\b\b\b\b\b\b\b\b\b\b\b\b\b\b\b\b\b\b\b\b\b\b\b\b\b\b\b\b\b\b\b\b\b\b\b\b\b\b\b\b\b\b\b\b\b\b\b\b\b\b\b\b\b\b\b\b\b\b\b\b\b\b\b\b\b\b\b\b\b\b\b\b\b\b\b\b\b\b\b\b\b\b\b\b\b\b\b\b\b\b\b\b\b\b\b\b\b\b\b\b\b\b\b\b\b\b\b\b\b\b\b\b\b\b\b\b\b\b\b\b\b\b\b\b\b\b\b\b\b\b\b\b\b\b\b\b\b\b\b\b\b\b\b\b\b\b\b\b\b\b\b\b\b\b\b\b\b\b\b\b\b\b\b\b\b\b\b"
     ]
    },
    {
     "name": "stdout",
     "output_type": "stream",
     "text": [
      " 5700/10000 [================>.............] - ETA: 31s - loss: 21.3637 - dense_7_loss: 2.8320 - dense_7_acc: 0.0107 - dense_7_acc_1: 0.3648 - dense_7_acc_2: 0.1652 - dense_7_acc_3: 0.0707 - dense_7_acc_4: 0.6576 - dense_7_acc_5: 0.1731 - dense_7_acc_6: 0.0245 - dense_7_acc_7: 0.8207 - dense_7_acc_8: 0.0393 - dense_7_acc_9: 0.01 - ETA: 30s - loss: 21.3111 - dense_7_loss: 2.8348 - dense_7_acc: 0.0103 - dense_7_acc_1: 0.3730 - dense_7_acc_2: 0.1670 - dense_7_acc_3: 0.0730 - dense_7_acc_4: 0.6690 - dense_7_acc_5: 0.1673 - dense_7_acc_6: 0.0237 - dense_7_acc_7: 0.8267 - dense_7_acc_8: 0.0380 - dense_7_acc_9: 0.01 - ETA: 29s - loss: 21.2535 - dense_7_loss: 2.8350 - dense_7_acc: 0.0100 - dense_7_acc_1: 0.3810 - dense_7_acc_2: 0.1684 - dense_7_acc_3: 0.0735 - dense_7_acc_4: 0.6787 - dense_7_acc_5: 0.1619 - dense_7_acc_6: 0.0229 - dense_7_acc_7: 0.8323 - dense_7_acc_8: 0.0368 - dense_7_acc_9: 0.01 - ETA: 28s - loss: 21.1887 - dense_7_loss: 2.8323 - dense_7_acc: 0.0184 - dense_7_acc_1: 0.3897 - dense_7_acc_2: 0.1756 - dense_7_acc_3: 0.0753 - dense_7_acc_4: 0.6888 - dense_7_acc_5: 0.1569 - dense_7_acc_6: 0.0222 - dense_7_acc_7: 0.8375 - dense_7_acc_8: 0.0369 - dense_7_acc_9: 0.02 - ETA: 27s - loss: 21.1340 - dense_7_loss: 2.8341 - dense_7_acc: 0.0367 - dense_7_acc_1: 0.3967 - dense_7_acc_2: 0.1752 - dense_7_acc_3: 0.0730 - dense_7_acc_4: 0.6982 - dense_7_acc_5: 0.1521 - dense_7_acc_6: 0.0215 - dense_7_acc_7: 0.8415 - dense_7_acc_8: 0.0436 - dense_7_acc_9: 0.02 - ETA: 26s - loss: 21.0703 - dense_7_loss: 2.8333 - dense_7_acc: 0.0562 - dense_7_acc_1: 0.4056 - dense_7_acc_2: 0.1765 - dense_7_acc_3: 0.0709 - dense_7_acc_4: 0.7071 - dense_7_acc_5: 0.1476 - dense_7_acc_6: 0.0209 - dense_7_acc_7: 0.8462 - dense_7_acc_8: 0.0491 - dense_7_acc_9: 0.02 - ETA: 25s - loss: 21.0149 - dense_7_loss: 2.8369 - dense_7_acc: 0.0723 - dense_7_acc_1: 0.4117 - dense_7_acc_2: 0.1820 - dense_7_acc_3: 0.0689 - dense_7_acc_4: 0.7154 - dense_7_acc_5: 0.1434 - dense_7_acc_6: 0.0203 - dense_7_acc_7: 0.8506 - dense_7_acc_8: 0.0560 - dense_7_acc_9: 0.02 - ETA: 24s - loss: 20.9601 - dense_7_loss: 2.8391 - dense_7_acc: 0.0872 - dense_7_acc_1: 0.4172 - dense_7_acc_2: 0.1833 - dense_7_acc_3: 0.0669 - dense_7_acc_4: 0.7233 - dense_7_acc_5: 0.1394 - dense_7_acc_6: 0.0197 - dense_7_acc_7: 0.8547 - dense_7_acc_8: 0.0544 - dense_7_acc_9: 0.03 - ETA: 24s - loss: 20.9007 - dense_7_loss: 2.8404 - dense_7_acc: 0.0997 - dense_7_acc_1: 0.4208 - dense_7_acc_2: 0.1865 - dense_7_acc_3: 0.0651 - dense_7_acc_4: 0.7308 - dense_7_acc_5: 0.1357 - dense_7_acc_6: 0.0192 - dense_7_acc_7: 0.8586 - dense_7_acc_8: 0.0616 - dense_7_acc_9: 0.03 - ETA: 23s - loss: 20.8340 - dense_7_loss: 2.8412 - dense_7_acc: 0.1147 - dense_7_acc_1: 0.4274 - dense_7_acc_2: 0.1868 - dense_7_acc_3: 0.0655 - dense_7_acc_4: 0.7379 - dense_7_acc_5: 0.1321 - dense_7_acc_6: 0.0187 - dense_7_acc_7: 0.8624 - dense_7_acc_8: 0.0611 - dense_7_acc_9: 0.03 - ETA: 22s - loss: 20.7743 - dense_7_loss: 2.8425 - dense_7_acc: 0.1297 - dense_7_acc_1: 0.4344 - dense_7_acc_2: 0.1921 - dense_7_acc_3: 0.0662 - dense_7_acc_4: 0.7446 - dense_7_acc_5: 0.1287 - dense_7_acc_6: 0.0182 - dense_7_acc_7: 0.8659 - dense_7_acc_8: 0.0595 - dense_7_acc_9: 0.03 - ETA: 21s - loss: 20.7137 - dense_7_loss: 2.8412 - dense_7_acc: 0.1413 - dense_7_acc_1: 0.4383 - dense_7_acc_2: 0.1950 - dense_7_acc_3: 0.0645 - dense_7_acc_4: 0.7510 - dense_7_acc_5: 0.1255 - dense_7_acc_6: 0.0177 - dense_7_acc_7: 0.8693 - dense_7_acc_8: 0.0662 - dense_7_acc_9: 0.03 - ETA: 21s - loss: 20.6553 - dense_7_loss: 2.8404 - dense_7_acc: 0.1546 - dense_7_acc_1: 0.4444 - dense_7_acc_2: 0.1963 - dense_7_acc_3: 0.0629 - dense_7_acc_4: 0.7571 - dense_7_acc_5: 0.1224 - dense_7_acc_6: 0.0173 - dense_7_acc_7: 0.8585 - dense_7_acc_8: 0.0720 - dense_7_acc_9: 0.04 - ETA: 20s - loss: 20.6015 - dense_7_loss: 2.8396 - dense_7_acc: 0.1650 - dense_7_acc_1: 0.4479 - dense_7_acc_2: 0.1960 - dense_7_acc_3: 0.0614 - dense_7_acc_4: 0.7629 - dense_7_acc_5: 0.1195 - dense_7_acc_6: 0.0169 - dense_7_acc_7: 0.8593 - dense_7_acc_8: 0.0750 - dense_7_acc_9: 0.04 - ETA: 20s - loss: 20.5382 - dense_7_loss: 2.8368 - dense_7_acc: 0.1763 - dense_7_acc_1: 0.4526 - dense_7_acc_2: 0.1984 - dense_7_acc_3: 0.0600 - dense_7_acc_4: 0.7684 - dense_7_acc_5: 0.1167 - dense_7_acc_6: 0.0165 - dense_7_acc_7: 0.8626 - dense_7_acc_8: 0.0742 - dense_7_acc_9: 0.04 - ETA: 19s - loss: 20.4770 - dense_7_loss: 2.8359 - dense_7_acc: 0.1873 - dense_7_acc_1: 0.4573 - dense_7_acc_2: 0.2023 - dense_7_acc_3: 0.0586 - dense_7_acc_4: 0.7736 - dense_7_acc_5: 0.1141 - dense_7_acc_6: 0.0161 - dense_7_acc_7: 0.8657 - dense_7_acc_8: 0.0752 - dense_7_acc_9: 0.04 - ETA: 18s - loss: 20.4210 - dense_7_loss: 2.8369 - dense_7_acc: 0.1973 - dense_7_acc_1: 0.4620 - dense_7_acc_2: 0.2029 - dense_7_acc_3: 0.0573 - dense_7_acc_4: 0.7787 - dense_7_acc_5: 0.1191 - dense_7_acc_6: 0.0178 - dense_7_acc_7: 0.8589 - dense_7_acc_8: 0.0802 - dense_7_acc_9: 0.04 - ETA: 18s - loss: 20.3653 - dense_7_loss: 2.8383 - dense_7_acc: 0.2061 - dense_7_acc_1: 0.4652 - dense_7_acc_2: 0.2074 - dense_7_acc_3: 0.0563 - dense_7_acc_4: 0.7835 - dense_7_acc_5: 0.1257 - dense_7_acc_6: 0.0189 - dense_7_acc_7: 0.8509 - dense_7_acc_8: 0.0852 - dense_7_acc_9: 0.04 - ETA: 17s - loss: 20.3034 - dense_7_loss: 2.8362 - dense_7_acc: 0.2162 - dense_7_acc_1: 0.4698 - dense_7_acc_2: 0.2119 - dense_7_acc_3: 0.0560 - dense_7_acc_4: 0.7881 - dense_7_acc_5: 0.1234 - dense_7_acc_6: 0.0185 - dense_7_acc_7: 0.8526 - dense_7_acc_8: 0.0887 - dense_7_acc_9: 0.05 - ETA: 17s - loss: 20.2391 - dense_7_loss: 2.8368 - dense_7_acc: 0.2267 - dense_7_acc_1: 0.4750 - dense_7_acc_2: 0.2142 - dense_7_acc_3: 0.0552 - dense_7_acc_4: 0.7925 - dense_7_acc_5: 0.1208 - dense_7_acc_6: 0.0181 - dense_7_acc_7: 0.8556 - dense_7_acc_8: 0.0892 - dense_7_acc_9: 0.05 - ETA: 16s - loss: 20.1795 - dense_7_loss: 2.8346 - dense_7_acc: 0.2349 - dense_7_acc_1: 0.4782 - dense_7_acc_2: 0.2159 - dense_7_acc_3: 0.0541 - dense_7_acc_4: 0.7967 - dense_7_acc_5: 0.1184 - dense_7_acc_6: 0.0178 - dense_7_acc_7: 0.8586 - dense_7_acc_8: 0.0892 - dense_7_acc_9: 0.05 - ETA: 16s - loss: 20.1174 - dense_7_loss: 2.8331 - dense_7_acc: 0.2420 - dense_7_acc_1: 0.4808 - dense_7_acc_2: 0.2204 - dense_7_acc_3: 0.0530 - dense_7_acc_4: 0.8008 - dense_7_acc_5: 0.1160 - dense_7_acc_6: 0.0174 - dense_7_acc_7: 0.8614 - dense_7_acc_8: 0.0898 - dense_7_acc_9: 0.05 - ETA: 15s - loss: 20.0560 - dense_7_loss: 2.8344 - dense_7_acc: 0.2490 - dense_7_acc_1: 0.4837 - dense_7_acc_2: 0.2231 - dense_7_acc_3: 0.0522 - dense_7_acc_4: 0.8047 - dense_7_acc_5: 0.1143 - dense_7_acc_6: 0.0171 - dense_7_acc_7: 0.8641 - dense_7_acc_8: 0.0884 - dense_7_acc_9: 0.05 - ETA: 15s - loss: 19.9914 - dense_7_loss: 2.8345 - dense_7_acc: 0.2563 - dense_7_acc_1: 0.4890 - dense_7_acc_2: 0.2262 - dense_7_acc_3: 0.0527 - dense_7_acc_4: 0.8085 - dense_7_acc_5: 0.1187 - dense_7_acc_6: 0.0181 - dense_7_acc_7: 0.8667 - dense_7_acc_8: 0.0869 - dense_7_acc_9: 0.05 - ETA: 15s - loss: 19.9252 - dense_7_loss: 2.8325 - dense_7_acc: 0.2634 - dense_7_acc_1: 0.4968 - dense_7_acc_2: 0.2306 - dense_7_acc_3: 0.0519 - dense_7_acc_4: 0.8121 - dense_7_acc_5: 0.1296 - dense_7_acc_6: 0.0189 - dense_7_acc_7: 0.8692 - dense_7_acc_8: 0.0885 - dense_7_acc_9: 0.05 - ETA: 14s - loss: 19.8539 - dense_7_loss: 2.8291 - dense_7_acc: 0.2707 - dense_7_acc_1: 0.5035 - dense_7_acc_2: 0.2346 - dense_7_acc_3: 0.0511 - dense_7_acc_4: 0.8156 - dense_7_acc_5: 0.1415 - dense_7_acc_6: 0.0196 - dense_7_acc_7: 0.8717 - dense_7_acc_8: 0.0911 - dense_7_acc_9: 0.05 - ETA: 14s - loss: 19.7812 - dense_7_loss: 2.8263 - dense_7_acc: 0.2780 - dense_7_acc_1: 0.5084 - dense_7_acc_2: 0.2380 - dense_7_acc_3: 0.0507 - dense_7_acc_4: 0.8189 - dense_7_acc_5: 0.1518 - dense_7_acc_6: 0.0205 - dense_7_acc_7: 0.8740 - dense_7_acc_8: 0.0931 - dense_7_acc_9: 0.05 - ETA: 13s - loss: 19.7086 - dense_7_loss: 2.8230 - dense_7_acc: 0.2832 - dense_7_acc_1: 0.5138 - dense_7_acc_2: 0.2425 - dense_7_acc_3: 0.0498 - dense_7_acc_4: 0.8221 - dense_7_acc_5: 0.1623 - dense_7_acc_6: 0.0212 - dense_7_acc_7: 0.8763 - dense_7_acc_8: 0.0966 - dense_7_acc_9: 0.05 - ETA: 13s - loss: 19.6279 - dense_7_loss: 2.8204 - dense_7_acc: 0.2893 - dense_7_acc_1: 0.5211 - dense_7_acc_2: 0.2456 - dense_7_acc_3: 0.0489 - dense_7_acc_4: 0.8253 - dense_7_acc_5: 0.1721 - dense_7_acc_6: 0.0230 - dense_7_acc_7: 0.8784 - dense_7_acc_8: 0.1002 - dense_7_acc_9: 0.0618"
     ]
    },
    {
     "name": "stdout",
     "output_type": "stream",
     "text": [
      " 8600/10000 [========================>.....] - ETA: 12s - loss: 19.5466 - dense_7_loss: 2.8197 - dense_7_acc: 0.2960 - dense_7_acc_1: 0.5266 - dense_7_acc_2: 0.2488 - dense_7_acc_3: 0.0484 - dense_7_acc_4: 0.8283 - dense_7_acc_5: 0.1797 - dense_7_acc_6: 0.0243 - dense_7_acc_7: 0.8805 - dense_7_acc_8: 0.1045 - dense_7_acc_9: 0.06 - ETA: 12s - loss: 19.4626 - dense_7_loss: 2.8170 - dense_7_acc: 0.3025 - dense_7_acc_1: 0.5325 - dense_7_acc_2: 0.2514 - dense_7_acc_3: 0.0476 - dense_7_acc_4: 0.8312 - dense_7_acc_5: 0.1858 - dense_7_acc_6: 0.0242 - dense_7_acc_7: 0.8825 - dense_7_acc_8: 0.1100 - dense_7_acc_9: 0.06 - ETA: 12s - loss: 19.3768 - dense_7_loss: 2.8135 - dense_7_acc: 0.3080 - dense_7_acc_1: 0.5383 - dense_7_acc_2: 0.2532 - dense_7_acc_3: 0.0472 - dense_7_acc_4: 0.8340 - dense_7_acc_5: 0.1953 - dense_7_acc_6: 0.0240 - dense_7_acc_7: 0.8845 - dense_7_acc_8: 0.1130 - dense_7_acc_9: 0.06 - ETA: 11s - loss: 19.2898 - dense_7_loss: 2.8092 - dense_7_acc: 0.3123 - dense_7_acc_1: 0.5443 - dense_7_acc_2: 0.2567 - dense_7_acc_3: 0.0475 - dense_7_acc_4: 0.8367 - dense_7_acc_5: 0.2043 - dense_7_acc_6: 0.0251 - dense_7_acc_7: 0.8864 - dense_7_acc_8: 0.1162 - dense_7_acc_9: 0.06 - ETA: 11s - loss: 19.2007 - dense_7_loss: 2.8019 - dense_7_acc: 0.3181 - dense_7_acc_1: 0.5500 - dense_7_acc_2: 0.2585 - dense_7_acc_3: 0.0477 - dense_7_acc_4: 0.8394 - dense_7_acc_5: 0.2132 - dense_7_acc_6: 0.0250 - dense_7_acc_7: 0.8882 - dense_7_acc_8: 0.1205 - dense_7_acc_9: 0.06 - ETA: 10s - loss: 19.1115 - dense_7_loss: 2.7960 - dense_7_acc: 0.3230 - dense_7_acc_1: 0.5554 - dense_7_acc_2: 0.2606 - dense_7_acc_3: 0.0475 - dense_7_acc_4: 0.8419 - dense_7_acc_5: 0.2206 - dense_7_acc_6: 0.0251 - dense_7_acc_7: 0.8900 - dense_7_acc_8: 0.1248 - dense_7_acc_9: 0.06 - ETA: 10s - loss: 19.0225 - dense_7_loss: 2.7910 - dense_7_acc: 0.3273 - dense_7_acc_1: 0.5608 - dense_7_acc_2: 0.2628 - dense_7_acc_3: 0.0483 - dense_7_acc_4: 0.8444 - dense_7_acc_5: 0.2289 - dense_7_acc_6: 0.0259 - dense_7_acc_7: 0.8917 - dense_7_acc_8: 0.1287 - dense_7_acc_9: 0.06 - ETA: 10s - loss: 18.9311 - dense_7_loss: 2.7850 - dense_7_acc: 0.3323 - dense_7_acc_1: 0.5660 - dense_7_acc_2: 0.2654 - dense_7_acc_3: 0.0492 - dense_7_acc_4: 0.8468 - dense_7_acc_5: 0.2369 - dense_7_acc_6: 0.0269 - dense_7_acc_7: 0.8934 - dense_7_acc_8: 0.1308 - dense_7_acc_9: 0.06 - ETA: 9s - loss: 18.8404 - dense_7_loss: 2.7794 - dense_7_acc: 0.3359 - dense_7_acc_1: 0.5715 - dense_7_acc_2: 0.2673 - dense_7_acc_3: 0.0491 - dense_7_acc_4: 0.8491 - dense_7_acc_5: 0.2455 - dense_7_acc_6: 0.0267 - dense_7_acc_7: 0.8950 - dense_7_acc_8: 0.1341 - dense_7_acc_9: 0.0659 - ETA: 9s - loss: 18.7459 - dense_7_loss: 2.7729 - dense_7_acc: 0.3404 - dense_7_acc_1: 0.5764 - dense_7_acc_2: 0.2687 - dense_7_acc_3: 0.0499 - dense_7_acc_4: 0.8513 - dense_7_acc_5: 0.2522 - dense_7_acc_6: 0.0273 - dense_7_acc_7: 0.8966 - dense_7_acc_8: 0.1376 - dense_7_acc_9: 0.067 - ETA: 9s - loss: 18.6527 - dense_7_loss: 2.7670 - dense_7_acc: 0.3449 - dense_7_acc_1: 0.5813 - dense_7_acc_2: 0.2709 - dense_7_acc_3: 0.0519 - dense_7_acc_4: 0.8535 - dense_7_acc_5: 0.2596 - dense_7_acc_6: 0.0291 - dense_7_acc_7: 0.8981 - dense_7_acc_8: 0.1416 - dense_7_acc_9: 0.067 - ETA: 8s - loss: 18.5623 - dense_7_loss: 2.7612 - dense_7_acc: 0.3494 - dense_7_acc_1: 0.5862 - dense_7_acc_2: 0.2745 - dense_7_acc_3: 0.0517 - dense_7_acc_4: 0.8557 - dense_7_acc_5: 0.2670 - dense_7_acc_6: 0.0296 - dense_7_acc_7: 0.8996 - dense_7_acc_8: 0.1446 - dense_7_acc_9: 0.068 - ETA: 8s - loss: 18.4687 - dense_7_loss: 2.7546 - dense_7_acc: 0.3539 - dense_7_acc_1: 0.5907 - dense_7_acc_2: 0.2774 - dense_7_acc_3: 0.0521 - dense_7_acc_4: 0.8577 - dense_7_acc_5: 0.2731 - dense_7_acc_6: 0.0303 - dense_7_acc_7: 0.9010 - dense_7_acc_8: 0.1487 - dense_7_acc_9: 0.069 - ETA: 8s - loss: 18.3800 - dense_7_loss: 2.7491 - dense_7_acc: 0.3577 - dense_7_acc_1: 0.5948 - dense_7_acc_2: 0.2799 - dense_7_acc_3: 0.0531 - dense_7_acc_4: 0.8597 - dense_7_acc_5: 0.2796 - dense_7_acc_6: 0.0317 - dense_7_acc_7: 0.9024 - dense_7_acc_8: 0.1518 - dense_7_acc_9: 0.070 - ETA: 7s - loss: 18.2938 - dense_7_loss: 2.7431 - dense_7_acc: 0.3615 - dense_7_acc_1: 0.5986 - dense_7_acc_2: 0.2818 - dense_7_acc_3: 0.0533 - dense_7_acc_4: 0.8617 - dense_7_acc_5: 0.2864 - dense_7_acc_6: 0.0321 - dense_7_acc_7: 0.9038 - dense_7_acc_8: 0.1546 - dense_7_acc_9: 0.071 - ETA: 7s - loss: 18.2020 - dense_7_loss: 2.7371 - dense_7_acc: 0.3675 - dense_7_acc_1: 0.6037 - dense_7_acc_2: 0.2833 - dense_7_acc_3: 0.0547 - dense_7_acc_4: 0.8636 - dense_7_acc_5: 0.2925 - dense_7_acc_6: 0.0332 - dense_7_acc_7: 0.9051 - dense_7_acc_8: 0.1574 - dense_7_acc_9: 0.072 - ETA: 7s - loss: 18.1136 - dense_7_loss: 2.7314 - dense_7_acc: 0.3750 - dense_7_acc_1: 0.6088 - dense_7_acc_2: 0.2866 - dense_7_acc_3: 0.0545 - dense_7_acc_4: 0.8654 - dense_7_acc_5: 0.2989 - dense_7_acc_6: 0.0335 - dense_7_acc_7: 0.9064 - dense_7_acc_8: 0.1597 - dense_7_acc_9: 0.073 - ETA: 6s - loss: 18.0254 - dense_7_loss: 2.7259 - dense_7_acc: 0.3820 - dense_7_acc_1: 0.6135 - dense_7_acc_2: 0.2880 - dense_7_acc_3: 0.0549 - dense_7_acc_4: 0.8672 - dense_7_acc_5: 0.3047 - dense_7_acc_6: 0.0344 - dense_7_acc_7: 0.9076 - dense_7_acc_8: 0.1631 - dense_7_acc_9: 0.074 - ETA: 6s - loss: 17.9376 - dense_7_loss: 2.7210 - dense_7_acc: 0.3884 - dense_7_acc_1: 0.6175 - dense_7_acc_2: 0.2899 - dense_7_acc_3: 0.0561 - dense_7_acc_4: 0.8689 - dense_7_acc_5: 0.3111 - dense_7_acc_6: 0.0351 - dense_7_acc_7: 0.9088 - dense_7_acc_8: 0.1662 - dense_7_acc_9: 0.074 - ETA: 6s - loss: 17.8529 - dense_7_loss: 2.7155 - dense_7_acc: 0.3948 - dense_7_acc_1: 0.6218 - dense_7_acc_2: 0.2926 - dense_7_acc_3: 0.0568 - dense_7_acc_4: 0.8706 - dense_7_acc_5: 0.3174 - dense_7_acc_6: 0.0366 - dense_7_acc_7: 0.9100 - dense_7_acc_8: 0.1687 - dense_7_acc_9: 0.075 - ETA: 6s - loss: 17.7672 - dense_7_loss: 2.7106 - dense_7_acc: 0.4017 - dense_7_acc_1: 0.6259 - dense_7_acc_2: 0.2951 - dense_7_acc_3: 0.0579 - dense_7_acc_4: 0.8723 - dense_7_acc_5: 0.3237 - dense_7_acc_6: 0.0387 - dense_7_acc_7: 0.9112 - dense_7_acc_8: 0.1717 - dense_7_acc_9: 0.076 - ETA: 5s - loss: 17.6844 - dense_7_loss: 2.7056 - dense_7_acc: 0.4082 - dense_7_acc_1: 0.6300 - dense_7_acc_2: 0.2965 - dense_7_acc_3: 0.0586 - dense_7_acc_4: 0.8739 - dense_7_acc_5: 0.3296 - dense_7_acc_6: 0.0396 - dense_7_acc_7: 0.9123 - dense_7_acc_8: 0.1744 - dense_7_acc_9: 0.077 - ETA: 5s - loss: 17.6039 - dense_7_loss: 2.7012 - dense_7_acc: 0.4136 - dense_7_acc_1: 0.6338 - dense_7_acc_2: 0.2982 - dense_7_acc_3: 0.0599 - dense_7_acc_4: 0.8755 - dense_7_acc_5: 0.3345 - dense_7_acc_6: 0.0415 - dense_7_acc_7: 0.9134 - dense_7_acc_8: 0.1766 - dense_7_acc_9: 0.077 - ETA: 5s - loss: 17.5212 - dense_7_loss: 2.6960 - dense_7_acc: 0.4198 - dense_7_acc_1: 0.6375 - dense_7_acc_2: 0.2994 - dense_7_acc_3: 0.0606 - dense_7_acc_4: 0.8770 - dense_7_acc_5: 0.3396 - dense_7_acc_6: 0.0443 - dense_7_acc_7: 0.9144 - dense_7_acc_8: 0.1785 - dense_7_acc_9: 0.078 - ETA: 4s - loss: 17.4404 - dense_7_loss: 2.6924 - dense_7_acc: 0.4243 - dense_7_acc_1: 0.6415 - dense_7_acc_2: 0.3010 - dense_7_acc_3: 0.0616 - dense_7_acc_4: 0.8785 - dense_7_acc_5: 0.3449 - dense_7_acc_6: 0.0468 - dense_7_acc_7: 0.9155 - dense_7_acc_8: 0.1810 - dense_7_acc_9: 0.078 - ETA: 4s - loss: 17.3598 - dense_7_loss: 2.6878 - dense_7_acc: 0.4296 - dense_7_acc_1: 0.6455 - dense_7_acc_2: 0.3029 - dense_7_acc_3: 0.0618 - dense_7_acc_4: 0.8800 - dense_7_acc_5: 0.3496 - dense_7_acc_6: 0.0492 - dense_7_acc_7: 0.9165 - dense_7_acc_8: 0.1840 - dense_7_acc_9: 0.078 - ETA: 4s - loss: 17.2848 - dense_7_loss: 2.6844 - dense_7_acc: 0.4332 - dense_7_acc_1: 0.6487 - dense_7_acc_2: 0.3042 - dense_7_acc_3: 0.0629 - dense_7_acc_4: 0.8814 - dense_7_acc_5: 0.3540 - dense_7_acc_6: 0.0507 - dense_7_acc_7: 0.9175 - dense_7_acc_8: 0.1864 - dense_7_acc_9: 0.079 - ETA: 4s - loss: 17.2075 - dense_7_loss: 2.6801 - dense_7_acc: 0.4382 - dense_7_acc_1: 0.6525 - dense_7_acc_2: 0.3065 - dense_7_acc_3: 0.0631 - dense_7_acc_4: 0.8828 - dense_7_acc_5: 0.3589 - dense_7_acc_6: 0.0528 - dense_7_acc_7: 0.9185 - dense_7_acc_8: 0.1880 - dense_7_acc_9: 0.079 - ETA: 3s - loss: 17.1309 - dense_7_loss: 2.6756 - dense_7_acc: 0.4447 - dense_7_acc_1: 0.6562 - dense_7_acc_2: 0.3080 - dense_7_acc_3: 0.0638 - dense_7_acc_4: 0.8842 - dense_7_acc_5: 0.3635 - dense_7_acc_6: 0.0544 - dense_7_acc_7: 0.9194 - dense_7_acc_8: 0.1895 - dense_7_acc_9: 0.0797"
     ]
    },
    {
     "name": "stdout",
     "output_type": "stream",
     "text": [
      "10000/10000 [==============================] - ETA: 3s - loss: 17.0571 - dense_7_loss: 2.6714 - dense_7_acc: 0.4500 - dense_7_acc_1: 0.6595 - dense_7_acc_2: 0.3097 - dense_7_acc_3: 0.0645 - dense_7_acc_4: 0.8855 - dense_7_acc_5: 0.3679 - dense_7_acc_6: 0.0563 - dense_7_acc_7: 0.9203 - dense_7_acc_8: 0.1913 - dense_7_acc_9: 0.080 - ETA: 3s - loss: 16.9825 - dense_7_loss: 2.6675 - dense_7_acc: 0.4559 - dense_7_acc_1: 0.6632 - dense_7_acc_2: 0.3119 - dense_7_acc_3: 0.0650 - dense_7_acc_4: 0.8868 - dense_7_acc_5: 0.3722 - dense_7_acc_6: 0.0583 - dense_7_acc_7: 0.9213 - dense_7_acc_8: 0.1926 - dense_7_acc_9: 0.080 - ETA: 2s - loss: 16.9085 - dense_7_loss: 2.6625 - dense_7_acc: 0.4608 - dense_7_acc_1: 0.6666 - dense_7_acc_2: 0.3129 - dense_7_acc_3: 0.0663 - dense_7_acc_4: 0.8881 - dense_7_acc_5: 0.3764 - dense_7_acc_6: 0.0598 - dense_7_acc_7: 0.9221 - dense_7_acc_8: 0.1939 - dense_7_acc_9: 0.081 - ETA: 2s - loss: 16.8352 - dense_7_loss: 2.6592 - dense_7_acc: 0.4654 - dense_7_acc_1: 0.6697 - dense_7_acc_2: 0.3158 - dense_7_acc_3: 0.0670 - dense_7_acc_4: 0.8893 - dense_7_acc_5: 0.3813 - dense_7_acc_6: 0.0610 - dense_7_acc_7: 0.9230 - dense_7_acc_8: 0.1963 - dense_7_acc_9: 0.082 - ETA: 2s - loss: 16.7662 - dense_7_loss: 2.6559 - dense_7_acc: 0.4709 - dense_7_acc_1: 0.6732 - dense_7_acc_2: 0.3174 - dense_7_acc_3: 0.0684 - dense_7_acc_4: 0.8905 - dense_7_acc_5: 0.3852 - dense_7_acc_6: 0.0619 - dense_7_acc_7: 0.9238 - dense_7_acc_8: 0.1974 - dense_7_acc_9: 0.082 - ETA: 2s - loss: 16.6980 - dense_7_loss: 2.6525 - dense_7_acc: 0.4758 - dense_7_acc_1: 0.6762 - dense_7_acc_2: 0.3195 - dense_7_acc_3: 0.0689 - dense_7_acc_4: 0.8917 - dense_7_acc_5: 0.3902 - dense_7_acc_6: 0.0627 - dense_7_acc_7: 0.9247 - dense_7_acc_8: 0.1999 - dense_7_acc_9: 0.082 - ETA: 1s - loss: 16.6293 - dense_7_loss: 2.6493 - dense_7_acc: 0.4808 - dense_7_acc_1: 0.6791 - dense_7_acc_2: 0.3224 - dense_7_acc_3: 0.0702 - dense_7_acc_4: 0.8929 - dense_7_acc_5: 0.3944 - dense_7_acc_6: 0.0646 - dense_7_acc_7: 0.9255 - dense_7_acc_8: 0.2016 - dense_7_acc_9: 0.082 - ETA: 1s - loss: 16.5604 - dense_7_loss: 2.6454 - dense_7_acc: 0.4855 - dense_7_acc_1: 0.6823 - dense_7_acc_2: 0.3241 - dense_7_acc_3: 0.0713 - dense_7_acc_4: 0.8940 - dense_7_acc_5: 0.3991 - dense_7_acc_6: 0.0665 - dense_7_acc_7: 0.9263 - dense_7_acc_8: 0.2036 - dense_7_acc_9: 0.083 - ETA: 1s - loss: 16.4962 - dense_7_loss: 2.6419 - dense_7_acc: 0.4902 - dense_7_acc_1: 0.6854 - dense_7_acc_2: 0.3260 - dense_7_acc_3: 0.0719 - dense_7_acc_4: 0.8952 - dense_7_acc_5: 0.4043 - dense_7_acc_6: 0.0680 - dense_7_acc_7: 0.9271 - dense_7_acc_8: 0.2048 - dense_7_acc_9: 0.084 - ETA: 1s - loss: 16.4310 - dense_7_loss: 2.6386 - dense_7_acc: 0.4952 - dense_7_acc_1: 0.6884 - dense_7_acc_2: 0.3270 - dense_7_acc_3: 0.0725 - dense_7_acc_4: 0.8963 - dense_7_acc_5: 0.4098 - dense_7_acc_6: 0.0695 - dense_7_acc_7: 0.9278 - dense_7_acc_8: 0.2064 - dense_7_acc_9: 0.084 - ETA: 0s - loss: 16.3664 - dense_7_loss: 2.6350 - dense_7_acc: 0.4999 - dense_7_acc_1: 0.6911 - dense_7_acc_2: 0.3286 - dense_7_acc_3: 0.0732 - dense_7_acc_4: 0.8973 - dense_7_acc_5: 0.4141 - dense_7_acc_6: 0.0707 - dense_7_acc_7: 0.9286 - dense_7_acc_8: 0.2080 - dense_7_acc_9: 0.084 - ETA: 0s - loss: 16.3019 - dense_7_loss: 2.6315 - dense_7_acc: 0.5047 - dense_7_acc_1: 0.6941 - dense_7_acc_2: 0.3316 - dense_7_acc_3: 0.0742 - dense_7_acc_4: 0.8984 - dense_7_acc_5: 0.4188 - dense_7_acc_6: 0.0723 - dense_7_acc_7: 0.9293 - dense_7_acc_8: 0.2092 - dense_7_acc_9: 0.085 - ETA: 0s - loss: 16.2427 - dense_7_loss: 2.6284 - dense_7_acc: 0.5087 - dense_7_acc_1: 0.6965 - dense_7_acc_2: 0.3329 - dense_7_acc_3: 0.0756 - dense_7_acc_4: 0.8994 - dense_7_acc_5: 0.4233 - dense_7_acc_6: 0.0736 - dense_7_acc_7: 0.9300 - dense_7_acc_8: 0.2108 - dense_7_acc_9: 0.085 - 26s 3ms/step - loss: 16.1837 - dense_7_loss: 2.6250 - dense_7_acc: 0.5127 - dense_7_acc_1: 0.6988 - dense_7_acc_2: 0.3343 - dense_7_acc_3: 0.0761 - dense_7_acc_4: 0.9004 - dense_7_acc_5: 0.4280 - dense_7_acc_6: 0.0744 - dense_7_acc_7: 0.9307 - dense_7_acc_8: 0.2120 - dense_7_acc_9: 0.0864\n"
     ]
    },
    {
     "data": {
      "text/plain": [
       "<keras.callbacks.History at 0x29274663ba8>"
      ]
     },
     "execution_count": 36,
     "metadata": {},
     "output_type": "execute_result"
    }
   ],
   "source": [
    "model.fit([Xoh, s0, c0], outputs, epochs=1, batch_size=100)"
   ]
  },
  {
   "cell_type": "markdown",
   "metadata": {},
   "source": [
    "While training you can see the loss as well as the accuracy on each of the 10 positions of the output. The table below gives you an example of what the accuracies could be if the batch had 2 examples: \n",
    "\n",
    "<img src=\"images/table.png\" style=\"width:700;height:200px;\"> <br>\n",
    "<caption><center>Thus, `dense_2_acc_8: 0.89` means that you are predicting the 7th character of the output correctly 89% of the time in the current batch of data. </center></caption>\n",
    "\n",
    "\n",
    "We have run this model for longer, and saved the weights. Run the next cell to load our weights. (By training a model for several minutes, you should be able to obtain a model of similar accuracy, but loading our model will save you time.) "
   ]
  },
  {
   "cell_type": "code",
   "execution_count": 37,
   "metadata": {},
   "outputs": [
    {
     "ename": "ValueError",
     "evalue": "You are trying to load a weight file containing 5 layers into a model with 4 layers.",
     "output_type": "error",
     "traceback": [
      "\u001b[0;31m---------------------------------------------------------------------------\u001b[0m",
      "\u001b[0;31mValueError\u001b[0m                                Traceback (most recent call last)",
      "\u001b[0;32m<ipython-input-37-8673501007ee>\u001b[0m in \u001b[0;36m<module>\u001b[0;34m()\u001b[0m\n\u001b[0;32m----> 1\u001b[0;31m \u001b[0mmodel\u001b[0m\u001b[1;33m.\u001b[0m\u001b[0mload_weights\u001b[0m\u001b[1;33m(\u001b[0m\u001b[1;34m'models/model.h5'\u001b[0m\u001b[1;33m)\u001b[0m\u001b[1;33m\u001b[0m\u001b[0m\n\u001b[0m",
      "\u001b[0;32mc:\\users\\weige\\appdata\\local\\programs\\python\\python35\\lib\\site-packages\\keras\\engine\\topology.py\u001b[0m in \u001b[0;36mload_weights\u001b[0;34m(self, filepath, by_name, skip_mismatch, reshape)\u001b[0m\n\u001b[1;32m   2654\u001b[0m             \u001b[1;32melse\u001b[0m\u001b[1;33m:\u001b[0m\u001b[1;33m\u001b[0m\u001b[0m\n\u001b[1;32m   2655\u001b[0m                 load_weights_from_hdf5_group(\n\u001b[0;32m-> 2656\u001b[0;31m                     f, self.layers, reshape=reshape)\n\u001b[0m\u001b[1;32m   2657\u001b[0m \u001b[1;33m\u001b[0m\u001b[0m\n\u001b[1;32m   2658\u001b[0m     \u001b[1;32mdef\u001b[0m \u001b[0m_updated_config\u001b[0m\u001b[1;33m(\u001b[0m\u001b[0mself\u001b[0m\u001b[1;33m)\u001b[0m\u001b[1;33m:\u001b[0m\u001b[1;33m\u001b[0m\u001b[0m\n",
      "\u001b[0;32mc:\\users\\weige\\appdata\\local\\programs\\python\\python35\\lib\\site-packages\\keras\\engine\\topology.py\u001b[0m in \u001b[0;36mload_weights_from_hdf5_group\u001b[0;34m(f, layers, reshape)\u001b[0m\n\u001b[1;32m   3352\u001b[0m                          \u001b[1;34m'containing '\u001b[0m \u001b[1;33m+\u001b[0m \u001b[0mstr\u001b[0m\u001b[1;33m(\u001b[0m\u001b[0mlen\u001b[0m\u001b[1;33m(\u001b[0m\u001b[0mlayer_names\u001b[0m\u001b[1;33m)\u001b[0m\u001b[1;33m)\u001b[0m \u001b[1;33m+\u001b[0m\u001b[1;33m\u001b[0m\u001b[0m\n\u001b[1;32m   3353\u001b[0m                          \u001b[1;34m' layers into a model with '\u001b[0m \u001b[1;33m+\u001b[0m\u001b[1;33m\u001b[0m\u001b[0m\n\u001b[0;32m-> 3354\u001b[0;31m                          str(len(filtered_layers)) + ' layers.')\n\u001b[0m\u001b[1;32m   3355\u001b[0m \u001b[1;33m\u001b[0m\u001b[0m\n\u001b[1;32m   3356\u001b[0m     \u001b[1;31m# We batch weight value assignments in a single backend call\u001b[0m\u001b[1;33m\u001b[0m\u001b[1;33m\u001b[0m\u001b[0m\n",
      "\u001b[0;31mValueError\u001b[0m: You are trying to load a weight file containing 5 layers into a model with 4 layers."
     ]
    }
   ],
   "source": [
    "model.load_weights('models/model.h5')"
   ]
  },
  {
   "cell_type": "markdown",
   "metadata": {},
   "source": [
    "You can now see the results on new examples."
   ]
  },
  {
   "cell_type": "code",
   "execution_count": null,
   "metadata": {
    "collapsed": true
   },
   "outputs": [],
   "source": [
    "EXAMPLES = ['3 May 1979', '5 April 09', '21th of August 2016', 'Tue 10 Jul 2007', 'Saturday May 9 2018', 'March 3 2001', 'March 3rd 2001', '1 March 2001']\n",
    "for example in EXAMPLES:\n",
    "    \n",
    "    source = string_to_int(example, Tx, human_vocab)\n",
    "    source = np.array(list(map(lambda x: to_categorical(x, num_classes=len(human_vocab)), source))).swapaxes(0,1)\n",
    "    prediction = model.predict([source, s0, c0])\n",
    "    prediction = np.argmax(prediction, axis = -1)\n",
    "    output = [inv_machine_vocab[int(i)] for i in prediction]\n",
    "    \n",
    "    print(\"source:\", example)\n",
    "    print(\"output:\", ''.join(output))"
   ]
  },
  {
   "cell_type": "markdown",
   "metadata": {},
   "source": [
    "You can also change these examples to test with your own examples. The next part will give you a better sense on what the attention mechanism is doing--i.e., what part of the input the network is paying attention to when generating a particular output character. "
   ]
  },
  {
   "cell_type": "markdown",
   "metadata": {},
   "source": [
    "## 3 - Visualizing Attention (Optional / Ungraded)\n",
    "\n",
    "Since the problem has a fixed output length of 10, it is also possible to carry out this task using 10 different softmax units to generate the 10 characters of the output. But one advantage of the attention model is that each part of the output (say the month) knows it needs to depend only on a small part of the input (the characters in the input giving the month). We can  visualize what part of the output is looking at what part of the input.\n",
    "\n",
    "Consider the task of translating \"Saturday 9 May 2018\" to \"2018-05-09\". If we visualize the computed $\\alpha^{\\langle t, t' \\rangle}$ we get this: \n",
    "\n",
    "<img src=\"images/date_attention.png\" style=\"width:600;height:300px;\"> <br>\n",
    "<caption><center> **Figure 8**: Full Attention Map</center></caption>\n",
    "\n",
    "Notice how the output ignores the \"Saturday\" portion of the input. None of the output timesteps are paying much attention to that portion of the input. We see also that 9 has been translated as 09 and May has been correctly translated into 05, with the output paying attention to the parts of the input it needs to to make the translation. The year mostly requires it to pay attention to the input's \"18\" in order to generate \"2018.\" \n",
    "\n"
   ]
  },
  {
   "cell_type": "markdown",
   "metadata": {},
   "source": [
    "### 3.1 - Getting the activations from the network\n",
    "\n",
    "Lets now visualize the attention values in your network. We'll propagate an example through the network, then visualize the values of $\\alpha^{\\langle t, t' \\rangle}$. \n",
    "\n",
    "To figure out where the attention values are located, let's start by printing a summary of the model ."
   ]
  },
  {
   "cell_type": "code",
   "execution_count": null,
   "metadata": {
    "collapsed": true
   },
   "outputs": [],
   "source": [
    "model.summary()"
   ]
  },
  {
   "cell_type": "markdown",
   "metadata": {},
   "source": [
    "Navigate through the output of `model.summary()` above. You can see that the layer named `attention_weights` outputs the `alphas` of shape (m, 30, 1) before `dot_2` computes the context vector for every time step $t = 0, \\ldots, T_y-1$. Lets get the activations from this layer.\n",
    "\n",
    "The function `attention_map()` pulls out the attention values from your model and plots them."
   ]
  },
  {
   "cell_type": "code",
   "execution_count": null,
   "metadata": {
    "collapsed": true,
    "scrolled": false
   },
   "outputs": [],
   "source": [
    "attention_map = plot_attention_map(model, human_vocab, inv_machine_vocab, \"Tuesday 09 Oct 1993\", num = 7, n_s = 64)"
   ]
  },
  {
   "cell_type": "markdown",
   "metadata": {},
   "source": [
    "On the generated plot you can observe the values of the attention weights for each character of the predicted output. Examine this plot and check that where the network is paying attention makes sense to you.\n",
    "\n",
    "In the date translation application, you will observe that most of the time attention helps predict the year, and hasn't much impact on predicting the day/month."
   ]
  },
  {
   "cell_type": "markdown",
   "metadata": {},
   "source": [
    "### Congratulations!\n",
    "\n",
    "\n",
    "You have come to the end of this assignment \n",
    "\n",
    "<font color='blue'> **Here's what you should remember from this notebook**:\n",
    "\n",
    "- Machine translation models can be used to map from one sequence to another. They are useful not just for translating human languages (like French->English) but also for tasks like date format translation. \n",
    "- An attention mechanism allows a network to focus on the most relevant parts of the input when producing a specific part of the output. \n",
    "- A network using an attention mechanism can translate from inputs of length $T_x$ to outputs of length $T_y$, where $T_x$ and $T_y$ can be different. \n",
    "- You can visualize attention weights $\\alpha^{\\langle t,t' \\rangle}$ to see what the network is paying attention to while generating each output."
   ]
  },
  {
   "cell_type": "markdown",
   "metadata": {},
   "source": [
    "Congratulations on finishing this assignment! You are now able to implement an attention model and use it to learn complex mappings from one sequence to another. "
   ]
  }
 ],
 "metadata": {
  "coursera": {
   "course_slug": "nlp-sequence-models",
   "graded_item_id": "n16CQ",
   "launcher_item_id": "npjGi"
  },
  "kernelspec": {
   "display_name": "Python 3",
   "language": "python",
   "name": "python3"
  },
  "language_info": {
   "codemirror_mode": {
    "name": "ipython",
    "version": 3
   },
   "file_extension": ".py",
   "mimetype": "text/x-python",
   "name": "python",
   "nbconvert_exporter": "python",
   "pygments_lexer": "ipython3",
   "version": "3.5.1"
  }
 },
 "nbformat": 4,
 "nbformat_minor": 2
}
