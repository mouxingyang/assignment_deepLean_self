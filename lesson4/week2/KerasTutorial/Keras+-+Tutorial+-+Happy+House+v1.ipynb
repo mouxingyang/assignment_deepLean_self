{
 "cells": [
  {
   "cell_type": "markdown",
   "metadata": {},
   "source": [
    "# Keras tutorial - the Happy House\n",
    "\n",
    "Welcome to the first assignment of week 2. In this assignment, you will:\n",
    "1. Learn to use Keras, a high-level neural networks API (programming framework), written in Python and capable of running on top of several lower-level frameworks including TensorFlow and CNTK. \n",
    "2. See how you can in a couple of hours build a deep learning algorithm.\n",
    "\n",
    "Why are we using Keras? Keras was developed to enable deep learning engineers to build and experiment with different models very quickly. Just as TensorFlow is a higher-level framework than Python, Keras is an even higher-level framework and provides additional abstractions. Being able to go from idea to result with the least possible delay is key to finding good models. However, Keras is more restrictive than the lower-level frameworks, so there are some very complex models that you can implement in TensorFlow but not (without more difficulty) in Keras. That being said, Keras will work fine for many common models. \n",
    "\n",
    "In this exercise, you'll work on the \"Happy House\" problem, which we'll explain below. Let's load the required packages and solve the problem of the Happy House!"
   ]
  },
  {
   "cell_type": "code",
   "execution_count": 1,
   "metadata": {},
   "outputs": [
    {
     "name": "stderr",
     "output_type": "stream",
     "text": [
      "c:\\users\\weige\\appdata\\local\\programs\\python\\python35\\lib\\site-packages\\h5py\\__init__.py:36: FutureWarning: Conversion of the second argument of issubdtype from `float` to `np.floating` is deprecated. In future, it will be treated as `np.float64 == np.dtype(float).type`.\n",
      "  from ._conv import register_converters as _register_converters\n",
      "Using TensorFlow backend.\n"
     ]
    }
   ],
   "source": [
    "import numpy as np\n",
    "#import tensorflow as tf\n",
    "from keras import layers\n",
    "from keras.layers import Input, Dense, Activation, ZeroPadding2D, BatchNormalization, Flatten, Conv2D\n",
    "from keras.layers import AveragePooling2D, MaxPooling2D, Dropout, GlobalMaxPooling2D, GlobalAveragePooling2D\n",
    "from keras.models import Model\n",
    "from keras.preprocessing import image\n",
    "from keras.utils import layer_utils\n",
    "from keras.utils.data_utils import get_file\n",
    "from keras.applications.imagenet_utils import preprocess_input\n",
    "import pydot\n",
    "from IPython.display import SVG\n",
    "from keras.utils.vis_utils import model_to_dot\n",
    "from keras.utils import plot_model\n",
    "from kt_utils import *\n",
    "\n",
    "import keras.backend as K\n",
    "K.set_image_data_format('channels_last')\n",
    "import matplotlib.pyplot as plt\n",
    "from matplotlib.pyplot import imshow\n",
    "\n",
    "%matplotlib inline"
   ]
  },
  {
   "cell_type": "markdown",
   "metadata": {},
   "source": [
    "**Note**: As you can see, we've imported a lot of functions from Keras. You can use them easily just by calling them directly in the notebook. Ex: `X = Input(...)` or `X = ZeroPadding2D(...)`."
   ]
  },
  {
   "cell_type": "markdown",
   "metadata": {},
   "source": [
    "## 1 - The Happy House \n",
    "\n",
    "For your next vacation, you decided to spend a week with five of your friends from school. It is a very convenient house with many things to do nearby. But the most important benefit is that everybody has commited to be happy when they are in the house. So anyone wanting to enter the house must prove their current state of happiness.\n",
    "\n",
    "<img src=\"images/happy-house.jpg\" style=\"width:350px;height:270px;\">\n",
    "<caption><center> <u> <font color='purple'> **Figure 1** </u><font color='purple'>  : **the Happy House**</center></caption>\n",
    "\n",
    "\n",
    "As a deep learning expert, to make sure the \"Happy\" rule is strictly applied, you are going to build an algorithm which that uses pictures from the front door camera to check if the person is happy or not. The door should open only if the person is happy. \n",
    "\n",
    "You have gathered pictures of your friends and yourself, taken by the front-door camera. The dataset is labbeled. \n",
    "\n",
    "<img src=\"images/house-members.png\" style=\"width:550px;height:250px;\">\n",
    "\n",
    "Run the following code to normalize the dataset and learn about its shapes."
   ]
  },
  {
   "cell_type": "code",
   "execution_count": 2,
   "metadata": {},
   "outputs": [
    {
     "name": "stdout",
     "output_type": "stream",
     "text": [
      "number of training examples = 600\n",
      "number of test examples = 150\n",
      "X_train shape: (600, 64, 64, 3)\n",
      "Y_train shape: (600, 1)\n",
      "X_test shape: (150, 64, 64, 3)\n",
      "Y_test shape: (150, 1)\n"
     ]
    }
   ],
   "source": [
    "X_train_orig, Y_train_orig, X_test_orig, Y_test_orig, classes = load_dataset()\n",
    "\n",
    "# Normalize image vectors\n",
    "X_train = X_train_orig/255.\n",
    "X_test = X_test_orig/255.\n",
    "\n",
    "# Reshape\n",
    "Y_train = Y_train_orig.T\n",
    "Y_test = Y_test_orig.T\n",
    "\n",
    "print (\"number of training examples = \" + str(X_train.shape[0]))\n",
    "print (\"number of test examples = \" + str(X_test.shape[0]))\n",
    "print (\"X_train shape: \" + str(X_train.shape))\n",
    "print (\"Y_train shape: \" + str(Y_train.shape))\n",
    "print (\"X_test shape: \" + str(X_test.shape))\n",
    "print (\"Y_test shape: \" + str(Y_test.shape))"
   ]
  },
  {
   "cell_type": "markdown",
   "metadata": {},
   "source": [
    "**Details of the \"Happy\" dataset**:\n",
    "- Images are of shape (64,64,3)\n",
    "- Training: 600 pictures\n",
    "- Test: 150 pictures\n",
    "\n",
    "It is now time to solve the \"Happy\" Challenge."
   ]
  },
  {
   "cell_type": "markdown",
   "metadata": {},
   "source": [
    "## 2 - Building a model in Keras\n",
    "\n",
    "Keras is very good for rapid prototyping. In just a short time you will be able to build a model that achieves outstanding results.\n",
    "\n",
    "Here is an example of a model in Keras:\n",
    "\n",
    "```python\n",
    "def model(input_shape):\n",
    "    # Define the input placeholder as a tensor with shape input_shape. Think of this as your input image!\n",
    "    X_input = Input(input_shape)\n",
    "\n",
    "    # Zero-Padding: pads the border of X_input with zeroes\n",
    "    X = ZeroPadding2D((3, 3))(X_input)\n",
    "\n",
    "    # CONV -> BN -> RELU Block applied to X\n",
    "    X = Conv2D(32, (7, 7), strides = (1, 1), name = 'conv0')(X)\n",
    "    X = BatchNormalization(axis = 3, name = 'bn0')(X)\n",
    "    X = Activation('relu')(X)\n",
    "\n",
    "    # MAXPOOL\n",
    "    X = MaxPooling2D((2, 2), name='max_pool')(X)\n",
    "\n",
    "    # FLATTEN X (means convert it to a vector) + FULLYCONNECTED\n",
    "    X = Flatten()(X)\n",
    "    X = Dense(1, activation='sigmoid', name='fc')(X)\n",
    "\n",
    "    # Create model. This creates your Keras model instance, you'll use this instance to train/test the model.\n",
    "    model = Model(inputs = X_input, outputs = X, name='HappyModel')\n",
    "    \n",
    "    return model\n",
    "```\n",
    "\n",
    "Note that Keras uses a different convention with variable names than we've previously used with numpy and TensorFlow. In particular, rather than creating and assigning a new variable on each step of forward propagation such as `X`, `Z1`, `A1`, `Z2`, `A2`, etc. for the computations for the different layers, in Keras code each line above just reassigns `X` to a new value using `X = ...`. In other words, during each step of forward propagation, we are just writing the latest value in the commputation into the same variable `X`. The only exception was `X_input`, which we kept separate and did not overwrite, since we needed it at the end to create the Keras model instance (`model = Model(inputs = X_input, ...)` above). \n",
    "\n",
    "**Exercise**: Implement a `HappyModel()`. This assignment is more open-ended than most. We suggest that you start by implementing a model using the architecture we suggest, and run through the rest of this assignment using that as your initial model. But after that, come back and take initiative to try out other model architectures. For example, you might take inspiration from the model above, but then vary the network architecture and hyperparameters however you wish. You can also use other functions such as `AveragePooling2D()`, `GlobalMaxPooling2D()`, `Dropout()`. \n",
    "\n",
    "**Note**: You have to be careful with your data's shapes. Use what you've learned in the videos to make sure your convolutional, pooling and fully-connected layers are adapted to the volumes you're applying it to."
   ]
  },
  {
   "cell_type": "code",
   "execution_count": 3,
   "metadata": {},
   "outputs": [],
   "source": [
    "# GRADED FUNCTION: HappyModel\n",
    "\n",
    "def HappyModel(input_shape):\n",
    "    \"\"\"\n",
    "    Implementation of the HappyModel.\n",
    "    \n",
    "    Arguments:\n",
    "    input_shape -- shape of the images of the dataset\n",
    "\n",
    "    Returns:\n",
    "    model -- a Model() instance in Keras\n",
    "    \"\"\"\n",
    "    \n",
    "    ### START CODE HERE ###\n",
    "    # Feel free to use the suggested outline in the text above to get started, and run through the whole\n",
    "    # exercise (including the later portions of this notebook) once. The come back also try out other\n",
    "    # network architectures as well. \n",
    "    X_input = Input(shape=input_shape)\n",
    "    X = ZeroPadding2D(padding=(1, 1))(X_input)\n",
    "    X = Conv2D(8, kernel_size=(3,3), strides=(1,1))(X)\n",
    "    X = BatchNormalization(axis=3)(X)\n",
    "    X = Activation('relu')(X)\n",
    "    X = MaxPooling2D(pool_size=(2,2), strides=(2,2), padding='valid')(X)\n",
    "    \n",
    "    X = ZeroPadding2D(padding=(1, 1))(X)\n",
    "    X = Conv2D(16, kernel_size=(3,3), strides=(1,1))(X)\n",
    "    X = BatchNormalization(axis=3)(X)\n",
    "    X = Activation('relu')(X)\n",
    "    X = MaxPooling2D(pool_size=(2,2), strides=(2,2), padding='valid')(X)\n",
    "    \n",
    "    X = ZeroPadding2D(padding=(1, 1))(X)\n",
    "    X = Conv2D(32, kernel_size=(3,3), strides=(1,1))(X)\n",
    "    X = BatchNormalization(axis=3)(X)\n",
    "    X = Activation('relu')(X)\n",
    "    X = MaxPooling2D(pool_size=(2,2), strides=(2,2), padding='valid')(X)\n",
    "    \n",
    "    # FC\n",
    "    X = Flatten()(X)\n",
    "    Y = Dense(1, activation='sigmoid')(X)\n",
    "    \n",
    "    model = Model(inputs = X_input, outputs = Y, name='HappyModel')\n",
    "    ### END CODE HERE ###\n",
    "    \n",
    "    return model"
   ]
  },
  {
   "cell_type": "markdown",
   "metadata": {},
   "source": [
    "You have now built a function to describe your model. To train and test this model, there are four steps in Keras:\n",
    "1. Create the model by calling the function above\n",
    "2. Compile the model by calling `model.compile(optimizer = \"...\", loss = \"...\", metrics = [\"accuracy\"])`\n",
    "3. Train the model on train data by calling `model.fit(x = ..., y = ..., epochs = ..., batch_size = ...)`\n",
    "4. Test the model on test data by calling `model.evaluate(x = ..., y = ...)`\n",
    "\n",
    "If you want to know more about `model.compile()`, `model.fit()`, `model.evaluate()` and their arguments, refer to the official [Keras documentation](https://keras.io/models/model/).\n",
    "\n",
    "**Exercise**: Implement step 1, i.e. create the model."
   ]
  },
  {
   "cell_type": "code",
   "execution_count": 4,
   "metadata": {},
   "outputs": [],
   "source": [
    "### START CODE HERE ### (1 line)\n",
    "happyModel = HappyModel((64, 64, 3))\n",
    "### END CODE HERE ###"
   ]
  },
  {
   "cell_type": "markdown",
   "metadata": {},
   "source": [
    "**Exercise**: Implement step 2, i.e. compile the model to configure the learning process. Choose the 3 arguments of `compile()` wisely. Hint: the Happy Challenge is a binary classification problem."
   ]
  },
  {
   "cell_type": "code",
   "execution_count": 5,
   "metadata": {},
   "outputs": [],
   "source": [
    "### START CODE HERE ### (1 line)\n",
    "import keras\n",
    "happyModel.compile(optimizer=keras.optimizers.Adam(lr=0.001, beta_1=0.9, beta_2=0.999, epsilon=1e-08, decay=0.0), loss='binary_crossentropy', metrics=['accuracy'])\n",
    "### END CODE HERE ###"
   ]
  },
  {
   "cell_type": "markdown",
   "metadata": {},
   "source": [
    "**Exercise**: Implement step 3, i.e. train the model. Choose the number of epochs and the batch size."
   ]
  },
  {
   "cell_type": "code",
   "execution_count": 6,
   "metadata": {},
   "outputs": [
    {
     "name": "stdout",
     "output_type": "stream",
     "text": [
      "Epoch 1/5\n",
      "600/600 [==============================] - 11s 18ms/step - loss: 0.4862 - acc: 0.7500\n",
      "Epoch 2/5\n",
      "600/600 [==============================] - 10s 17ms/step - loss: 0.2217 - acc: 0.9383\n",
      "Epoch 3/5\n",
      "600/600 [==============================] - 10s 17ms/step - loss: 0.1606 - acc: 0.9483\n",
      "Epoch 4/5\n",
      "600/600 [==============================] - 10s 17ms/step - loss: 0.0999 - acc: 0.9867\n",
      "Epoch 5/5\n",
      "600/600 [==============================] - 10s 17ms/step - loss: 0.0717 - acc: 0.9867\n"
     ]
    },
    {
     "data": {
      "text/plain": [
       "<keras.callbacks.History at 0x29a41cc34a8>"
      ]
     },
     "execution_count": 6,
     "metadata": {},
     "output_type": "execute_result"
    }
   ],
   "source": [
    "### START CODE HERE ### (1 line)\n",
    "happyModel.fit(x=X_train, y=Y_train, batch_size=16, epochs=5)\n",
    "### END CODE HERE ###"
   ]
  },
  {
   "cell_type": "markdown",
   "metadata": {},
   "source": [
    "Note that if you run `fit()` again, the `model` will continue to train with the parameters it has already learnt instead of reinitializing them.\n",
    "\n",
    "**Exercise**: Implement step 4, i.e. test/evaluate the model."
   ]
  },
  {
   "cell_type": "code",
   "execution_count": 7,
   "metadata": {
    "scrolled": true
   },
   "outputs": [
    {
     "name": "stdout",
     "output_type": "stream",
     "text": [
      "150/150 [==============================] - 1s 8ms/step\n",
      "\n",
      "Loss = 0.14930234491825103\n",
      "Test Accuracy = 0.9599999976158142\n"
     ]
    }
   ],
   "source": [
    "### START CODE HERE ### (1 line)\n",
    "preds = happyModel.evaluate(x=X_test, y=Y_test)\n",
    "### END CODE HERE ###\n",
    "print()\n",
    "print (\"Loss = \" + str(preds[0]))\n",
    "print (\"Test Accuracy = \" + str(preds[1]))"
   ]
  },
  {
   "cell_type": "markdown",
   "metadata": {},
   "source": [
    "If your `happyModel()` function worked, you should have observed much better than random-guessing (50%) accuracy on the train and test sets. To pass this assignment, you have to get at least 75% accuracy. \n",
    "\n",
    "To give you a point of comparison, our model gets around **95% test accuracy in 40 epochs** (and 99% train accuracy) with a mini batch size of 16 and \"adam\" optimizer. But our model gets decent accuracy after just 2-5 epochs, so if you're comparing different models you can also train a variety of models on just a few epochs and see how they compare. \n",
    "\n",
    "If you have not yet achieved 75% accuracy, here're some things you can play around with to try to achieve it:\n",
    "\n",
    "- Try using blocks of CONV->BATCHNORM->RELU such as:\n",
    "```python\n",
    "X = Conv2D(32, (3, 3), strides = (1, 1), name = 'conv0')(X)\n",
    "X = BatchNormalization(axis = 3, name = 'bn0')(X)\n",
    "X = Activation('relu')(X)\n",
    "```\n",
    "until your height and width dimensions are quite low and your number of channels quite large (≈32 for example). You are encoding useful information in a volume with a lot of channels. You can then flatten the volume and use a fully-connected layer.\n",
    "- You can use MAXPOOL after such blocks. It will help you lower the dimension in height and width.\n",
    "- Change your optimizer. We find Adam works well. \n",
    "- If the model is struggling to run and you get memory issues, lower your batch_size (12 is usually a good compromise)\n",
    "- Run on more epochs, until you see the train accuracy plateauing. \n",
    "\n",
    "Even if you have achieved 75% accuracy, please feel free to keep playing with your model to try to get even better results. \n",
    "\n",
    "**Note**: If you perform hyperparameter tuning on your model, the test set actually becomes a dev set, and your model might end up overfitting to the test (dev) set. But just for the purpose of this assignment, we won't worry about that here.\n"
   ]
  },
  {
   "cell_type": "markdown",
   "metadata": {},
   "source": [
    "## 3 - Conclusion\n",
    "\n",
    "Congratulations, you have solved the Happy House challenge! \n",
    "\n",
    "Now, you just need to link this model to the front-door camera of your house. We unfortunately won't go into the details of how to do that here. "
   ]
  },
  {
   "cell_type": "markdown",
   "metadata": {},
   "source": [
    "<font color='blue'>\n",
    "**What we would like you to remember from this assignment:**\n",
    "- Keras is a tool we recommend for rapid prototyping. It allows you to quickly try out different model architectures. Are there any applications of deep learning to your daily life that you'd like to implement using Keras? \n",
    "- Remember how to code a model in Keras and the four steps leading to the evaluation of your model on the test set. Create->Compile->Fit/Train->Evaluate/Test."
   ]
  },
  {
   "cell_type": "markdown",
   "metadata": {},
   "source": [
    "## 4 - Test with your own image (Optional)\n",
    "\n",
    "Congratulations on finishing this assignment. You can now take a picture of your face and see if you could enter the Happy House. To do that:\n",
    "    1. Click on \"File\" in the upper bar of this notebook, then click \"Open\" to go on your Coursera Hub.\n",
    "    2. Add your image to this Jupyter Notebook's directory, in the \"images\" folder\n",
    "    3. Write your image's name in the following code\n",
    "    4. Run the code and check if the algorithm is right (0 is unhappy, 1 is happy)!\n",
    "    \n",
    "The training/test sets were quite similar; for example, all the pictures were taken against the same background (since a front door camera is always mounted in the same position). This makes the problem easier, but a model trained on this data may or may not work on your own data. But feel free to give it a try! "
   ]
  },
  {
   "cell_type": "code",
   "execution_count": 8,
   "metadata": {},
   "outputs": [
    {
     "name": "stdout",
     "output_type": "stream",
     "text": [
      "[[1.]]\n"
     ]
    },
    {
     "data": {
      "image/png": "[encoded data removed]",
      "text/plain": [
       "<matplotlib.figure.Figure at 0x29a48a081d0>"
      ]
     },
     "metadata": {},
     "output_type": "display_data"
    }
   ],
   "source": [
    "### START CODE HERE ###\n",
    "img_path = 'images/my_image.jpg'\n",
    "### END CODE HERE ###\n",
    "img = image.load_img(img_path, target_size=(64, 64))\n",
    "imshow(img)\n",
    "\n",
    "x = image.img_to_array(img)\n",
    "x = np.expand_dims(x, axis=0)\n",
    "x = preprocess_input(x)\n",
    "\n",
    "print(happyModel.predict(x))"
   ]
  },
  {
   "cell_type": "markdown",
   "metadata": {},
   "source": [
    "## 5 - Other useful functions in Keras (Optional)\n",
    "\n",
    "Two other basic features of Keras that you'll find useful are:\n",
    "- `model.summary()`: prints the details of your layers in a table with the sizes of its inputs/outputs\n",
    "- `plot_model()`: plots your graph in a nice layout. You can even save it as \".png\" using SVG() if you'd like to share it on social media ;). It is saved in \"File\" then \"Open...\" in the upper bar of the notebook.\n",
    "\n",
    "Run the following code."
   ]
  },
  {
   "cell_type": "code",
   "execution_count": 9,
   "metadata": {
    "scrolled": false
   },
   "outputs": [
    {
     "name": "stdout",
     "output_type": "stream",
     "text": [
      "_________________________________________________________________\n",
      "Layer (type)                 Output Shape              Param #   \n",
      "=================================================================\n",
      "input_1 (InputLayer)         (None, 64, 64, 3)         0         \n",
      "_________________________________________________________________\n",
      "zero_padding2d_1 (ZeroPaddin (None, 66, 66, 3)         0         \n",
      "_________________________________________________________________\n",
      "conv2d_1 (Conv2D)            (None, 64, 64, 8)         224       \n",
      "_________________________________________________________________\n",
      "batch_normalization_1 (Batch (None, 64, 64, 8)         32        \n",
      "_________________________________________________________________\n",
      "activation_1 (Activation)    (None, 64, 64, 8)         0         \n",
      "_________________________________________________________________\n",
      "max_pooling2d_1 (MaxPooling2 (None, 32, 32, 8)         0         \n",
      "_________________________________________________________________\n",
      "zero_padding2d_2 (ZeroPaddin (None, 34, 34, 8)         0         \n",
      "_________________________________________________________________\n",
      "conv2d_2 (Conv2D)            (None, 32, 32, 16)        1168      \n",
      "_________________________________________________________________\n",
      "batch_normalization_2 (Batch (None, 32, 32, 16)        64        \n",
      "_________________________________________________________________\n",
      "activation_2 (Activation)    (None, 32, 32, 16)        0         \n",
      "_________________________________________________________________\n",
      "max_pooling2d_2 (MaxPooling2 (None, 16, 16, 16)        0         \n",
      "_________________________________________________________________\n",
      "zero_padding2d_3 (ZeroPaddin (None, 18, 18, 16)        0         \n",
      "_________________________________________________________________\n",
      "conv2d_3 (Conv2D)            (None, 16, 16, 32)        4640      \n",
      "_________________________________________________________________\n",
      "batch_normalization_3 (Batch (None, 16, 16, 32)        128       \n",
      "_________________________________________________________________\n",
      "activation_3 (Activation)    (None, 16, 16, 32)        0         \n",
      "_________________________________________________________________\n",
      "max_pooling2d_3 (MaxPooling2 (None, 8, 8, 32)          0         \n",
      "_________________________________________________________________\n",
      "flatten_1 (Flatten)          (None, 2048)              0         \n",
      "_________________________________________________________________\n",
      "dense_1 (Dense)              (None, 1)                 2049      \n",
      "=================================================================\n",
      "Total params: 8,305\n",
      "Trainable params: 8,193\n",
      "Non-trainable params: 112\n",
      "_________________________________________________________________\n"
     ]
    }
   ],
   "source": [
    "happyModel.summary()"
   ]
  },
  {
   "cell_type": "code",
   "execution_count": 10,
   "metadata": {
    "scrolled": true
   },
   "outputs": [
    {
     "data": {
      "image/svg+xml": [
       "<svg height=\"1286pt\" viewBox=\"0.00 0.00 268.00 1286.00\" width=\"268pt\" xmlns=\"http://www.w3.org/2000/svg\" xmlns:xlink=\"http://www.w3.org/1999/xlink\">\n",
       "<g class=\"graph\" id=\"graph0\" transform=\"scale(1 1) rotate(0) translate(4 1282)\">\n",
       "<title>G</title>\n",
       "<polygon fill=\"white\" points=\"-4,4 -4,-1282 264,-1282 264,4 -4,4\" stroke=\"none\"/>\n",
       "<!-- 2861552121280 -->\n",
       "<g class=\"node\" id=\"node1\"><title>2861552121280</title>\n",
       "<polygon fill=\"none\" points=\"67,-1241.5 67,-1277.5 193,-1277.5 193,-1241.5 67,-1241.5\" stroke=\"black\"/>\n",
       "<text font-family=\"Times New Roman,serif\" font-size=\"14.00\" text-anchor=\"middle\" x=\"130\" y=\"-1255.8\">input_1: InputLayer</text>\n",
       "</g>\n",
       "<!-- 2861552121392 -->\n",
       "<g class=\"node\" id=\"node2\"><title>2861552121392</title>\n",
       "<polygon fill=\"none\" points=\"21.5,-1168.5 21.5,-1204.5 238.5,-1204.5 238.5,-1168.5 21.5,-1168.5\" stroke=\"black\"/>\n",
       "<text font-family=\"Times New Roman,serif\" font-size=\"14.00\" text-anchor=\"middle\" x=\"130\" y=\"-1182.8\">zero_padding2d_1: ZeroPadding2D</text>\n",
       "</g>\n",
       "<!-- 2861552121280&#45;&gt;2861552121392 -->\n",
       "<g class=\"edge\" id=\"edge1\"><title>2861552121280-&gt;2861552121392</title>\n",
       "<path d=\"M130,-1241.31C130,-1233.29 130,-1223.55 130,-1214.57\" fill=\"none\" stroke=\"black\"/>\n",
       "<polygon fill=\"black\" points=\"133.5,-1214.53 130,-1204.53 126.5,-1214.53 133.5,-1214.53\" stroke=\"black\"/>\n",
       "</g>\n",
       "<!-- 2861552121728 -->\n",
       "<g class=\"node\" id=\"node3\"><title>2861552121728</title>\n",
       "<polygon fill=\"none\" points=\"66.5,-1095.5 66.5,-1131.5 193.5,-1131.5 193.5,-1095.5 66.5,-1095.5\" stroke=\"black\"/>\n",
       "<text font-family=\"Times New Roman,serif\" font-size=\"14.00\" text-anchor=\"middle\" x=\"130\" y=\"-1109.8\">conv2d_1: Conv2D</text>\n",
       "</g>\n",
       "<!-- 2861552121392&#45;&gt;2861552121728 -->\n",
       "<g class=\"edge\" id=\"edge2\"><title>2861552121392-&gt;2861552121728</title>\n",
       "<path d=\"M130,-1168.31C130,-1160.29 130,-1150.55 130,-1141.57\" fill=\"none\" stroke=\"black\"/>\n",
       "<polygon fill=\"black\" points=\"133.5,-1141.53 130,-1131.53 126.5,-1141.53 133.5,-1141.53\" stroke=\"black\"/>\n",
       "</g>\n",
       "<!-- 2861552122680 -->\n",
       "<g class=\"node\" id=\"node4\"><title>2861552122680</title>\n",
       "<polygon fill=\"none\" points=\"0,-1022.5 0,-1058.5 260,-1058.5 260,-1022.5 0,-1022.5\" stroke=\"black\"/>\n",
       "<text font-family=\"Times New Roman,serif\" font-size=\"14.00\" text-anchor=\"middle\" x=\"130\" y=\"-1036.8\">batch_normalization_1: BatchNormalization</text>\n",
       "</g>\n",
       "<!-- 2861552121728&#45;&gt;2861552122680 -->\n",
       "<g class=\"edge\" id=\"edge3\"><title>2861552121728-&gt;2861552122680</title>\n",
       "<path d=\"M130,-1095.31C130,-1087.29 130,-1077.55 130,-1068.57\" fill=\"none\" stroke=\"black\"/>\n",
       "<polygon fill=\"black\" points=\"133.5,-1068.53 130,-1058.53 126.5,-1068.53 133.5,-1068.53\" stroke=\"black\"/>\n",
       "</g>\n",
       "<!-- 2861552000640 -->\n",
       "<g class=\"node\" id=\"node5\"><title>2861552000640</title>\n",
       "<polygon fill=\"none\" points=\"56,-949.5 56,-985.5 204,-985.5 204,-949.5 56,-949.5\" stroke=\"black\"/>\n",
       "<text font-family=\"Times New Roman,serif\" font-size=\"14.00\" text-anchor=\"middle\" x=\"130\" y=\"-963.8\">activation_1: Activation</text>\n",
       "</g>\n",
       "<!-- 2861552122680&#45;&gt;2861552000640 -->\n",
       "<g class=\"edge\" id=\"edge4\"><title>2861552122680-&gt;2861552000640</title>\n",
       "<path d=\"M130,-1022.31C130,-1014.29 130,-1004.55 130,-995.569\" fill=\"none\" stroke=\"black\"/>\n",
       "<polygon fill=\"black\" points=\"133.5,-995.529 130,-985.529 126.5,-995.529 133.5,-995.529\" stroke=\"black\"/>\n",
       "</g>\n",
       "<!-- 2861551999520 -->\n",
       "<g class=\"node\" id=\"node6\"><title>2861551999520</title>\n",
       "<polygon fill=\"none\" points=\"25.5,-876.5 25.5,-912.5 234.5,-912.5 234.5,-876.5 25.5,-876.5\" stroke=\"black\"/>\n",
       "<text font-family=\"Times New Roman,serif\" font-size=\"14.00\" text-anchor=\"middle\" x=\"130\" y=\"-890.8\">max_pooling2d_1: MaxPooling2D</text>\n",
       "</g>\n",
       "<!-- 2861552000640&#45;&gt;2861551999520 -->\n",
       "<g class=\"edge\" id=\"edge5\"><title>2861552000640-&gt;2861551999520</title>\n",
       "<path d=\"M130,-949.313C130,-941.289 130,-931.547 130,-922.569\" fill=\"none\" stroke=\"black\"/>\n",
       "<polygon fill=\"black\" points=\"133.5,-922.529 130,-912.529 126.5,-922.529 133.5,-922.529\" stroke=\"black\"/>\n",
       "</g>\n",
       "<!-- 2861552648992 -->\n",
       "<g class=\"node\" id=\"node7\"><title>2861552648992</title>\n",
       "<polygon fill=\"none\" points=\"21.5,-803.5 21.5,-839.5 238.5,-839.5 238.5,-803.5 21.5,-803.5\" stroke=\"black\"/>\n",
       "<text font-family=\"Times New Roman,serif\" font-size=\"14.00\" text-anchor=\"middle\" x=\"130\" y=\"-817.8\">zero_padding2d_2: ZeroPadding2D</text>\n",
       "</g>\n",
       "<!-- 2861551999520&#45;&gt;2861552648992 -->\n",
       "<g class=\"edge\" id=\"edge6\"><title>2861551999520-&gt;2861552648992</title>\n",
       "<path d=\"M130,-876.313C130,-868.289 130,-858.547 130,-849.569\" fill=\"none\" stroke=\"black\"/>\n",
       "<polygon fill=\"black\" points=\"133.5,-849.529 130,-839.529 126.5,-849.529 133.5,-849.529\" stroke=\"black\"/>\n",
       "</g>\n",
       "<!-- 2861553034296 -->\n",
       "<g class=\"node\" id=\"node8\"><title>2861553034296</title>\n",
       "<polygon fill=\"none\" points=\"66.5,-730.5 66.5,-766.5 193.5,-766.5 193.5,-730.5 66.5,-730.5\" stroke=\"black\"/>\n",
       "<text font-family=\"Times New Roman,serif\" font-size=\"14.00\" text-anchor=\"middle\" x=\"130\" y=\"-744.8\">conv2d_2: Conv2D</text>\n",
       "</g>\n",
       "<!-- 2861552648992&#45;&gt;2861553034296 -->\n",
       "<g class=\"edge\" id=\"edge7\"><title>2861552648992-&gt;2861553034296</title>\n",
       "<path d=\"M130,-803.313C130,-795.289 130,-785.547 130,-776.569\" fill=\"none\" stroke=\"black\"/>\n",
       "<polygon fill=\"black\" points=\"133.5,-776.529 130,-766.529 126.5,-776.529 133.5,-776.529\" stroke=\"black\"/>\n",
       "</g>\n",
       "<!-- 2861552827416 -->\n",
       "<g class=\"node\" id=\"node9\"><title>2861552827416</title>\n",
       "<polygon fill=\"none\" points=\"0,-657.5 0,-693.5 260,-693.5 260,-657.5 0,-657.5\" stroke=\"black\"/>\n",
       "<text font-family=\"Times New Roman,serif\" font-size=\"14.00\" text-anchor=\"middle\" x=\"130\" y=\"-671.8\">batch_normalization_2: BatchNormalization</text>\n",
       "</g>\n",
       "<!-- 2861553034296&#45;&gt;2861552827416 -->\n",
       "<g class=\"edge\" id=\"edge8\"><title>2861553034296-&gt;2861552827416</title>\n",
       "<path d=\"M130,-730.313C130,-722.289 130,-712.547 130,-703.569\" fill=\"none\" stroke=\"black\"/>\n",
       "<polygon fill=\"black\" points=\"133.5,-703.529 130,-693.529 126.5,-703.529 133.5,-703.529\" stroke=\"black\"/>\n",
       "</g>\n",
       "<!-- 2861553397432 -->\n",
       "<g class=\"node\" id=\"node10\"><title>2861553397432</title>\n",
       "<polygon fill=\"none\" points=\"56,-584.5 56,-620.5 204,-620.5 204,-584.5 56,-584.5\" stroke=\"black\"/>\n",
       "<text font-family=\"Times New Roman,serif\" font-size=\"14.00\" text-anchor=\"middle\" x=\"130\" y=\"-598.8\">activation_2: Activation</text>\n",
       "</g>\n",
       "<!-- 2861552827416&#45;&gt;2861553397432 -->\n",
       "<g class=\"edge\" id=\"edge9\"><title>2861552827416-&gt;2861553397432</title>\n",
       "<path d=\"M130,-657.313C130,-649.289 130,-639.547 130,-630.569\" fill=\"none\" stroke=\"black\"/>\n",
       "<polygon fill=\"black\" points=\"133.5,-630.529 130,-620.529 126.5,-630.529 133.5,-630.529\" stroke=\"black\"/>\n",
       "</g>\n",
       "<!-- 2861553470376 -->\n",
       "<g class=\"node\" id=\"node11\"><title>2861553470376</title>\n",
       "<polygon fill=\"none\" points=\"25.5,-511.5 25.5,-547.5 234.5,-547.5 234.5,-511.5 25.5,-511.5\" stroke=\"black\"/>\n",
       "<text font-family=\"Times New Roman,serif\" font-size=\"14.00\" text-anchor=\"middle\" x=\"130\" y=\"-525.8\">max_pooling2d_2: MaxPooling2D</text>\n",
       "</g>\n",
       "<!-- 2861553397432&#45;&gt;2861553470376 -->\n",
       "<g class=\"edge\" id=\"edge10\"><title>2861553397432-&gt;2861553470376</title>\n",
       "<path d=\"M130,-584.313C130,-576.289 130,-566.547 130,-557.569\" fill=\"none\" stroke=\"black\"/>\n",
       "<polygon fill=\"black\" points=\"133.5,-557.529 130,-547.529 126.5,-557.529 133.5,-557.529\" stroke=\"black\"/>\n",
       "</g>\n",
       "<!-- 2861553609976 -->\n",
       "<g class=\"node\" id=\"node12\"><title>2861553609976</title>\n",
       "<polygon fill=\"none\" points=\"21.5,-438.5 21.5,-474.5 238.5,-474.5 238.5,-438.5 21.5,-438.5\" stroke=\"black\"/>\n",
       "<text font-family=\"Times New Roman,serif\" font-size=\"14.00\" text-anchor=\"middle\" x=\"130\" y=\"-452.8\">zero_padding2d_3: ZeroPadding2D</text>\n",
       "</g>\n",
       "<!-- 2861553470376&#45;&gt;2861553609976 -->\n",
       "<g class=\"edge\" id=\"edge11\"><title>2861553470376-&gt;2861553609976</title>\n",
       "<path d=\"M130,-511.313C130,-503.289 130,-493.547 130,-484.569\" fill=\"none\" stroke=\"black\"/>\n",
       "<polygon fill=\"black\" points=\"133.5,-484.529 130,-474.529 126.5,-484.529 133.5,-484.529\" stroke=\"black\"/>\n",
       "</g>\n",
       "<!-- 2861553966608 -->\n",
       "<g class=\"node\" id=\"node13\"><title>2861553966608</title>\n",
       "<polygon fill=\"none\" points=\"66.5,-365.5 66.5,-401.5 193.5,-401.5 193.5,-365.5 66.5,-365.5\" stroke=\"black\"/>\n",
       "<text font-family=\"Times New Roman,serif\" font-size=\"14.00\" text-anchor=\"middle\" x=\"130\" y=\"-379.8\">conv2d_3: Conv2D</text>\n",
       "</g>\n",
       "<!-- 2861553609976&#45;&gt;2861553966608 -->\n",
       "<g class=\"edge\" id=\"edge12\"><title>2861553609976-&gt;2861553966608</title>\n",
       "<path d=\"M130,-438.313C130,-430.289 130,-420.547 130,-411.569\" fill=\"none\" stroke=\"black\"/>\n",
       "<polygon fill=\"black\" points=\"133.5,-411.529 130,-401.529 126.5,-411.529 133.5,-411.529\" stroke=\"black\"/>\n",
       "</g>\n",
       "<!-- 2861553881216 -->\n",
       "<g class=\"node\" id=\"node14\"><title>2861553881216</title>\n",
       "<polygon fill=\"none\" points=\"0,-292.5 0,-328.5 260,-328.5 260,-292.5 0,-292.5\" stroke=\"black\"/>\n",
       "<text font-family=\"Times New Roman,serif\" font-size=\"14.00\" text-anchor=\"middle\" x=\"130\" y=\"-306.8\">batch_normalization_3: BatchNormalization</text>\n",
       "</g>\n",
       "<!-- 2861553966608&#45;&gt;2861553881216 -->\n",
       "<g class=\"edge\" id=\"edge13\"><title>2861553966608-&gt;2861553881216</title>\n",
       "<path d=\"M130,-365.313C130,-357.289 130,-347.547 130,-338.569\" fill=\"none\" stroke=\"black\"/>\n",
       "<polygon fill=\"black\" points=\"133.5,-338.529 130,-328.529 126.5,-338.529 133.5,-338.529\" stroke=\"black\"/>\n",
       "</g>\n",
       "<!-- 2861556464272 -->\n",
       "<g class=\"node\" id=\"node15\"><title>2861556464272</title>\n",
       "<polygon fill=\"none\" points=\"56,-219.5 56,-255.5 204,-255.5 204,-219.5 56,-219.5\" stroke=\"black\"/>\n",
       "<text font-family=\"Times New Roman,serif\" font-size=\"14.00\" text-anchor=\"middle\" x=\"130\" y=\"-233.8\">activation_3: Activation</text>\n",
       "</g>\n",
       "<!-- 2861553881216&#45;&gt;2861556464272 -->\n",
       "<g class=\"edge\" id=\"edge14\"><title>2861553881216-&gt;2861556464272</title>\n",
       "<path d=\"M130,-292.313C130,-284.289 130,-274.547 130,-265.569\" fill=\"none\" stroke=\"black\"/>\n",
       "<polygon fill=\"black\" points=\"133.5,-265.529 130,-255.529 126.5,-265.529 133.5,-265.529\" stroke=\"black\"/>\n",
       "</g>\n",
       "<!-- 2861556463992 -->\n",
       "<g class=\"node\" id=\"node16\"><title>2861556463992</title>\n",
       "<polygon fill=\"none\" points=\"25.5,-146.5 25.5,-182.5 234.5,-182.5 234.5,-146.5 25.5,-146.5\" stroke=\"black\"/>\n",
       "<text font-family=\"Times New Roman,serif\" font-size=\"14.00\" text-anchor=\"middle\" x=\"130\" y=\"-160.8\">max_pooling2d_3: MaxPooling2D</text>\n",
       "</g>\n",
       "<!-- 2861556464272&#45;&gt;2861556463992 -->\n",
       "<g class=\"edge\" id=\"edge15\"><title>2861556464272-&gt;2861556463992</title>\n",
       "<path d=\"M130,-219.313C130,-211.289 130,-201.547 130,-192.569\" fill=\"none\" stroke=\"black\"/>\n",
       "<polygon fill=\"black\" points=\"133.5,-192.529 130,-182.529 126.5,-192.529 133.5,-192.529\" stroke=\"black\"/>\n",
       "</g>\n",
       "<!-- 2861556618240 -->\n",
       "<g class=\"node\" id=\"node17\"><title>2861556618240</title>\n",
       "<polygon fill=\"none\" points=\"75.5,-73.5 75.5,-109.5 184.5,-109.5 184.5,-73.5 75.5,-73.5\" stroke=\"black\"/>\n",
       "<text font-family=\"Times New Roman,serif\" font-size=\"14.00\" text-anchor=\"middle\" x=\"130\" y=\"-87.8\">flatten_1: Flatten</text>\n",
       "</g>\n",
       "<!-- 2861556463992&#45;&gt;2861556618240 -->\n",
       "<g class=\"edge\" id=\"edge16\"><title>2861556463992-&gt;2861556618240</title>\n",
       "<path d=\"M130,-146.313C130,-138.289 130,-128.547 130,-119.569\" fill=\"none\" stroke=\"black\"/>\n",
       "<polygon fill=\"black\" points=\"133.5,-119.529 130,-109.529 126.5,-119.529 133.5,-119.529\" stroke=\"black\"/>\n",
       "</g>\n",
       "<!-- 2861557094888 -->\n",
       "<g class=\"node\" id=\"node18\"><title>2861557094888</title>\n",
       "<polygon fill=\"none\" points=\"78,-0.5 78,-36.5 182,-36.5 182,-0.5 78,-0.5\" stroke=\"black\"/>\n",
       "<text font-family=\"Times New Roman,serif\" font-size=\"14.00\" text-anchor=\"middle\" x=\"130\" y=\"-14.8\">dense_1: Dense</text>\n",
       "</g>\n",
       "<!-- 2861556618240&#45;&gt;2861557094888 -->\n",
       "<g class=\"edge\" id=\"edge17\"><title>2861556618240-&gt;2861557094888</title>\n",
       "<path d=\"M130,-73.3129C130,-65.2895 130,-55.5475 130,-46.5691\" fill=\"none\" stroke=\"black\"/>\n",
       "<polygon fill=\"black\" points=\"133.5,-46.5288 130,-36.5288 126.5,-46.5289 133.5,-46.5288\" stroke=\"black\"/>\n",
       "</g>\n",
       "</g>\n",
       "</svg>"
      ],
      "text/plain": [
       "<IPython.core.display.SVG object>"
      ]
     },
     "execution_count": 10,
     "metadata": {},
     "output_type": "execute_result"
    }
   ],
   "source": [
    "import pydot\n",
    "from IPython.display import SVG\n",
    "from keras.utils.vis_utils import model_to_dot\n",
    "from keras.utils import plot_model\n",
    "from kt_utils import *\n",
    "plot_model(happyModel, to_file='HappyModel.png')\n",
    "SVG(model_to_dot(happyModel).create(prog='dot', format='svg'))"
   ]
  },
  {
   "cell_type": "code",
   "execution_count": null,
   "metadata": {
    "collapsed": true
   },
   "outputs": [],
   "source": []
  }
 ],
 "metadata": {
  "anaconda-cloud": {},
  "kernelspec": {
   "display_name": "Python 3",
   "language": "python",
   "name": "python3"
  },
  "language_info": {
   "codemirror_mode": {
    "name": "ipython",
    "version": 3
   },
   "file_extension": ".py",
   "mimetype": "text/x-python",
   "name": "python",
   "nbconvert_exporter": "python",
   "pygments_lexer": "ipython3",
   "version": "3.6.5rc1"
  }
 },
 "nbformat": 4,
 "nbformat_minor": 2
}
